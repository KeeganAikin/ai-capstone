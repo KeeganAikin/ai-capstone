{
  "cells": [
    {
      "cell_type": "markdown",
      "metadata": {
        "id": "4LqAn9E07kw2"
      },
      "source": [
        "# Loading the dataset"
      ]
    },
    {
      "cell_type": "code",
      "execution_count": 1,
      "metadata": {
        "id": "09hP7l0I7kw6"
      },
      "outputs": [],
      "source": [
        "import pandas\n",
        "import numpy as np\n",
        "\n",
        "df = pandas.read_csv('data.csv', index_col='NUM')"
      ]
    },
    {
      "cell_type": "code",
      "execution_count": 2,
      "metadata": {
        "id": "_0ays1xR-Ui6"
      },
      "outputs": [],
      "source": [
        "del df[\"NAME\"]\n",
        "del df[\"COUNTRY\"]"
      ]
    },
    {
      "cell_type": "code",
      "execution_count": 3,
      "metadata": {
        "colab": {
          "base_uri": "https://localhost:8080/"
        },
        "id": "WCjmO3Za9nGC",
        "outputId": "451ab256-f2d9-4515-cac8-0ddf2e47a373"
      },
      "outputs": [
        {
          "name": "stdout",
          "output_type": "stream",
          "text": [
            "(41, 6)\n",
            "(11, 6)\n"
          ]
        }
      ],
      "source": [
        "from sklearn.model_selection import train_test_split, KFold, ShuffleSplit, cross_val_score, cross_validate\n",
        "\n",
        "data, test = train_test_split(\n",
        "    df,\n",
        "    test_size = 0.2,\n",
        "    random_state = 5)\n",
        "\n",
        "print(data.shape)\n",
        "print(test.shape)"
      ]
    },
    {
      "cell_type": "code",
      "execution_count": 4,
      "metadata": {
        "id": "qnIP9-iZqueH"
      },
      "outputs": [],
      "source": [
        "X = data.loc[:,['Mine Annual Production (Million Tonne)',\n",
        "       'Stripping Ratio', 'Mill Annual Production (Thousand Tonne)',\n",
        "       'Reserve Mean Grade % Cu EQU.', 'LOM']]\n",
        "y = data[\"CAPEX US$ millions\"]\n",
        "\n",
        "test_X = test.loc[:,['Mine Annual Production (Million Tonne)',\n",
        "       'Stripping Ratio', 'Mill Annual Production (Thousand Tonne)',\n",
        "       'Reserve Mean Grade % Cu EQU.', 'LOM']]\n",
        "test_y = test[\"CAPEX US$ millions\"]"
      ]
    },
    {
      "cell_type": "code",
      "execution_count": 5,
      "metadata": {
        "colab": {
          "base_uri": "https://localhost:8080/"
        },
        "id": "rb2VwBPvobBX",
        "outputId": "4dbdd61e-d939-4850-f2b3-32c4e2886861"
      },
      "outputs": [
        {
          "name": "stdout",
          "output_type": "stream",
          "text": [
            "(array([22, 21, 32, 27, 33, 29, 31, 40,  4, 14, 10, 36, 24, 26, 35, 20, 18,\n",
            "       25,  6, 13,  7, 39,  1, 16,  0, 15,  5, 11,  9,  8, 12, 37]), array([ 3,  2, 23, 38, 17, 28, 19, 34, 30]))\n",
            "(array([28, 35, 39, 22, 10, 38, 37,  2, 27, 32,  0, 15, 18,  9, 19, 40, 16,\n",
            "       20, 26, 12, 11, 17, 24,  4, 36, 21,  6,  3,  7, 30,  8, 13]), array([23, 25,  1, 29, 34,  5, 31, 14, 33]))\n",
            "(array([30, 26, 11,  2, 16,  5,  4,  6, 20, 31,  3, 13, 17,  1, 37, 24,  0,\n",
            "       14, 35, 28, 40,  7, 25, 36, 15, 23, 10, 34, 32,  8, 38, 19]), array([27, 22, 18, 12, 21,  9, 33, 29, 39]))\n",
            "(array([15, 14, 16, 34, 26,  6, 29, 21, 37, 31,  2, 30, 19, 38,  9,  1, 12,\n",
            "        0, 20, 28, 35, 24, 25, 40, 17, 23, 10, 13, 32, 18,  4,  7]), array([39,  3, 22,  8, 27,  5, 36, 33, 11]))\n",
            "(array([34,  8, 28,  4, 27,  5, 31,  2,  9, 15, 24,  6, 11, 23, 36, 38, 14,\n",
            "       17, 29, 19, 39,  0,  7, 21, 25, 32, 10, 20, 33, 13, 37, 22]), array([16, 30, 12, 40, 18,  1,  3, 26, 35]))\n",
            "(array([39, 15,  9, 26,  4, 25, 37, 32, 13,  8, 10, 18, 33, 22, 38, 19, 20,\n",
            "       35,  1, 21, 36, 11, 31, 29,  0, 40,  2,  3, 28, 16, 23, 14]), array([24,  7,  6, 30,  5, 17, 12, 27, 34]))\n",
            "(array([40, 31, 25,  1, 16, 12, 21,  4, 18,  2, 20, 10,  0, 17, 38, 28, 36,\n",
            "       15,  6,  5, 33, 24,  3, 39, 32, 34, 35,  7, 22, 26, 19, 14]), array([13, 29, 23, 30, 11, 37,  9,  8, 27]))\n",
            "(array([ 8, 25, 11,  6,  5, 12, 18, 37, 30, 13, 32,  7, 15, 39, 29, 38, 26,\n",
            "       24,  3, 35, 31, 21, 14, 23,  4, 10, 28,  9, 19, 16, 22,  0]), array([40,  1, 34,  2, 33, 27, 17, 36, 20]))\n",
            "(array([23, 14, 31,  4, 17, 13, 39, 15, 24, 28, 12,  6,  3, 38,  2, 22, 29,\n",
            "        7, 20, 37,  0, 30, 18,  1, 27, 25,  9, 40, 26, 33, 34,  5]), array([19, 21, 35,  8, 16, 10, 11, 32, 36]))\n",
            "(array([ 5,  0,  7, 31, 39, 23, 15,  6,  1, 25, 34, 35,  9, 28,  3, 32,  8,\n",
            "       37, 14, 13,  4, 29, 21,  2, 17, 20, 30, 16, 36, 11, 18, 12]), array([33, 10, 40, 26, 38, 27, 19, 22, 24]))\n",
            "(array([35, 24,  7, 15,  9, 25,  2, 20,  5, 18, 31, 30,  1, 26, 34, 17, 33,\n",
            "        0, 27,  3, 36, 23,  4, 14, 32,  6, 22, 11, 37, 28, 16, 21]), array([40, 13, 19, 12, 39,  8, 38, 10, 29]))\n",
            "(array([19,  4, 34, 27, 33,  3, 37, 16, 39, 22, 24, 14, 20, 29, 25, 32,  5,\n",
            "       11,  9, 35, 10,  1, 26, 17, 12,  0, 28,  2, 23, 40,  8, 30]), array([38, 15, 31, 13,  7, 18, 36, 21,  6]))\n",
            "(array([ 6, 22, 35, 20,  2, 24, 23,  7,  4,  1, 13, 19, 21, 37, 26,  3, 31,\n",
            "       34, 11,  0, 16,  5, 27, 30, 18, 40, 10, 36, 15, 39, 32, 12]), array([14,  8, 17, 38, 33, 29, 28, 25,  9]))\n",
            "(array([ 2, 18, 10,  4, 12,  6, 35, 28, 31,  0, 36, 16, 24,  1, 22, 25, 26,\n",
            "        3,  9, 33, 11, 13, 19, 39, 34, 14,  7, 37,  5,  8, 27, 38]), array([23, 15, 20, 21, 32, 40, 29, 17, 30]))\n",
            "(array([10, 14,  0, 36, 21,  3, 11, 23,  2, 39, 24, 18,  6, 26, 13, 20, 33,\n",
            "       31,  9, 37,  5, 22, 30, 34, 40, 32, 19, 38, 27,  7, 17, 12]), array([29, 25,  8,  4,  1, 28, 35, 15, 16]))\n",
            "(array([28, 25, 13, 12, 29,  9, 32, 11, 35, 31,  3, 27,  2, 21, 37,  1, 34,\n",
            "       26,  4, 14, 20,  7, 23, 38, 33,  0, 24, 17, 16, 18, 39, 22]), array([ 5, 10, 15, 19, 40, 36,  6, 30,  8]))\n",
            "(array([10,  0, 27, 15, 14,  3,  2, 11, 30, 18, 17, 24, 33, 26, 37, 36,  6,\n",
            "       20, 13, 29,  1, 23,  9, 25, 35,  7, 28, 21, 32, 12, 39,  5]), array([ 8, 38,  4, 16, 19, 34, 31, 40, 22]))\n",
            "(array([14, 29, 26, 17, 40,  2, 18, 15,  3, 13,  7, 30, 33, 31, 22,  1,  8,\n",
            "        0, 28, 25, 10, 19,  6, 37, 38,  4, 27, 21, 24, 39, 32, 16]), array([12, 23, 34,  5, 11, 36, 20,  9, 35]))\n",
            "(array([13, 40,  2, 38, 12, 18,  8, 39, 32, 31, 33, 28, 27, 25, 37, 30,  7,\n",
            "       11,  5,  6, 23,  1, 22, 34, 10, 21, 26,  0,  9,  4, 20, 19]), array([17, 24, 14, 35, 29,  3, 16, 15, 36]))\n",
            "(array([39, 34, 15, 23, 31, 20, 17, 19,  9, 24,  3, 40, 18, 22, 26, 12, 35,\n",
            "       21, 11, 13, 14, 30,  1,  7, 37, 32,  4,  8, 33, 27, 10,  5]), array([16, 29, 28,  2,  6, 36, 25, 38,  0]))\n",
            "(array([ 3, 22,  4, 40, 24,  5, 29,  2,  7, 23, 38, 13, 18, 36, 12,  6, 35,\n",
            "       27, 37, 21, 15, 10, 31,  0, 30, 19, 25, 16,  1, 20, 26, 32]), array([ 8, 11,  9, 33, 17, 14, 34, 28, 39]))\n",
            "(array([ 8, 10, 11,  3, 16,  6, 24, 25, 27, 38, 28,  0, 39, 19, 13,  4,  9,\n",
            "       12, 14, 37, 21, 29,  7, 31, 35, 17, 18, 30, 33,  1,  5, 32]), array([ 2, 34, 20, 26, 22, 15, 36, 40, 23]))\n",
            "(array([31, 12, 27,  0,  7,  3, 19, 29,  2, 37, 33, 17,  8, 15, 14, 22,  1,\n",
            "       20, 30, 39, 35, 13, 40,  9, 21,  5, 36, 18, 25, 24, 23, 10]), array([32,  6,  4, 26, 34, 38, 16, 28, 11]))\n",
            "(array([18, 36, 14, 25,  0, 38, 32,  7, 15, 35,  9, 12, 23,  4,  6,  8, 17,\n",
            "       24, 13,  1, 22, 40, 39, 31,  3, 26,  5, 27, 10,  2, 11, 33]), array([19, 30, 37, 21, 20, 34, 28, 16, 29]))\n",
            "(array([12,  4,  6, 19, 25, 13, 24, 32, 30,  9, 31, 39,  8,  2, 11,  3, 20,\n",
            "       23, 33,  0, 36, 22, 18, 34,  7, 35, 40, 29, 10, 15,  5, 17]), array([26, 37,  1, 14, 27, 38, 21, 16, 28]))\n",
            "(array([17, 26, 15, 30,  2, 37,  5,  8,  4, 23, 27, 33,  1, 32, 29, 12, 18,\n",
            "        3,  6,  7,  9, 20, 11, 10, 35, 39, 22,  0, 28, 31, 24, 40]), array([14, 16, 36, 34, 25, 19, 13, 21, 38]))\n",
            "(array([ 7, 31, 14,  2, 22, 25, 15,  5,  3, 32, 29,  4, 12, 19, 26, 24, 38,\n",
            "       20,  6, 33, 40,  0, 30,  8, 18, 37, 34, 21, 28, 11, 35, 13]), array([ 9, 27, 10, 36, 23, 16,  1, 17, 39]))\n",
            "(array([ 1, 21, 17, 38, 23, 40,  2, 34,  0, 39, 22, 27, 10, 30, 32, 16, 19,\n",
            "        6, 26, 37, 12, 33, 11, 15,  4, 36, 28, 35, 20, 14,  3,  9]), array([ 8, 18,  5, 29,  7, 31, 24, 25, 13]))\n",
            "(array([30, 15,  6, 27, 14, 24, 16,  8, 40, 25, 37, 10, 35, 21, 17, 31, 28,\n",
            "       19,  2, 32, 29,  5,  4, 23, 34, 18, 13,  1, 39, 20, 26,  0]), array([33,  3, 22, 38, 11, 36, 12,  9,  7]))\n",
            "(array([11, 20, 30, 33,  0, 26, 19,  7, 36, 16, 38,  9, 22, 14, 35, 34, 18,\n",
            "        5, 32, 28, 37, 40, 29,  3,  2,  6, 13, 27,  4, 39, 24, 10]), array([ 8, 25, 31, 23, 15,  1, 21, 12, 17]))\n",
            "(array([33, 11, 17,  2, 12, 25, 16, 23, 37, 28,  3, 18, 15, 38, 10, 14,  8,\n",
            "        1, 32, 29, 19,  0, 22, 21, 24,  9, 30, 36, 39, 27,  7, 35]), array([26, 34, 40,  4,  5, 20, 13,  6, 31]))\n",
            "(array([21,  8, 10, 11, 13, 18,  1,  0, 12,  2, 29,  9,  3, 31, 20, 17, 28,\n",
            "       38, 25, 32, 14, 36, 39, 35, 16, 23, 34, 26, 30, 24, 15,  4]), array([37,  5, 19,  7, 33, 22, 40, 27,  6]))\n",
            "(array([18, 23, 39,  7, 11, 19, 27, 21, 37, 16,  4, 36, 34, 13, 22, 35,  5,\n",
            "       10,  6, 30, 32, 40, 17,  3,  9, 14, 20, 28, 33, 31, 25, 15]), array([29,  1,  0, 38,  8, 26,  2, 24, 12]))\n",
            "(array([36,  4, 38, 24,  8, 18, 22, 10, 35,  5,  6, 14, 12, 15,  3,  7, 39,\n",
            "       20, 30, 29, 31, 19, 26, 32,  2, 11, 33, 40, 21,  1, 23, 17]), array([ 0, 28,  9, 25, 13, 27, 37, 16, 34]))\n",
            "(array([11, 34, 19, 22, 28, 31, 26, 15, 21,  4, 29, 25, 17, 12,  5, 35, 32,\n",
            "        1,  3,  7, 38, 24, 13, 10, 18, 40, 39, 16, 33, 14,  0, 30]), array([ 6,  9, 23, 36, 20, 37, 27,  8,  2]))\n",
            "(array([18, 21, 30, 14, 27, 23, 13, 17, 10, 29,  8, 40, 38, 16,  7, 26, 12,\n",
            "       11,  6, 28, 24,  3,  9,  0,  5, 32, 35, 31, 39, 34, 36, 20]), array([ 4, 22, 33,  2, 15,  1, 19, 25, 37]))\n",
            "(array([26, 15,  9, 34, 33, 38, 18, 39, 17, 28,  7,  3, 13,  6, 16, 37,  8,\n",
            "       11, 32, 36, 24, 14, 22, 12, 35,  1, 20, 30,  0, 21, 23, 19]), array([29,  4, 40,  5, 25, 27, 31,  2, 10]))\n",
            "(array([37, 13, 34,  5,  4, 16,  9, 35, 38, 23, 22, 18, 19, 27, 10,  7, 15,\n",
            "       29, 33, 14,  8,  0, 26, 20, 28, 21, 25, 40, 31, 39,  3, 32]), array([ 2, 11,  1, 36, 30, 24, 17, 12,  6]))\n",
            "(array([37, 27, 21, 30, 23, 32, 40,  5, 10,  6, 18, 19, 22, 29, 24, 25, 31,\n",
            "        1,  3, 17,  2,  7, 15,  8, 16,  9, 20,  4,  0, 36, 14, 38]), array([13, 28, 39, 12, 26, 11, 34, 35, 33]))\n",
            "(array([38, 10,  5, 35, 29, 37,  2,  3, 14, 18, 31, 19, 17,  8, 25, 12, 33,\n",
            "       21,  9,  1, 22, 34, 28, 16, 39, 24,  6, 23, 20, 27,  0, 15]), array([32, 30, 36,  7, 40, 13, 11,  4, 26]))\n",
            "(array([ 8, 19, 27, 26,  6, 39,  1, 12, 37,  7,  4, 18, 13, 22, 17, 24, 14,\n",
            "       33,  9, 40, 25, 31, 34, 38, 30, 20, 28,  2,  3, 29, 21, 32]), array([23, 36, 35,  5, 15, 11,  0, 10, 16]))\n",
            "(array([26,  9, 13, 24,  5, 10, 33, 34, 20, 38, 28,  0, 23,  3, 19, 40, 29,\n",
            "       37, 36, 30, 11, 21, 17,  2, 39, 22, 18, 27, 35, 31,  1, 25]), array([ 4, 16, 15, 12,  8, 14,  7, 32,  6]))\n",
            "(array([12,  1,  5, 36, 29, 11, 23, 32,  3,  9,  2,  7, 35, 31, 37, 14, 19,\n",
            "       40, 30, 17, 33, 16, 21, 13, 22, 38,  4, 25, 10, 18, 15, 28]), array([ 6, 39, 34,  0,  8, 20, 27, 26, 24]))\n",
            "(array([31,  7, 26,  5, 24, 34, 12, 40, 16, 18,  2,  0, 30, 33, 19, 37, 23,\n",
            "       29, 32, 38, 39, 20, 28,  3, 14, 22, 25, 27, 17, 11,  8, 10]), array([15, 35,  1, 21, 13, 36,  6,  4,  9]))\n",
            "(array([ 6, 20, 27, 26,  0, 24, 12, 19, 31, 36, 10, 13, 15, 30, 29, 39, 33,\n",
            "       25, 35,  1,  2,  8, 21, 11,  3, 32, 14, 16, 40, 18, 28,  4]), array([38, 34, 37,  7, 23,  5,  9, 22, 17]))\n",
            "(array([39, 32, 18, 40, 17, 29, 34,  2, 19, 31, 21,  1, 23, 20, 28, 24, 37,\n",
            "       30,  7, 14, 27, 11, 25, 16, 13,  3, 10,  5,  0,  9, 36, 33]), array([ 8, 38,  4, 22, 26, 15, 12, 35,  6]))\n",
            "(array([40, 10, 33, 35, 23, 27, 24,  4, 13, 38, 25, 39,  1, 20, 22, 29,  9,\n",
            "       28,  7, 18, 30, 14, 12,  8, 36, 21,  5,  6, 34, 31, 15, 11]), array([19, 16, 32, 17,  0,  2, 26,  3, 37]))\n",
            "(array([13,  2,  9, 30, 24, 21, 14, 11, 16, 10,  3, 23, 18, 17, 27, 20, 40,\n",
            "       28,  6, 38, 25, 32, 26,  8,  1,  7,  4, 19, 15,  0, 29, 34]), array([36, 12, 37, 39,  5, 35, 31, 33, 22]))\n",
            "(array([18,  4,  7, 11, 40, 10, 29, 23,  9, 36, 19, 28, 35, 16, 12, 34, 26,\n",
            "       21, 33,  1, 31, 15, 37, 32, 38, 25, 27, 39,  5,  0, 22, 20]), array([14,  3, 13, 30, 17, 24,  8,  2,  6]))\n",
            "(array([23, 10, 31, 15, 27, 37,  2, 16, 13, 20, 19, 28, 12,  4, 32,  1, 18,\n",
            "        0,  9,  6, 21, 22,  7, 30,  3, 36, 33, 39, 14, 34, 24, 11]), array([ 5, 17, 35, 26,  8, 25, 40, 29, 38]))\n",
            "(array([14, 40, 19,  0, 20, 32,  4, 25, 37,  1, 17, 16, 31, 15, 36, 38, 18,\n",
            "       22,  2, 39, 29, 35, 23, 12, 27, 34, 11, 33, 30,  9,  8,  5]), array([10, 21, 28, 24,  3,  7,  6, 13, 26]))\n",
            "(array([10,  1, 32, 11, 23, 20, 19, 14, 21, 17,  5, 38,  6, 27,  0,  3, 30,\n",
            "       13, 25, 36, 29, 31,  2,  9,  7, 26, 28,  4, 39, 37, 16, 24]), array([ 8, 15, 34, 18, 35, 22, 12, 33, 40]))\n",
            "(array([35,  3, 21, 19, 28, 11, 24, 34, 32,  6, 10, 29, 17, 37, 26, 14,  9,\n",
            "       39, 20,  0, 38, 25, 36,  2,  7, 22, 23, 27, 13, 30, 31, 12]), array([ 1,  5, 18, 33, 40,  4, 15, 16,  8]))\n",
            "(array([23,  2, 20, 13, 39,  1,  7, 29, 31, 34, 38, 22, 11, 32, 10, 37, 24,\n",
            "       19, 33, 12, 16, 14, 18,  8,  5, 27, 21, 30, 28, 15,  4,  6]), array([35,  9, 17,  0,  3, 26, 36, 25, 40]))\n",
            "(array([ 0,  6, 18, 24, 31,  3, 39, 29, 16,  4, 23, 20, 11, 34,  2,  7,  9,\n",
            "       36, 38, 33, 35, 15, 25, 12,  5, 14, 26, 30, 37, 32, 40, 28]), array([ 8, 17, 19, 10, 27, 22,  1, 21, 13]))\n",
            "(array([38,  8, 31, 17,  6, 21, 28, 29, 24, 13, 22,  3, 40,  2, 27, 39, 34,\n",
            "       30, 37, 25, 18,  5, 11, 26, 12, 32,  0,  1, 23, 36, 14, 35]), array([15, 19, 10,  9,  7, 33,  4, 20, 16]))\n",
            "(array([19, 15, 12, 29, 35, 23, 17, 24, 27, 10,  3, 11, 36, 28,  4, 21,  7,\n",
            "        0, 25, 34, 33, 39, 13, 30, 38,  2,  5,  9, 32, 16, 18, 37]), array([40,  6, 20,  8,  1, 22, 31, 14, 26]))\n",
            "(array([27, 35,  1, 20,  9, 17, 16, 21, 32, 18,  4, 15, 33, 28, 13, 11,  6,\n",
            "       23, 36, 25, 22,  2, 40, 39, 24, 34, 12,  8, 10,  5, 19,  3]), array([30, 37, 14, 26,  0, 38, 31,  7, 29]))\n",
            "(array([23,  1, 21, 19, 39, 31, 24, 15, 28, 38, 16, 36, 37, 26,  3, 40, 13,\n",
            "        4,  9, 34,  0,  5,  8, 10, 33,  2, 20, 12, 11, 14,  7, 29]), array([17,  6, 35, 30, 27, 32, 22, 18, 25]))\n",
            "(array([34,  7, 17, 11, 26, 22, 36, 12, 30,  4, 31, 21, 40,  5, 19, 35,  2,\n",
            "        9, 27, 24, 13,  1, 38, 10, 28, 16, 18, 29,  8, 23,  6, 33]), array([15, 25, 20, 14, 32, 37, 39,  3,  0]))\n",
            "(array([25, 12,  2, 16,  3, 31,  4, 18, 34, 14,  0, 13,  9, 36, 33, 10, 39,\n",
            "       24,  7, 26,  5, 21,  8,  1, 23, 37, 11, 19, 20, 22, 28, 40]), array([ 6, 30, 17, 38, 15, 35, 32, 27, 29]))\n",
            "(array([16, 22,  5, 31, 29, 15, 35, 23, 20, 12, 26, 17,  6, 39, 36,  3,  7,\n",
            "       27, 28, 14, 40,  1, 25, 24, 37, 10,  9, 13,  4, 21,  8, 18]), array([32, 38,  0, 33, 34, 19, 11,  2, 30]))\n",
            "(array([16, 32,  8, 14, 28, 13, 33, 26, 38, 19, 17, 35, 34, 20, 30, 36,  2,\n",
            "       31,  1, 22, 12,  0,  7, 39,  9,  3, 21,  4,  6, 11, 24, 18]), array([29,  5, 37, 27, 23, 10, 25, 15, 40]))\n",
            "(array([36, 34,  7, 10,  6,  0,  9, 28,  3, 18, 33, 38, 12,  4, 37, 19, 15,\n",
            "       16, 35, 20, 39, 14,  8, 29, 32, 17, 25, 27, 22, 13, 21,  1]), array([40, 23, 26, 31,  2, 30,  5, 11, 24]))\n",
            "(array([25, 24, 36, 23,  5, 16, 32, 38, 20, 31,  9,  1, 34,  6,  0, 30, 10,\n",
            "        3,  2, 29, 12, 28, 11, 17, 22, 18, 33, 13, 14, 19, 21,  7]), array([27,  4, 15, 26, 37,  8, 39, 40, 35]))\n",
            "(array([35, 34, 19,  5, 33, 28,  4, 23, 12, 17, 13, 40, 38, 20,  7, 11,  6,\n",
            "       15,  2, 18, 10,  0,  1, 31, 39, 14, 24,  3,  8, 32, 36, 30]), array([16, 27, 21, 26, 29, 25,  9, 22, 37]))\n",
            "(array([34, 19, 11, 30, 20, 40, 10, 33, 37, 26, 24, 15, 14, 25,  5,  3, 18,\n",
            "        2, 39, 27, 32, 22,  9, 35,  0,  6, 23, 28, 17,  4,  8, 12]), array([ 7, 29, 13, 21, 16, 31,  1, 36, 38]))\n",
            "(array([ 8, 18, 37, 12, 10, 21, 40, 27,  3, 36,  2, 26, 24, 35, 17, 31, 19,\n",
            "       30,  6, 29,  1,  7, 15, 14,  9, 22, 28,  5, 11, 25, 13, 34]), array([ 4, 38, 33, 23, 20,  0, 32, 39, 16]))\n",
            "(array([31,  2,  5, 16, 15, 37, 22, 19,  6, 39, 25, 21, 24,  7,  0, 17, 23,\n",
            "       40, 12,  4,  9, 32, 26, 13,  3, 38, 33, 30, 29, 10, 14,  8]), array([28, 20, 35,  1, 36, 18, 11, 27, 34]))\n",
            "(array([10, 22,  6, 32, 27, 16, 26, 12, 36, 17, 14, 11, 23, 21, 33, 38,  9,\n",
            "       20,  7, 35, 19, 40, 15, 30, 29,  4, 31,  8, 28, 24, 37,  0]), array([34,  5, 39, 25, 18,  3,  1,  2, 13]))\n",
            "(array([ 0, 20, 14, 18, 15, 25,  3,  2, 11, 32, 22, 24, 40, 38, 39, 31, 29,\n",
            "       21, 12, 36, 33, 27, 16, 35, 37,  9, 30, 23, 26,  6, 17, 19]), array([ 8,  4, 28, 34,  1, 10, 13,  7,  5]))\n",
            "(array([15, 11, 35, 37, 10, 39, 13, 19, 17,  8, 14,  0, 32, 20, 12, 34, 29,\n",
            "       27,  5,  7,  6,  4, 31, 30, 33, 21, 22, 23, 16, 24,  3, 36]), array([18,  1,  9,  2, 26, 40, 28, 25, 38]))\n",
            "(array([33,  9, 17,  4,  5, 26, 37, 10, 14, 31, 11, 13,  6,  8,  2, 12, 40,\n",
            "       27, 32,  1,  0, 15, 23, 21, 19, 34, 18,  3, 35, 39,  7, 38]), array([24, 30, 22, 16, 36, 20, 28, 25, 29]))\n",
            "(array([23,  7, 39, 12, 25, 31,  8, 18, 15,  5, 27, 38, 32, 20, 19, 21, 10,\n",
            "       40, 17, 29,  6,  4, 26,  9, 36, 28, 16,  0,  3, 34, 30, 13]), array([37, 24, 11, 35, 33,  2, 14, 22,  1]))\n",
            "(array([29, 13, 27, 34,  2, 37, 35, 40, 10, 19, 18,  7, 14, 17,  0, 39, 30,\n",
            "       26, 21, 11,  9, 38,  1, 20, 36, 28,  3, 24, 22, 23,  8, 25]), array([31, 15, 16,  5, 32, 12,  6, 33,  4]))\n",
            "(array([ 0, 14, 28,  9,  4, 33,  3, 17, 40, 36, 30, 10, 32,  6, 20,  5, 18,\n",
            "       19, 24, 25, 22, 31, 35, 26, 21, 11, 15, 27, 23,  8, 12, 34]), array([ 7, 29, 38, 37, 16, 39,  2,  1, 13]))\n",
            "(array([19, 31,  7, 10, 34,  0, 37,  5, 32, 29, 17, 35, 26,  4, 12, 33, 27,\n",
            "       24,  9, 11,  1, 39,  8, 21, 30,  2, 36, 18, 16, 28, 15, 23]), array([ 3,  6, 25, 40, 13, 38, 20, 14, 22]))\n",
            "(array([ 8,  4, 20, 15, 28, 36, 25, 23, 35,  0, 13,  9, 30,  6, 22, 26,  5,\n",
            "       11, 19, 29, 33, 16, 21, 40, 34, 32,  2, 14, 38, 39, 31, 37]), array([ 3, 27, 18, 17, 24,  7,  1, 10, 12]))\n",
            "(array([31,  0, 21, 20, 12, 40, 34, 28, 22, 37, 19, 10,  1, 32, 17,  7, 25,\n",
            "       36,  5, 33, 15, 35, 14, 27,  8, 39, 23,  9, 13, 29, 26, 18]), array([16,  4,  6,  3,  2, 24, 38, 30, 11]))\n",
            "(array([ 8, 25, 29, 38, 19, 13, 33, 20, 22, 15,  9, 26, 28,  0, 23,  7, 30,\n",
            "       21, 36,  6, 14, 24, 18, 39, 17,  1,  5, 10,  2,  3,  4, 37]), array([31, 34, 40, 16, 32, 11, 12, 27, 35]))\n",
            "(array([37, 11, 27, 21, 29, 25, 15, 39,  6,  1, 35,  3, 30,  7,  9, 24, 20,\n",
            "       32, 10, 38,  0,  5,  8,  2, 14, 28, 23, 31, 13, 22, 12, 34]), array([16, 17, 26, 19, 18,  4, 33, 36, 40]))\n",
            "(array([ 7,  5,  4, 27, 36, 34, 29, 32, 10, 13, 15,  2, 21,  6, 25,  8, 40,\n",
            "        3, 19, 28, 33, 24, 12, 26, 38, 23,  0, 11, 14, 17, 37, 16]), array([30,  9, 39, 35,  1, 22, 18, 31, 20]))\n",
            "(array([19, 33, 24, 40, 37, 23, 20, 10,  4, 30, 13,  7, 14, 29, 16, 35, 26,\n",
            "        2, 22,  6, 25, 21, 39, 12, 17,  9, 36, 27, 18, 32, 34,  5]), array([ 8, 15,  0, 31, 28, 11,  1, 38,  3]))\n",
            "(array([10, 33, 25, 16, 26,  1, 36, 38,  7, 22,  0, 32, 28, 30, 15, 31,  8,\n",
            "       12, 20,  9, 23, 18, 29, 37,  6,  3,  4, 19, 24, 40, 21, 39]), array([35, 13, 27, 34, 11,  5, 14, 17,  2]))\n",
            "(array([19, 33, 27, 29, 30,  8, 16,  1, 10, 32, 37, 38, 21,  5, 13, 20,  2,\n",
            "       25, 11, 39, 24, 34, 36, 28, 12, 17, 15, 26, 22, 14,  0,  9]), array([23, 35,  3,  7,  4, 31, 18, 40,  6]))\n",
            "(array([ 4, 35, 16,  2, 23, 15, 21,  8, 10, 34, 25, 37, 33, 26,  6, 27, 32,\n",
            "       39, 40, 17, 36,  5, 28, 12, 11, 18,  7, 13, 19, 30, 22, 24]), array([ 9, 20,  0,  1, 29,  3, 38, 31, 14]))\n",
            "(array([17,  9, 32, 14, 20, 23, 35,  4, 30, 22, 16,  8,  0,  2, 37, 38,  5,\n",
            "        1, 31, 26, 25, 11, 24, 39, 10, 33, 15,  7, 40,  6,  3, 18]), array([36, 34, 12, 29, 13, 21, 28, 27, 19]))\n",
            "(array([21,  5, 37, 34, 11,  0, 24, 15, 26, 17, 35, 16, 20,  4,  8, 27, 28,\n",
            "       40,  3,  6,  1, 32, 18,  7, 19, 13, 10, 22,  9, 33, 31, 14]), array([38, 36, 12, 25, 29, 39, 30, 23,  2]))\n",
            "(array([33, 22, 28, 10, 15, 35,  3, 39, 13, 34,  0, 30, 21, 23, 40, 12,  6,\n",
            "       25,  8, 24,  5, 14,  4, 26, 11, 36, 38, 20, 19, 32, 27,  1]), array([ 9, 17,  2, 16,  7, 29, 18, 31, 37]))\n",
            "(array([37, 26, 29, 20,  4, 15,  2, 32,  8, 23, 19, 40, 18, 34,  6, 28, 30,\n",
            "       39, 12, 38,  3, 31, 35,  7, 14, 16, 21, 10, 33, 13, 22, 24]), array([17, 36,  1, 25,  5,  9, 27,  0, 11]))\n",
            "(array([38, 40, 16,  2,  0, 18,  3, 25, 17,  6, 37, 30, 20, 32, 31, 21,  1,\n",
            "       27, 10, 33, 13, 39, 28, 34, 24,  5, 14, 12, 11, 35, 29, 22]), array([ 8, 15, 23, 19, 36,  7, 26,  9,  4]))\n",
            "(array([31, 23, 14, 26, 15, 22,  2, 17,  3, 33, 39, 13,  9, 21, 34, 16, 30,\n",
            "       18,  1, 19,  4,  7, 29, 20,  5, 28, 32,  8, 38, 25, 11, 40]), array([ 0, 24, 35, 27,  6, 10, 12, 37, 36]))\n",
            "(array([17, 32, 20, 40,  4, 34,  1, 28, 18, 13, 37,  5,  9,  6,  0, 26, 30,\n",
            "       10, 16, 25, 39, 21, 35, 33,  8, 31,  3,  2, 36, 27, 22, 15]), array([29, 38, 14, 24, 19,  7, 11, 23, 12]))\n",
            "(array([ 0,  2,  8, 18,  9,  6, 37, 38, 16, 27,  4, 36, 21, 20, 10, 12, 11,\n",
            "       15, 35,  7, 26, 14, 19, 17, 22, 39, 31, 40, 23, 25,  5, 29]), array([13, 32,  3,  1, 34, 33, 24, 30, 28]))\n",
            "(array([ 8, 19, 27, 10, 26, 36, 12, 24, 39,  3, 37,  6, 13, 21, 30, 11, 18,\n",
            "       32, 29, 14, 25, 33,  4, 20, 23, 17, 35, 15, 38,  5,  7, 16]), array([ 2,  1, 34,  9, 22, 31, 40, 28,  0]))\n",
            "(array([ 6,  9, 19, 30,  3, 40,  4, 11, 34, 25, 33,  1, 21,  5, 13, 15, 14,\n",
            "       27, 26,  2, 32, 29, 37,  0, 28, 23, 31, 36,  7, 10, 12, 22]), array([20,  8, 16, 17, 18, 39, 24, 38, 35]))\n",
            "(array([20, 25, 15,  4, 21, 22,  1, 12, 27,  0, 33, 38, 40, 24,  9, 16, 26,\n",
            "       32,  7, 39, 17, 35, 28, 23, 34, 19, 30, 36,  2,  5, 37, 29]), array([18,  6, 11, 31,  3,  8, 13, 14, 10]))\n",
            "(array([ 0, 30, 29,  3,  6, 21,  8, 37, 32, 34, 13, 19, 20,  9, 15, 31, 24,\n",
            "       27, 25, 33,  5, 36, 16,  1, 26, 23,  4, 11, 17, 35, 12, 10]), array([ 7, 40,  2, 28, 38, 18, 22, 14, 39]))\n",
            "(array([ 6,  8, 10, 40, 25, 37, 16, 14,  5, 35, 31, 22, 24,  2, 38, 21, 18,\n",
            "       30, 19,  7, 12, 23,  1, 15, 27, 32, 29, 20,  9, 33, 28, 17]), array([26, 39, 11, 13,  3, 34,  0,  4, 36]))\n",
            "(array([11, 24,  5, 21, 40, 36, 31,  4,  2,  9, 35,  8, 10, 19,  7, 13,  1,\n",
            "       34, 12, 26, 18, 37,  6, 25, 33, 15, 38, 20, 14, 28, 27, 17]), array([32,  0, 30, 39, 29,  3, 16, 22, 23]))\n"
          ]
        }
      ],
      "source": [
        "num_folds = 6\n",
        "\n",
        "from sklearn.model_selection import ShuffleSplit\n",
        "\n",
        "# K-Fold cross validation\n",
        "kf = KFold(n_splits=num_folds, shuffle=True, random_state=6)\n",
        "\n",
        "# Monte Carlo cross validation\n",
        "random_splits = ShuffleSplit(n_splits=100, test_size=0.2, random_state=1)\n",
        "\n",
        "for c in random_splits.split(data):\n",
        "    print(c)\n"
      ]
    },
    {
      "cell_type": "markdown",
      "metadata": {},
      "source": [
        "# Metrics"
      ]
    },
    {
      "cell_type": "code",
      "execution_count": 6,
      "metadata": {
        "id": "WQiYUB9J-vwm"
      },
      "outputs": [],
      "source": [
        "# Metrics:\n",
        "#   RMSE -> Root Mean Squared Error\n",
        "#   R2 -> Coefficient of Determination\n",
        "#   MAE -> Mean Absolute Error\n",
        "#   APE -> Absolute Error"
      ]
    },
    {
      "cell_type": "code",
      "execution_count": 7,
      "metadata": {},
      "outputs": [],
      "source": [
        "from sklearn import metrics\n",
        "\n",
        "def RMSE(model, X, y):\n",
        "    return metrics.root_mean_squared_error(y,model.predict(X))\n",
        "\n",
        "def R2(model, X, y):\n",
        "    return metrics.r2_score(y,model.predict(X))\n",
        "\n",
        "def MAE(model, X, y):\n",
        "    return metrics.mean_absolute_error(y,model.predict(X))\n",
        "\n",
        "def APE(model, X, y):\n",
        "    return metrics.mean_absolute_percentage_error(y,model.predict(X))\n",
        "\n",
        "\n",
        "def all_scores(model, X, y):\n",
        "    return {\n",
        "        \"RMSE\": RMSE(model, X, y),\n",
        "        \"R2\": R2(model, X, y),\n",
        "        \"MAE\": MAE(model, X, y),\n",
        "        \"APE\": APE(model, X, y)\n",
        "    }\n",
        "\n"
      ]
    },
    {
      "cell_type": "markdown",
      "metadata": {
        "id": "H2KhoJGF7kw9"
      },
      "source": [
        "# Models"
      ]
    },
    {
      "cell_type": "code",
      "execution_count": 8,
      "metadata": {
        "id": "aMFKZ9oMre-Z"
      },
      "outputs": [],
      "source": [
        "from sklearn.ensemble import RandomForestRegressor\n",
        "from sklearn.neural_network import MLPRegressor\n",
        "from sklearn.svm import SVR\n",
        "from sklearn.tree import DecisionTreeRegressor\n",
        "from pyswarms.single.global_best import GlobalBestPSO\n",
        "from warnings import simplefilter\n",
        "from sklearn.exceptions import ConvergenceWarning\n",
        "simplefilter(\"ignore\", category=ConvergenceWarning)"
      ]
    },
    {
      "cell_type": "code",
      "execution_count": 9,
      "metadata": {},
      "outputs": [],
      "source": [
        "# average the scores for each model\n",
        "# then use scores for the optimisation algorithms"
      ]
    },
    {
      "cell_type": "code",
      "execution_count": 10,
      "metadata": {
        "id": "4ZqlpUeb_nxq"
      },
      "outputs": [
        {
          "name": "stdout",
          "output_type": "stream",
          "text": [
            "Training Set\n",
            "RMSE 1093.3271240283605\n",
            "R2 0.5087378732687482\n",
            "MAE 723.1863246891122\n",
            "APE 0.34199746452292373\n",
            "Validation Set\n",
            "RMSE 1056.9221753630932\n",
            "R2 0.34536057281741317\n",
            "MAE 748.3002189152903\n",
            "APE 0.3506857983061111\n"
          ]
        }
      ],
      "source": [
        "# ANN\n",
        "mlp = MLPRegressor(random_state=1, early_stopping=False)\n",
        "scores = cross_validate(mlp, X, y, cv=random_splits, scoring=all_scores, return_train_score=True)\n",
        "print(\"Training Set\")\n",
        "print(\"RMSE\",np.mean(scores[\"train_RMSE\"]))\n",
        "print(\"R2\",np.mean(scores[\"train_R2\"]))\n",
        "print(\"MAE\",np.mean(scores[\"train_MAE\"]))\n",
        "print(\"APE\",np.mean(scores[\"train_APE\"]))\n",
        "print(\"Validation Set\")\n",
        "print(\"RMSE\",np.mean(scores[\"test_RMSE\"]))\n",
        "print(\"R2\",np.mean(scores[\"test_R2\"]))\n",
        "print(\"MAE\",np.mean(scores[\"test_MAE\"]))\n",
        "print(\"APE\",np.mean(scores[\"test_APE\"]))\n",
        "\n",
        "\n",
        "# Hyperparameters to optimise:\n",
        "#   -max iterations\n",
        "#   -size of hidden layer\n",
        "#   -learning rate"
      ]
    },
    {
      "cell_type": "code",
      "execution_count": 11,
      "metadata": {
        "colab": {
          "base_uri": "https://localhost:8080/"
        },
        "id": "5ve5p-W97kw-",
        "outputId": "8fcde7d6-81c4-42ce-9d28-9f68f3730f2d"
      },
      "outputs": [
        {
          "name": "stdout",
          "output_type": "stream",
          "text": [
            "dict_keys(['fit_time', 'score_time', 'test_RMSE', 'train_RMSE', 'test_R2', 'train_R2', 'test_MAE', 'train_MAE', 'test_APE', 'train_APE'])\n",
            "Training Set\n",
            "RMSE 402.7355082496763\n",
            "R2 0.9323050101636252\n",
            "MAE 290.25654687499997\n",
            "APE 0.16311119792599907\n",
            "Validation Set\n",
            "RMSE 1120.9540767572137\n",
            "R2 0.19394759836556477\n",
            "MAE 841.3343555555557\n",
            "APE 0.4650028205284237\n"
          ]
        }
      ],
      "source": [
        "# RF\n",
        "rf = RandomForestRegressor(random_state=1)\n",
        "scores = cross_validate(rf, X, y, cv=random_splits, scoring=all_scores, return_train_score=True)\n",
        "print(\"Training Set\")\n",
        "print(\"RMSE\",np.mean(scores[\"train_RMSE\"]))\n",
        "print(\"R2\",np.mean(scores[\"train_R2\"]))\n",
        "print(\"MAE\",np.mean(scores[\"train_MAE\"]))\n",
        "print(\"APE\",np.mean(scores[\"train_APE\"]))\n",
        "print(\"Validation Set\")\n",
        "print(\"RMSE\",np.mean(scores[\"test_RMSE\"]))\n",
        "print(\"R2\",np.mean(scores[\"test_R2\"]))\n",
        "print(\"MAE\",np.mean(scores[\"test_MAE\"]))\n",
        "print(\"APE\",np.mean(scores[\"test_APE\"]))\n",
        "\n",
        "\n",
        "# Hyperparameters to optimise:\n",
        "#   -number of estimators\n",
        "#   -max depth\n",
        "#   -minimum samples per leaf"
      ]
    },
    {
      "cell_type": "code",
      "execution_count": 12,
      "metadata": {
        "id": "R63mjR1D_k27"
      },
      "outputs": [
        {
          "name": "stdout",
          "output_type": "stream",
          "text": [
            "Training Set\n",
            "RMSE 1658.9660960354138\n",
            "R2 -0.11553897895728588\n",
            "MAE 1068.0117880006933\n",
            "APE 0.564871008862003\n",
            "Validation Set\n",
            "RMSE 1569.6591601845012\n",
            "R2 -0.23265393090658193\n",
            "MAE 1066.6535821860111\n",
            "APE 0.5711982248807174\n"
          ]
        }
      ],
      "source": [
        "# SVM\n",
        "svr = SVR()\n",
        "\n",
        "scores = cross_validate(svr, X, y, cv=random_splits, scoring=all_scores, return_train_score=True)\n",
        "print(\"Training Set\")\n",
        "print(\"RMSE\",np.mean(scores[\"train_RMSE\"]))\n",
        "print(\"R2\",np.mean(scores[\"train_R2\"]))\n",
        "print(\"MAE\",np.mean(scores[\"train_MAE\"]))\n",
        "print(\"APE\",np.mean(scores[\"train_APE\"]))\n",
        "print(\"Validation Set\")\n",
        "print(\"RMSE\",np.mean(scores[\"test_RMSE\"]))\n",
        "print(\"R2\",np.mean(scores[\"test_R2\"]))\n",
        "print(\"MAE\",np.mean(scores[\"test_MAE\"]))\n",
        "print(\"APE\",np.mean(scores[\"test_APE\"]))\n"
      ]
    },
    {
      "cell_type": "code",
      "execution_count": 13,
      "metadata": {
        "id": "6DfRHOEc_iBO"
      },
      "outputs": [
        {
          "name": "stdout",
          "output_type": "stream",
          "text": [
            "Training Set\n",
            "RMSE 0.0\n",
            "R2 1.0\n",
            "MAE 0.0\n",
            "APE 0.0\n",
            "Validation Set\n",
            "RMSE 1430.3229056753598\n",
            "R2 -0.5474758413342664\n",
            "MAE 1038.5677777777778\n",
            "APE 0.5366952712637929\n",
            "Hyperparameters: {'ccp_alpha': 0.0, 'criterion': 'squared_error', 'max_depth': None, 'max_features': None, 'max_leaf_nodes': None, 'min_impurity_decrease': 0.0, 'min_samples_leaf': 1, 'min_samples_split': 2, 'min_weight_fraction_leaf': 0.0, 'monotonic_cst': None, 'random_state': None, 'splitter': 'best'}\n"
          ]
        }
      ],
      "source": [
        "# CART Tree (decision tree)\n",
        "cart = DecisionTreeRegressor()\n",
        "\n",
        "scores = cross_validate(cart, X, y, cv=random_splits, scoring=all_scores, return_train_score=True)\n",
        "print(\"Training Set\")\n",
        "print(\"RMSE\",np.mean(scores[\"train_RMSE\"]))\n",
        "print(\"R2\",np.mean(scores[\"train_R2\"]))\n",
        "print(\"MAE\",np.mean(scores[\"train_MAE\"]))\n",
        "print(\"APE\",np.mean(scores[\"train_APE\"]))\n",
        "print(\"Validation Set\")\n",
        "print(\"RMSE\",np.mean(scores[\"test_RMSE\"]))\n",
        "print(\"R2\",np.mean(scores[\"test_R2\"]))\n",
        "print(\"MAE\",np.mean(scores[\"test_MAE\"]))\n",
        "print(\"APE\",np.mean(scores[\"test_APE\"]))\n",
        "\n",
        "print(\"Hyperparameters:\", cart.get_params())"
      ]
    },
    {
      "cell_type": "markdown",
      "metadata": {},
      "source": [
        "# Hyperparameter Optimisation"
      ]
    },
    {
      "cell_type": "code",
      "execution_count": 14,
      "metadata": {},
      "outputs": [],
      "source": [
        "def testANN(param):\n",
        "    # max iterations\n",
        "    # size of layers\n",
        "    # number of hidden layers\n",
        "    # learning rate (Scale??)\n",
        "    mlp = MLPRegressor(max_iter=round(param[0]), hidden_layer_sizes=[round(param[1]) for _ in range(round(param[2]))], learning_rate_init=param[3],random_state=1, early_stopping=False)\n",
        "    scores = cross_validate(mlp, X, y, cv=random_splits, scoring=all_scores, return_train_score=True)\n",
        "    return np.mean(scores[\"test_APE\"])-np.mean(scores[\"test_R2\"])\n",
        "\n",
        "def testRF(param):\n",
        "    # number of estimators\n",
        "    # max depth\n",
        "    # minimum samples per leaf\n",
        "    rf = RandomForestRegressor(n_estimators=round(param[0]), max_depth=round(param[1]), min_samples_leaf=round(param[2]))\n",
        "    scores = cross_validate(rf, X, y, cv=random_splits, scoring=all_scores, return_train_score=True)\n",
        "    return np.mean(scores[\"test_APE\"])-np.mean(scores[\"test_R2\"])\n",
        "\n",
        "def testSVR(param):\n",
        "    # C\n",
        "    # epsilon?\n",
        "    svr = SVR(C=param[0], epsilon=param[1])\n",
        "    scores = cross_validate(svr, X, y, cv=random_splits, scoring=all_scores, return_train_score=True)\n",
        "    return np.mean(scores[\"test_APE\"])-np.mean(scores[\"test_R2\"])\n",
        "\n",
        "def testDT(param):#CART Tree\n",
        "    # max depth\n",
        "    # minimum samples per leaf\n",
        "    dt = DecisionTreeRegressor(max_depth=round(param[0]), min_samples_leaf=round(param[1]))\n",
        "    scores = cross_validate(dt, X, y, cv=random_splits, scoring=all_scores, return_train_score=True)\n",
        "    return np.mean(scores[\"test_APE\"])-np.mean(scores[\"test_R2\"])\n",
        "\n",
        "\n",
        "def optimiseModel(params, modelfunc=testRF):\n",
        "    out = np.array([modelfunc(param) for param in params])\n",
        "    return out"
      ]
    },
    {
      "cell_type": "code",
      "execution_count": 15,
      "metadata": {},
      "outputs": [
        {
          "name": "stderr",
          "output_type": "stream",
          "text": [
            "2024-05-11 12:33:57,967 - pyswarms.single.global_best - INFO - Optimize for 10 iters with {'c1': 0.5, 'c2': 0.3, 'w': 0.9}\n",
            "pyswarms.single.global_best: 100%|██████████|10/10, best_cost=0.205\n",
            "2024-05-11 12:36:17,907 - pyswarms.single.global_best - INFO - Optimization finished | best cost: 0.20498160153199074, best pos: [35.09811018 12.37545063  3.96609427]\n"
          ]
        },
        {
          "name": "stdout",
          "output_type": "stream",
          "text": [
            "0.20498160153199074\n",
            "optimal parameters:  [35.09811018 12.37545063  3.96609427]\n"
          ]
        }
      ],
      "source": [
        "\n",
        "bounds = (np.array([10,  2,  1]),\n",
        "          np.array([100, 15, 10]))\n",
        "# bounds:\n",
        "#   upper + lower bounds of parameter values to test\n",
        "#   format -> (np array of upper bounds,\n",
        "#              np array of lower bounds)\n",
        "\n",
        "options = {'c1': 0.5, 'c2': 0.3, 'w': 0.9}# i think just keep these the same\n",
        "optimizer = GlobalBestPSO(n_particles=10, dimensions=3, options=options, bounds=bounds)# dimensions = number of parameters to optimise\n",
        "\n",
        "cost, pos = optimizer.optimize(optimiseModel, 100, verbose=True, modelfunc=testRF) #change this to optimise different models (e.g. testRF, testSVR, testDT)\n",
        "\n",
        "print(cost)\n",
        "print(\"optimal parameters: \",pos)\n",
        "\n",
        "# could use multiprocessing to speed it up, but then can't use ipynb"
      ]
    },
    {
      "cell_type": "code",
      "execution_count": 16,
      "metadata": {},
      "outputs": [],
      "source": [
        "np.save(\"pos_history\",np.array(optimizer.pos_history))"
      ]
    },
    {
      "cell_type": "code",
      "execution_count": 17,
      "metadata": {},
      "outputs": [
        {
          "name": "stderr",
          "output_type": "stream",
          "text": [
            "2024-05-11 12:36:18,362 - matplotlib.animation - INFO - Animation.save using <class 'matplotlib.animation.ImageMagickWriter'>\n",
            "2024-05-11 12:36:18,363 - matplotlib.animation - INFO - MovieWriter._run: running command: 'C:\\Program Files\\ImageMagick-7.1.1-Q16-HDRI\\magick.exe' -size 1000x800 -depth 8 -delay 10.0 -loop 0 rgba:- -layers OptimizePlus plot2.gif\n"
          ]
        },
        {
          "name": "stdout",
          "output_type": "stream",
          "text": [
            "10\n",
            "(5, 3)\n",
            "[[19.86495121  8.19292737  8.20004003]\n",
            " [31.53397554  9.63595461  8.65558358]\n",
            " [21.39240956  6.6064396   1.5986544 ]\n",
            " [29.85605156 13.21370245  7.45389402]\n",
            " [43.79121248 11.60752692  3.73592419]]\n",
            "10\n",
            "(5, 2)\n",
            "[[19.86495121  8.20004003]\n",
            " [31.53397554  8.65558358]\n",
            " [21.39240956  1.5986544 ]\n",
            " [29.85605156  7.45389402]\n",
            " [43.79121248  3.73592419]]\n"
          ]
        },
        {
          "data": {
            "image/png": "[encoded data removed]",
            "text/plain": [
              "<Figure size 1000x800 with 1 Axes>"
            ]
          },
          "metadata": {},
          "output_type": "display_data"
        }
      ],
      "source": [
        "# NEXT: try plotting optimisation\n",
        "from pyswarms.utils.plotters.plotters import plot_contour\n",
        "from pyswarms.utils.plotters.formatters import Designer\n",
        "import matplotlib.animation as animation\n",
        "from matplotlib import pyplot as plt\n",
        "from IPython.display import Image\n",
        "\n",
        "print(len(optimizer.pos_history))\n",
        "print(optimizer.pos_history[0].shape)\n",
        "\n",
        "print(optimizer.pos_history[0][:5])\n",
        "\n",
        "pos_history = []\n",
        "for pos_list in optimizer.pos_history:\n",
        "    pos_history.append(np.delete(pos_list,1,1))\n",
        "\n",
        "\n",
        "print(len(pos_history))\n",
        "print(pos_history[0].shape)\n",
        "print(pos_history[0][:5])\n",
        "\n",
        "anim = plot_contour(pos_history, designer=Designer(limits=[(10,100),(1,10)]))\n",
        "\n",
        "anim.save('plot.gif', writer='imagemagick', fps=10)\n"
      ]
    },
    {
      "cell_type": "markdown",
      "metadata": {
        "id": "RKiiNJ4o7kw-"
      },
      "source": [
        "# Testing"
      ]
    },
    {
      "cell_type": "code",
      "execution_count": 18,
      "metadata": {},
      "outputs": [
        {
          "name": "stdout",
          "output_type": "stream",
          "text": [
            "1222.018073909118\n",
            "0.0665409337582008\n",
            "869.5315300733723\n",
            "0.24895192297561006\n",
            "\n",
            "1102.1233378718625\n",
            "0.24072269778706246\n",
            "726.5522119035869\n",
            "0.21405864966054391\n"
          ]
        }
      ],
      "source": [
        "mlp = MLPRegressor(random_state=1, early_stopping=False)\n",
        "mlp.fit(X,y)\n",
        "print(RMSE(mlp,test_X,test_y))\n",
        "print(R2(mlp,test_X,test_y))\n",
        "print(MAE(mlp,test_X,test_y))\n",
        "print(APE(mlp,test_X,test_y))\n",
        "print()\n",
        "mlp = MLPRegressor(max_iter=400, hidden_layer_sizes=(20), learning_rate_init=0.060, random_state=1, early_stopping=False)\n",
        "mlp.fit(X,y)\n",
        "print(RMSE(mlp,test_X,test_y))\n",
        "print(R2(mlp,test_X,test_y))\n",
        "print(MAE(mlp,test_X,test_y))\n",
        "print(APE(mlp,test_X,test_y))"
      ]
    },
    {
      "cell_type": "code",
      "execution_count": 22,
      "metadata": {
        "id": "ltyXN1AK7kw_"
      },
      "outputs": [
        {
          "name": "stdout",
          "output_type": "stream",
          "text": [
            "1066.4582939848565\n",
            "0.2890684762167608\n",
            "842.6954545454545\n",
            "0.26648501637734123\n",
            "\n",
            "985.171495305571\n",
            "0.39331438890479975\n",
            "682.1335382395382\n",
            "0.207260656451822\n"
          ]
        }
      ],
      "source": [
        "rf = RandomForestRegressor(random_state=1)\n",
        "rf.fit(X,y)\n",
        "print(RMSE(rf,test_X,test_y))\n",
        "print(R2(rf,test_X,test_y))\n",
        "print(MAE(rf,test_X,test_y))\n",
        "print(APE(rf,test_X,test_y))\n",
        "print()\n",
        "rf = RandomForestRegressor(n_estimators=25, min_samples_leaf=2, random_state=1)\n",
        "rf.fit(X,y)\n",
        "print(RMSE(rf,test_X,test_y))\n",
        "print(R2(rf,test_X,test_y))\n",
        "print(MAE(rf,test_X,test_y))\n",
        "print(APE(rf,test_X,test_y))\n",
        "\n",
        "# 1066.4582939848565\n",
        "# 0.2890684762167608\n",
        "# 842.6954545454545\n",
        "# 0.26648501637734123\n",
        "\n",
        "# 1013.6850222113999\n",
        "# 0.357687936397748\n",
        "# 706.7963564213563\n",
        "# 0.21396075334556264\n"
      ]
    },
    {
      "cell_type": "code",
      "execution_count": null,
      "metadata": {},
      "outputs": [],
      "source": []
    },
    {
      "cell_type": "markdown",
      "metadata": {
        "id": "p6Qp6DrX7kw_"
      },
      "source": [
        "To add later on if time:  \n",
        "-preprocessing (outliers, etc.)  \n",
        "-ensemble methods (ANN + SVM)"
      ]
    }
  ],
  "metadata": {
    "colab": {
      "provenance": []
    },
    "kernelspec": {
      "display_name": "Python 3",
      "language": "python",
      "name": "python3"
    },
    "language_info": {
      "codemirror_mode": {
        "name": "ipython",
        "version": 3
      },
      "file_extension": ".py",
      "mimetype": "text/x-python",
      "name": "python",
      "nbconvert_exporter": "python",
      "pygments_lexer": "ipython3",
      "version": "3.9.2"
    }
  },
  "nbformat": 4,
  "nbformat_minor": 0
}
