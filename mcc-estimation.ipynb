{
  "cells": [
    {
      "cell_type": "markdown",
      "metadata": {
        "id": "4LqAn9E07kw2"
      },
      "source": [
        "# Loading the dataset"
      ]
    },
    {
      "cell_type": "code",
      "execution_count": 23,
      "metadata": {
        "id": "09hP7l0I7kw6"
      },
      "outputs": [],
      "source": [
        "import pandas\n",
        "import numpy as np\n",
        "\n",
        "df = pandas.read_csv('data.csv', index_col='NUM')"
      ]
    },
    {
      "cell_type": "code",
      "execution_count": 24,
      "metadata": {
        "id": "_0ays1xR-Ui6"
      },
      "outputs": [],
      "source": [
        "del df[\"NAME\"]\n",
        "del df[\"COUNTRY\"]"
      ]
    },
    {
      "cell_type": "code",
      "execution_count": 72,
      "metadata": {
        "colab": {
          "base_uri": "https://localhost:8080/"
        },
        "id": "WCjmO3Za9nGC",
        "outputId": "451ab256-f2d9-4515-cac8-0ddf2e47a373"
      },
      "outputs": [
        {
          "name": "stdout",
          "output_type": "stream",
          "text": [
            "(41, 6)\n",
            "(11, 6)\n"
          ]
        }
      ],
      "source": [
        "from sklearn.model_selection import train_test_split, KFold, ShuffleSplit, cross_val_score, cross_validate\n",
        "\n",
        "data, test = train_test_split(\n",
        "    df,\n",
        "    test_size = 0.2,\n",
        "    random_state = 5)\n",
        "\n",
        "print(data.shape)\n",
        "print(test.shape)"
      ]
    },
    {
      "cell_type": "code",
      "execution_count": 73,
      "metadata": {
        "id": "qnIP9-iZqueH"
      },
      "outputs": [],
      "source": [
        "X = data.loc[:,['Mine Annual Production (Million Tonne)',\n",
        "       'Stripping Ratio', 'Mill Annual Production (Thousand Tonne)',\n",
        "       'Reserve Mean Grade % Cu EQU.', 'LOM']]\n",
        "y = data[\"CAPEX US$ millions\"]\n",
        "\n",
        "test_X = data.loc[:,['Mine Annual Production (Million Tonne)',\n",
        "       'Stripping Ratio', 'Mill Annual Production (Thousand Tonne)',\n",
        "       'Reserve Mean Grade % Cu EQU.', 'LOM']]\n",
        "test_y = data[\"CAPEX US$ millions\"]"
      ]
    },
    {
      "cell_type": "code",
      "execution_count": 113,
      "metadata": {
        "colab": {
          "base_uri": "https://localhost:8080/"
        },
        "id": "rb2VwBPvobBX",
        "outputId": "4dbdd61e-d939-4850-f2b3-32c4e2886861"
      },
      "outputs": [
        {
          "name": "stdout",
          "output_type": "stream",
          "text": [
            "(array([ 1, 13,  6, 39,  4, 34, 26, 10, 30, 23, 38, 25, 36, 17,  8, 24, 18,\n",
            "       19, 27, 32, 21, 28,  3, 12,  2,  9,  0,  7, 11, 35, 33, 37]), array([22, 14, 20, 29, 16,  5, 40, 31, 15]))\n",
            "(array([11,  1, 24, 18, 31, 36, 39, 30,  2, 38, 12,  9, 32, 37,  0, 33,  8,\n",
            "        3,  7, 15, 17, 40, 28, 35,  6, 26, 13,  5, 25,  4, 20, 27]), array([29, 16, 14, 10, 23, 34, 21, 19, 22]))\n",
            "(array([38, 39,  0, 22, 13,  7,  5, 17, 40, 25,  6, 11, 10, 21, 30, 12, 29,\n",
            "       34,  1,  4, 15, 32, 33, 16,  3, 31, 24,  9, 28, 35, 27, 14]), array([37, 18, 36, 19, 26, 20, 23,  8,  2]))\n",
            "(array([17, 34, 28, 27,  5, 22, 25,  8, 33, 13,  9, 10, 15, 16, 35,  0,  1,\n",
            "       31, 21, 14, 12,  2,  7, 38, 18, 36, 32,  6, 39, 26, 11, 37]), array([23, 20, 30,  3, 24, 19, 29,  4, 40]))\n",
            "(array([ 1, 23, 21, 26, 18, 16, 25, 39, 24,  6,  8, 30, 33,  0, 32, 36, 35,\n",
            "        2,  5,  3, 22, 14, 10,  7, 15, 13, 20, 28, 40, 31, 34, 38]), array([17, 29, 11,  9, 37,  4, 27, 19, 12]))\n",
            "(array([12, 19, 21, 16, 37, 15,  2, 30, 10, 32, 22,  9, 17, 11, 33, 25,  1,\n",
            "       36,  6,  5, 14, 27, 28, 18,  4,  0, 20, 24, 13,  8, 26, 40]), array([23, 38,  7, 31, 34, 35, 29, 39,  3]))\n",
            "(array([26, 37, 17, 12, 27,  6, 30,  0, 20, 14, 34,  5, 40,  1, 29,  9, 39,\n",
            "       28,  7, 11, 16, 18, 32, 38, 19, 24, 13,  3, 21, 31, 22, 25]), array([ 4, 33, 23, 10, 36, 35,  8, 15,  2]))\n",
            "(array([29, 34, 25, 39, 19, 40,  0, 14, 24, 12, 21,  1,  8,  5, 23, 30, 17,\n",
            "        6,  7,  3,  2, 35, 32, 38, 15, 10, 28,  9, 11, 27, 22, 31]), array([18, 20, 26,  4, 16, 33, 13, 37, 36]))\n",
            "(array([21, 29,  4, 32, 24,  5, 35, 20, 36, 37,  7, 27, 11, 14,  8,  6, 23,\n",
            "       16,  9, 25, 38,  1, 30,  0, 22, 28, 10, 12, 13, 15,  2, 26]), array([34, 18, 39, 17, 19, 33,  3, 40, 31]))\n",
            "(array([16, 40, 30,  4, 23, 27, 28,  3, 22, 19,  2, 15, 24, 10, 26, 25,  1,\n",
            "       34, 11, 17, 18, 12,  0, 37,  9, 36, 32, 35,  6, 21, 31, 38]), array([20,  7, 29, 33, 14,  8,  5, 13, 39]))\n",
            "(array([ 2, 10, 12, 28, 26, 37,  8, 22, 15, 27, 36, 20, 19, 39, 13, 11, 16,\n",
            "       32, 38, 35,  9,  3,  4, 25,  5, 24, 31, 29, 23, 40, 17,  1]), array([30,  7,  6, 34,  0, 21, 18, 33, 14]))\n",
            "(array([40,  8, 31, 20, 23, 29,  3, 15, 33,  0, 21,  2, 35,  1, 38, 17, 22,\n",
            "        5, 34,  4, 16, 11, 28,  6, 30, 14, 18, 32, 25, 10, 37, 19]), array([24, 12,  7, 36, 39, 27,  9, 13, 26]))\n",
            "(array([19,  6, 16,  4, 10, 15, 31, 37, 20, 25, 22,  7, 12, 17, 36, 34, 38,\n",
            "       35, 29, 13, 26, 18, 30,  2, 24,  1, 27,  5, 11, 40,  8, 33]), array([ 3,  9, 32, 39, 28, 14, 21, 23,  0]))\n",
            "(array([31, 14, 23,  6,  0, 39, 29,  1, 37, 25, 10,  5,  7, 24, 21, 15,  4,\n",
            "       32,  9, 34, 27, 33, 18, 12, 22, 30,  8, 38, 36, 20, 28, 13]), array([ 2, 35, 11, 40,  3, 17, 26, 19, 16]))\n",
            "(array([ 9, 35,  4,  5, 33,  2, 12, 26, 22, 25, 38,  0, 20, 40, 17, 32, 19,\n",
            "       11,  1, 10, 31, 27, 14, 21, 30, 29,  8, 16, 15, 37,  7, 28]), array([24,  3, 34, 23,  6, 13, 39, 18, 36]))\n",
            "(array([13, 37, 12, 35, 11,  9, 24, 32, 30, 23,  6, 31, 33, 17, 21,  3, 20,\n",
            "       15,  0, 39, 27,  7,  1, 38, 34,  8, 28, 29, 10, 26, 40, 25]), array([14, 18, 16, 19,  5,  4,  2, 22, 36]))\n",
            "(array([ 5, 38,  4, 28, 31, 29, 30,  6, 12, 22,  0, 19, 14, 11, 13, 10, 23,\n",
            "       36,  8, 35, 32, 40, 27, 21,  7,  1, 34, 26,  3, 20, 15, 37]), array([18, 39, 25, 33,  9, 17,  2, 16, 24]))\n",
            "(array([40, 18,  8, 21, 26, 31, 39, 20, 34,  9, 19, 30, 15, 35,  3, 38,  0,\n",
            "       14, 23, 36,  7,  4, 25, 17, 28,  5,  2, 33, 24, 10, 16, 13]), array([11, 22, 29, 12, 27, 32, 37,  1,  6]))\n",
            "(array([14, 26, 28, 27,  6,  5, 23, 24, 36,  7, 30, 35,  4,  0, 25,  9, 18,\n",
            "        3, 12,  1, 22, 10, 11, 13,  8, 33, 32, 31, 17, 15, 29, 20]), array([19, 16, 37, 34, 39,  2, 38, 40, 21]))\n",
            "(array([11, 32,  1, 38,  3,  5, 25, 36, 33,  2, 13, 29, 21,  9, 35,  0, 16,\n",
            "       27, 30, 12,  6, 28, 18,  7, 19, 14,  4, 23,  8, 24, 22, 34]), array([10, 15, 40, 26, 37, 31, 17, 39, 20]))\n",
            "(array([30, 28, 10,  0,  6, 29,  3, 11,  7,  5, 37,  2, 32,  9, 16, 18, 27,\n",
            "       12, 36, 24,  4, 34, 31, 15,  8, 38, 20, 33, 17, 35, 22, 13]), array([19,  1, 23, 39, 14, 26, 21, 25, 40]))\n",
            "(array([15,  7, 18,  8, 31,  0,  3,  5, 10, 22, 24,  4, 34, 35, 11, 23, 29,\n",
            "        1,  2, 30, 16, 17, 13, 14, 39, 37,  6, 25, 36, 26, 19, 27]), array([33, 38, 40, 21, 28, 20,  9, 12, 32]))\n",
            "(array([ 5, 24, 32,  2, 23, 37, 11, 26,  9, 13, 21, 38, 29, 36, 22,  1, 20,\n",
            "       10, 28, 12, 15,  7, 30, 31,  3, 25,  6, 27, 18, 14, 39,  4]), array([33, 17, 16, 40, 34,  0, 19, 35,  8]))\n",
            "(array([34,  3,  5, 30, 35,  1, 10, 32, 40,  2, 39, 20,  0, 38, 33, 21, 36,\n",
            "        7, 27, 24,  6, 17, 15, 12, 22, 18, 19,  9,  4, 26, 31, 29]), array([14, 16, 28, 37, 11,  8, 13, 25, 23]))\n",
            "(array([15, 25, 30, 24, 12,  1, 37,  5, 31, 26,  4, 19, 36, 16, 13,  9, 20,\n",
            "        0, 27,  2, 33, 18,  3, 32, 28, 38, 22, 10, 11, 21, 40, 34]), array([39, 35,  8,  7, 29, 14,  6, 23, 17]))\n",
            "(array([33, 40, 37, 23, 28,  4, 29, 36, 35, 17, 19, 13,  7, 10,  9, 16, 34,\n",
            "       22, 20, 32,  1, 11, 12,  0, 38, 18, 27,  5,  3, 14, 21, 24]), array([30,  6, 25, 31, 26, 15, 39,  2,  8]))\n",
            "(array([15,  5, 37,  6,  1, 36,  4, 24, 19, 30, 28, 35, 18, 13, 16, 14, 11,\n",
            "       21, 20, 23, 39,  0, 10, 22,  8, 38, 34,  9, 17, 26, 12,  7]), array([33, 40, 29,  2, 27, 32,  3, 31, 25]))\n",
            "(array([ 9, 14, 11, 18,  2, 20, 30, 17,  0, 26, 35, 21, 23,  1, 36, 16, 25,\n",
            "       28, 40, 29,  4, 13, 31, 19, 10, 24,  7, 12, 39, 34, 15, 37]), array([32, 38, 22,  3,  6,  8, 27,  5, 33]))\n",
            "(array([ 0, 33, 31,  5,  4, 22,  8, 40, 35,  7,  1, 34, 21, 24, 30, 26, 20,\n",
            "       37, 27, 28, 11, 36, 19, 12,  3, 17, 18, 10,  2, 29, 38, 15]), array([14, 39,  6, 32, 23, 13, 16,  9, 25]))\n",
            "(array([ 0, 21, 16, 28,  3, 40,  8, 32, 20, 26, 15, 25,  2, 11,  1, 13, 33,\n",
            "       29,  5, 38, 23, 36, 27,  4, 22, 10,  7, 39, 17, 31, 12, 19]), array([14, 18, 24, 37, 35, 30,  6,  9, 34]))\n",
            "(array([17,  7,  6, 31, 34, 28, 32, 10, 26, 16, 33, 13, 27, 21, 24,  9, 40,\n",
            "        8, 12,  0,  5,  4, 19, 35, 30, 25, 29, 22, 37, 18, 20, 38]), array([39, 14,  1,  2, 23,  3, 36, 15, 11]))\n",
            "(array([ 3,  0, 13, 29, 31, 20, 11, 36, 32,  7, 12,  9, 25, 19, 10, 18, 24,\n",
            "       35, 28, 26, 34, 15, 23,  2, 40,  6,  4,  5, 16, 33,  8, 38]), array([21, 22, 37, 39, 30, 27,  1, 14, 17]))\n",
            "(array([40, 35, 27,  6, 33,  7, 13,  5,  9, 25, 34, 30, 21, 29, 14,  2, 39,\n",
            "       23, 38, 20, 28,  3, 36, 18, 37, 15, 24,  4, 31, 10,  1, 11]), array([19, 22, 32, 17, 12,  8, 16, 26,  0]))\n",
            "(array([ 3, 30, 20, 18, 39, 17,  6, 34,  5, 24, 27, 22, 29,  9, 26, 25,  2,\n",
            "        1,  4, 36, 31, 38, 35,  7, 11, 12, 19, 10, 16, 40,  0, 23]), array([37, 13,  8, 32, 33, 21, 28, 14, 15]))\n",
            "(array([ 7, 22, 28, 40, 27, 35, 14, 17,  6,  4, 11, 20,  5, 29, 15, 21, 16,\n",
            "       39, 24, 34, 30, 18, 31, 25,  3, 10, 12, 23, 37, 33,  1, 13]), array([ 9, 26, 38, 19,  8,  0,  2, 32, 36]))\n",
            "(array([37, 13,  7, 39, 14, 34,  8, 20, 19,  3,  2,  4, 21, 18, 28, 38, 12,\n",
            "       29, 32, 31, 36, 24, 23,  1, 15, 22,  5, 26, 16, 33, 35, 27]), array([ 9, 17, 10, 11,  0, 30,  6, 40, 25]))\n",
            "(array([35,  9,  7, 24, 21, 28, 14, 40, 39,  4,  2, 36, 16, 11,  3,  6, 27,\n",
            "        8, 30, 38, 23, 19, 37, 26,  5, 25, 12, 20, 34, 10, 33, 29]), array([17, 22,  1, 13, 31, 15, 32, 18,  0]))\n",
            "(array([11, 18, 24,  2, 39,  3, 40,  4, 37, 10, 26, 35, 28, 36, 27,  0, 25,\n",
            "       15,  9,  8,  1, 14, 32, 20,  5, 31, 22, 21, 29, 38, 34, 30]), array([12, 19,  7, 13, 16,  6, 17, 33, 23]))\n",
            "(array([21, 28,  3, 38, 19, 22, 12, 30, 16, 27,  2,  0, 13, 37, 33,  4, 32,\n",
            "        6, 24, 14, 36, 39, 18,  7,  1, 34, 10,  8, 20, 29, 31,  9]), array([35, 25,  5, 40, 23, 26, 15, 11, 17]))\n",
            "(array([28,  4, 32, 25,  9, 37, 34,  3, 26, 21, 27,  7, 29,  8, 13, 12, 11,\n",
            "       15, 33, 17, 23,  2, 40,  0, 10, 14, 19, 39, 30, 31, 22, 18]), array([35,  5,  1,  6, 16, 38, 20, 24, 36]))\n"
          ]
        }
      ],
      "source": [
        "num_folds = 6\n",
        "\n",
        "from sklearn.model_selection import ShuffleSplit\n",
        "\n",
        "# K-Fold cross validation\n",
        "kf = KFold(n_splits=num_folds, shuffle=True, random_state=6)\n",
        "\n",
        "# Monte Carlo cross validation\n",
        "random_splits = ShuffleSplit(n_splits=40, test_size=0.2)\n",
        "\n",
        "for c in random_splits.split(data):\n",
        "    print(c)\n",
        "\n",
        "\n"
      ]
    },
    {
      "cell_type": "markdown",
      "metadata": {},
      "source": [
        "# Metrics"
      ]
    },
    {
      "cell_type": "code",
      "execution_count": null,
      "metadata": {
        "id": "WQiYUB9J-vwm"
      },
      "outputs": [],
      "source": [
        "# Metrics:\n",
        "#   RMSE -> Root Mean Squared Error\n",
        "#   R2 -> Coefficient of Determination\n",
        "#   MAE -> Mean Absolute Error\n",
        "#   APE -> Absolute Error"
      ]
    },
    {
      "cell_type": "code",
      "execution_count": 106,
      "metadata": {},
      "outputs": [],
      "source": [
        "from sklearn import metrics\n",
        "\n",
        "def RMSE(model, X, y):\n",
        "    return metrics.root_mean_squared_error(y,model.predict(X))\n",
        "\n",
        "def R2(model, X, y):\n",
        "    return metrics.r2_score(y,model.predict(X))\n",
        "\n",
        "def MAE(model, X, y):\n",
        "    return metrics.mean_absolute_error(y,model.predict(X))\n",
        "\n",
        "def APE(model, X, y):\n",
        "    return metrics.mean_absolute_percentage_error(y,model.predict(X))\n",
        "\n",
        "\n",
        "def all_scores(model, X, y):\n",
        "    return {\n",
        "        \"RMSE\": RMSE(model, X, y),\n",
        "        \"R2\": R2(model, X, y),\n",
        "        \"MAE\": MAE(model, X, y),\n",
        "        \"APE\": APE(model, X, y)\n",
        "    }\n",
        "\n"
      ]
    },
    {
      "cell_type": "markdown",
      "metadata": {
        "id": "H2KhoJGF7kw9"
      },
      "source": [
        "# Training, Validation, Optimisation"
      ]
    },
    {
      "cell_type": "code",
      "execution_count": 103,
      "metadata": {
        "id": "aMFKZ9oMre-Z"
      },
      "outputs": [],
      "source": [
        "from sklearn.ensemble import RandomForestRegressor\n",
        "from sklearn.neural_network import MLPRegressor\n"
      ]
    },
    {
      "cell_type": "code",
      "execution_count": 116,
      "metadata": {
        "colab": {
          "base_uri": "https://localhost:8080/"
        },
        "id": "5ve5p-W97kw-",
        "outputId": "8fcde7d6-81c4-42ce-9d28-9f68f3730f2d"
      },
      "outputs": [
        {
          "name": "stdout",
          "output_type": "stream",
          "text": [
            "RMSE 962.5522931395566\n",
            "R2 -0.02112674944857823\n",
            "MAE 713.7876587301588\n",
            "APE 0.4046233844160962\n",
            "\n",
            "RMSE 1141.7081792163547\n",
            "R2 0.35469199987395583\n",
            "MAE 836.5781388888888\n",
            "APE 0.47315223413065316\n"
          ]
        }
      ],
      "source": [
        "# RF\n",
        "rf = RandomForestRegressor()\n",
        "scores = cross_validate(rf, X, y, cv=kf, scoring=all_scores)\n",
        "print(\"RMSE\",np.mean(scores[\"test_RMSE\"]))\n",
        "print(\"R2\",np.mean(scores[\"test_R2\"]))\n",
        "print(\"MAE\",np.mean(scores[\"test_MAE\"]))\n",
        "print(\"APE\",np.mean(scores[\"test_APE\"]))\n",
        "\n",
        "print()\n",
        "rf = RandomForestRegressor()\n",
        "scores = cross_validate(rf, X, y, cv=random_splits, scoring=all_scores)\n",
        "print(\"RMSE\",np.mean(scores[\"test_RMSE\"]))\n",
        "print(\"R2\",np.mean(scores[\"test_R2\"]))\n",
        "print(\"MAE\",np.mean(scores[\"test_MAE\"]))\n",
        "print(\"APE\",np.mean(scores[\"test_APE\"]))\n",
        "\n",
        "\n",
        "# average the scores for the model\n",
        "# then use scores for the optimisation algorithms"
      ]
    },
    {
      "cell_type": "code",
      "execution_count": 117,
      "metadata": {
        "id": "4ZqlpUeb_nxq"
      },
      "outputs": [
        {
          "name": "stdout",
          "output_type": "stream",
          "text": [
            "RMSE 988.980514181296\n",
            "R2 0.23908870446559752\n",
            "MAE 757.3432222222222\n",
            "APE 0.4317066674296779\n"
          ]
        }
      ],
      "source": [
        "# ANN\n",
        "mlp = MLPRegressor(max_iter=500, random_state=1)\n",
        "scores = cross_validate(rf, X, y, cv=random_splits, scoring=all_scores)\n",
        "print(\"RMSE\",np.mean(scores[\"test_RMSE\"]))\n",
        "print(\"R2\",np.mean(scores[\"test_R2\"]))\n",
        "print(\"MAE\",np.mean(scores[\"test_MAE\"]))\n",
        "print(\"APE\",np.mean(scores[\"test_APE\"]))"
      ]
    },
    {
      "cell_type": "code",
      "execution_count": null,
      "metadata": {
        "id": "R63mjR1D_k27"
      },
      "outputs": [],
      "source": [
        "# SVM"
      ]
    },
    {
      "cell_type": "code",
      "execution_count": null,
      "metadata": {
        "id": "6DfRHOEc_iBO"
      },
      "outputs": [],
      "source": [
        "# CART Tree (decision tree)"
      ]
    },
    {
      "cell_type": "code",
      "execution_count": null,
      "metadata": {
        "id": "tARi1vMj_y7N"
      },
      "outputs": [],
      "source": [
        "# Also look at what hyperparameters we can optimise for each."
      ]
    },
    {
      "cell_type": "markdown",
      "metadata": {
        "id": "RKiiNJ4o7kw-"
      },
      "source": [
        "# Testing"
      ]
    },
    {
      "cell_type": "code",
      "execution_count": null,
      "metadata": {
        "id": "ltyXN1AK7kw_"
      },
      "outputs": [],
      "source": [
        "#use optimal hyperparameters to train model, then test"
      ]
    },
    {
      "cell_type": "markdown",
      "metadata": {
        "id": "p6Qp6DrX7kw_"
      },
      "source": [
        "To add later on if time:  \n",
        "-preprocessing (outliers, etc.)  \n",
        "-ensemble methods (ANN + SVM)"
      ]
    }
  ],
  "metadata": {
    "colab": {
      "provenance": []
    },
    "kernelspec": {
      "display_name": "Python 3",
      "language": "python",
      "name": "python3"
    },
    "language_info": {
      "codemirror_mode": {
        "name": "ipython",
        "version": 3
      },
      "file_extension": ".py",
      "mimetype": "text/x-python",
      "name": "python",
      "nbconvert_exporter": "python",
      "pygments_lexer": "ipython3",
      "version": "3.9.2"
    }
  },
  "nbformat": 4,
  "nbformat_minor": 0
}
