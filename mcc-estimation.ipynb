{
  "cells": [
    {
      "cell_type": "markdown",
      "metadata": {
        "id": "4LqAn9E07kw2"
      },
      "source": [
        "# Loading the dataset"
      ]
    },
    {
      "cell_type": "code",
      "execution_count": 2,
      "metadata": {
        "id": "09hP7l0I7kw6"
      },
      "outputs": [],
      "source": [
        "import pandas\n",
        "import numpy as np\n",
        "\n",
        "df = pandas.read_csv('data.csv', index_col='NUM')"
      ]
    },
    {
      "cell_type": "code",
      "execution_count": 3,
      "metadata": {
        "id": "_0ays1xR-Ui6"
      },
      "outputs": [],
      "source": [
        "del df[\"NAME\"]\n",
        "del df[\"COUNTRY\"]"
      ]
    },
    {
      "cell_type": "code",
      "execution_count": 4,
      "metadata": {
        "colab": {
          "base_uri": "https://localhost:8080/"
        },
        "id": "WCjmO3Za9nGC",
        "outputId": "451ab256-f2d9-4515-cac8-0ddf2e47a373"
      },
      "outputs": [
        {
          "name": "stdout",
          "output_type": "stream",
          "text": [
            "(41, 6)\n",
            "(11, 6)\n"
          ]
        }
      ],
      "source": [
        "from sklearn.model_selection import train_test_split, KFold, ShuffleSplit, cross_val_score, cross_validate\n",
        "\n",
        "data, test = train_test_split(\n",
        "    df,\n",
        "    test_size = 0.2,\n",
        "    random_state = 5)\n",
        "\n",
        "print(data.shape)\n",
        "print(test.shape)"
      ]
    },
    {
      "cell_type": "code",
      "execution_count": 5,
      "metadata": {
        "id": "qnIP9-iZqueH"
      },
      "outputs": [],
      "source": [
        "X = data.loc[:,['Mine Annual Production (Million Tonne)',\n",
        "       'Stripping Ratio', 'Mill Annual Production (Thousand Tonne)',\n",
        "       'Reserve Mean Grade % Cu EQU.', 'LOM']]\n",
        "y = data[\"CAPEX US$ millions\"]\n",
        "\n",
        "test_X = data.loc[:,['Mine Annual Production (Million Tonne)',\n",
        "       'Stripping Ratio', 'Mill Annual Production (Thousand Tonne)',\n",
        "       'Reserve Mean Grade % Cu EQU.', 'LOM']]\n",
        "test_y = data[\"CAPEX US$ millions\"]"
      ]
    },
    {
      "cell_type": "code",
      "execution_count": 32,
      "metadata": {
        "colab": {
          "base_uri": "https://localhost:8080/"
        },
        "id": "rb2VwBPvobBX",
        "outputId": "4dbdd61e-d939-4850-f2b3-32c4e2886861"
      },
      "outputs": [
        {
          "name": "stdout",
          "output_type": "stream",
          "text": [
            "(array([ 3,  9, 39, 21, 26, 11, 16,  5, 24, 10,  2, 31,  0, 23, 15, 25, 20,\n",
            "       34, 17,  4, 40, 32, 37, 33,  7,  8, 29, 18, 30, 36, 28,  1]), array([19,  6, 22, 38, 27, 14, 13, 12, 35]))\n",
            "(array([14, 22, 28,  8,  0, 35, 29, 31,  5, 36, 25,  2, 19, 10, 11,  9, 38,\n",
            "       15,  7, 34, 27, 33, 40, 24, 17,  1, 21, 18,  6, 16,  3, 12]), array([26, 13, 20, 39, 37, 32, 30, 23,  4]))\n",
            "(array([13,  5,  4, 20, 19,  1, 24, 14, 34, 33, 32, 38, 28, 30, 26,  3,  9,\n",
            "       18, 17, 36, 27, 16,  0,  2,  7, 29, 12, 40, 35, 37,  6, 11]), array([10, 31, 23, 25,  8, 21, 22, 39, 15]))\n",
            "(array([ 4, 35,  1,  8, 26, 11,  0, 19, 29, 20, 28, 31, 21,  9,  2, 22, 16,\n",
            "       38, 24, 36, 14, 13,  7, 17,  3, 40, 34, 27, 30, 18, 15, 10]), array([23, 33, 37, 32,  5,  6, 39, 12, 25]))\n",
            "(array([38, 34,  7, 18,  9,  3, 37, 31,  0, 11,  6,  8,  5, 14, 19, 28, 13,\n",
            "       23, 30,  4, 26, 27, 22, 24, 21,  1,  2, 32, 25, 33, 16, 35]), array([10, 12, 39, 40, 36, 29, 17, 20, 15]))\n",
            "(array([ 8,  7,  9, 17, 34,  1, 29, 16, 24, 31, 19, 26,  3, 11, 22, 18, 12,\n",
            "       40, 15, 20,  6, 38, 33,  2, 13, 30, 10, 23, 39,  4, 36, 21]), array([28, 32,  0, 27, 14, 37,  5, 35, 25]))\n",
            "(array([23, 16,  9,  1,  2,  0,  7, 10, 34, 11, 21, 36, 28, 37,  4, 22,  6,\n",
            "       25, 32, 40, 27, 13, 19, 29, 35, 39,  3,  8, 17, 30, 12, 20]), array([14,  5, 24, 18, 15, 38, 31, 26, 33]))\n",
            "(array([27, 19, 32,  2, 40, 37, 26, 34,  9, 36,  7, 31, 23, 21, 12,  0, 10,\n",
            "       39, 13, 14, 25, 38,  3,  8,  1, 28,  6,  4, 20, 30, 16, 22]), array([15, 35, 33,  5, 11, 24, 17, 29, 18]))\n",
            "(array([34,  5, 10, 23, 32, 16,  3, 37, 19,  0, 17,  9, 31, 13, 29, 20, 12,\n",
            "       38,  2,  8,  6, 21, 35, 11, 40,  4,  7, 27, 26, 30, 15, 18]), array([33, 28, 39, 14,  1, 25, 22, 24, 36]))\n",
            "(array([17, 25,  2, 11, 37, 20, 14, 30, 40,  0, 19, 23, 39,  3, 32,  6, 38,\n",
            "       18, 16,  5, 36,  8, 31, 12, 28,  7, 29, 24, 15, 27,  4, 26]), array([ 1, 22, 34, 33, 35,  9, 13, 21, 10]))\n",
            "(array([19, 14, 38, 26, 16, 23, 37, 29, 33,  3, 22, 25,  7, 21, 30, 13, 34,\n",
            "       12,  4,  0,  1, 35, 27, 40, 32, 28,  8, 20, 39, 31,  2,  6]), array([36, 11,  5,  9, 15, 10, 17, 24, 18]))\n",
            "(array([23, 21, 19,  5, 18,  8, 16, 34, 15, 28, 20, 27, 13, 12, 17, 26, 35,\n",
            "       10,  4, 36,  6, 37, 29, 31,  1, 30, 32, 14,  0,  9, 38, 25]), array([33,  7, 40, 24, 11, 22,  3, 39,  2]))\n",
            "(array([ 3, 40, 18, 16, 36,  8, 35, 20, 23, 31, 37, 14,  4, 26, 13, 34, 12,\n",
            "       21, 39, 10, 24, 33,  7, 22, 32, 27, 17,  2, 30,  1,  6,  9]), array([11,  5,  0, 25, 19, 29, 15, 28, 38]))\n",
            "(array([ 6, 27, 35, 10,  7,  1, 13, 23, 40, 32, 36, 33,  9, 25, 30, 26, 11,\n",
            "       34, 37, 31, 39, 17, 21, 24,  8, 22, 16, 38,  0, 28,  2, 14]), array([15, 12, 18,  5, 29,  3, 19,  4, 20]))\n",
            "(array([15, 35, 29, 22,  0, 31, 21,  8,  2,  4, 39,  7, 17, 20, 33,  5, 16,\n",
            "       27,  6, 26, 24, 25, 36,  3, 13, 30, 32, 11, 38, 18, 10, 14]), array([34, 37,  1, 19, 28, 12,  9, 23, 40]))\n",
            "(array([37, 15,  5, 32, 26, 33, 10,  7, 21, 14, 17, 11, 22, 40,  1, 13,  8,\n",
            "       24, 28, 12,  0, 35, 27, 20, 25, 34, 29, 38, 19, 39, 36, 30]), array([23, 31,  4, 18,  2,  6, 16,  3,  9]))\n",
            "(array([20, 11,  2,  9, 33, 21,  0, 19, 38, 17,  6, 15, 37, 12, 18, 29, 16,\n",
            "       39, 35,  4, 30, 40, 27, 34, 36, 25, 14, 24,  7,  8, 23, 31]), array([10, 26, 22,  5,  3,  1, 13, 32, 28]))\n",
            "(array([11, 39, 24, 12, 29,  4,  5,  3, 30,  7, 26, 35, 16, 38, 37, 19, 21,\n",
            "       36,  8, 33,  2, 27, 18, 31,  1, 20,  9,  6, 28, 22, 14, 32]), array([23, 15, 40, 13, 34, 25,  0, 17, 10]))\n",
            "(array([23, 18, 21, 32, 24, 28, 35, 33, 15, 40,  4, 31,  0,  3, 13,  6,  1,\n",
            "       17, 34, 29, 26, 16, 39,  8, 11,  2, 37, 20, 10, 14, 22, 19]), array([30, 25, 27,  5, 12, 38,  7,  9, 36]))\n",
            "(array([18,  4, 33, 26, 24, 39, 15, 20,  5,  2,  9,  8, 25, 22, 30, 13,  1,\n",
            "       12, 17,  7, 40, 23, 11, 31,  6, 28, 19, 37, 29, 34,  0, 21]), array([10, 32, 38,  3, 36, 27, 35, 16, 14]))\n",
            "(array([12,  9, 31, 26,  1,  4,  3,  6, 23, 37,  0, 32, 27, 39, 21, 36, 19,\n",
            "       14, 15,  7, 35,  8, 29, 25, 18, 16, 11, 13, 38, 33,  2, 40]), array([34,  5, 10, 24, 22, 30, 17, 28, 20]))\n",
            "(array([29, 35, 18, 31,  4,  8,  7, 11, 23,  2, 33, 25,  0, 17, 26, 19, 36,\n",
            "       13,  1,  6, 16, 12, 30, 15, 34, 38, 39, 22,  5, 20, 40,  9]), array([14,  3, 37, 10, 32, 27, 28, 21, 24]))\n",
            "(array([26, 34, 14,  2, 13, 15, 25, 28,  6, 11, 31,  3, 33, 30, 35, 23,  7,\n",
            "        9, 17, 19,  5, 21, 37, 39, 27, 18, 12, 16,  1, 22, 24, 20]), array([ 4, 29, 38,  8, 10, 40, 32, 36,  0]))\n",
            "(array([13, 16,  3,  0, 10, 17, 30, 34,  5,  4, 24, 36, 22, 27, 20,  7, 29,\n",
            "       38, 21, 37, 39, 11, 40, 31, 19,  6, 35, 23, 18, 28, 25,  2]), array([15,  9, 14, 32, 33,  1, 12,  8, 26]))\n",
            "(array([15, 23, 21, 29, 40, 26, 37, 28, 18, 14, 34, 19,  3,  7, 22, 31, 20,\n",
            "        6, 35, 10, 38, 24,  0, 39, 16,  4, 27, 33, 13,  2, 17, 32]), array([ 8, 11, 36,  9,  1, 12, 30,  5, 25]))\n",
            "(array([11, 22, 21, 19,  2, 38, 39, 29, 33, 24, 35,  8, 34,  4, 17, 23, 36,\n",
            "       31, 27, 25, 40, 20,  9, 13, 37,  3,  7, 26,  5,  0, 32, 14]), array([12, 16,  1, 15,  6, 10, 30, 18, 28]))\n",
            "(array([ 1, 14,  9, 16, 21, 11, 25,  5, 23,  2,  4, 37, 30,  3, 33,  6,  8,\n",
            "       24, 15,  7, 32, 31, 40, 28,  0, 29, 19, 10, 20, 22, 13, 18]), array([36, 17, 26, 34, 27, 38, 35, 39, 12]))\n",
            "(array([26,  6, 32, 18, 36,  7, 11,  5, 38,  4, 35, 14, 12, 13, 40, 19, 20,\n",
            "        1, 25, 24,  3, 28, 27, 34, 39, 16,  9,  8, 10, 23, 22, 37]), array([ 0, 17,  2, 31, 30, 15, 33, 21, 29]))\n",
            "(array([20, 34, 17, 14,  3,  9, 32, 33,  4, 37, 11, 38, 28, 13,  7, 27, 21,\n",
            "       15, 19, 39,  2, 40, 10, 36,  8,  0, 25, 35, 26, 31, 12, 16]), array([22,  6, 30,  5, 29, 18,  1, 23, 24]))\n",
            "(array([ 7, 19, 30, 39, 37, 38,  1, 18,  8, 15,  6, 14, 31, 16,  5, 33, 29,\n",
            "        0, 13, 17, 34,  4, 20, 26, 40, 28, 24, 23, 22,  3, 12,  9]), array([35, 10,  2, 27, 11, 36, 21, 25, 32]))\n",
            "(array([18,  0, 14, 13, 29, 32, 16, 19, 40, 39,  7,  1, 20, 34, 17, 26,  8,\n",
            "        5, 12, 28, 38, 23, 11, 30, 15,  4, 24, 37,  3, 31, 27,  9]), array([ 2, 22, 35, 25, 10, 36,  6, 33, 21]))\n",
            "(array([24,  6, 26, 38, 11,  4, 30,  7, 31, 18, 40, 28, 25, 16, 32,  9, 14,\n",
            "       21, 36, 34,  0,  3, 12,  2, 39, 22, 23, 20,  8, 19,  1, 37]), array([35, 17, 10, 15, 27, 29,  5, 13, 33]))\n",
            "(array([28, 13,  5, 34, 40,  4, 23, 27, 14, 33, 19, 15, 11,  8, 39,  0, 21,\n",
            "       22, 16, 35, 29, 30, 32, 25, 12, 31, 26,  9, 17,  3, 37, 36]), array([20,  7, 24, 18,  1, 38, 10,  6,  2]))\n",
            "(array([39, 27,  3, 30, 20, 18, 31, 19, 15,  5,  4, 17, 33, 36, 21, 40,  6,\n",
            "       11,  2,  9, 25,  1, 14,  7, 13, 10, 24,  0, 16, 29, 34, 28]), array([12, 38, 26, 37, 32, 35, 22, 23,  8]))\n",
            "(array([27, 29, 22, 39, 23, 20, 24, 12, 35,  8, 15, 17,  6, 36,  9, 38,  5,\n",
            "        7, 18, 32, 14, 30, 13, 26, 40, 11,  4,  1, 19, 31, 21,  3]), array([28, 10, 37,  0, 34, 25, 16, 33,  2]))\n",
            "(array([21, 26, 29, 37, 36,  7, 10, 24,  3, 11,  5,  8, 15, 35, 32, 28, 38,\n",
            "        4, 19, 20, 16, 33,  2, 14,  6, 27, 17, 40, 23,  0, 13,  9]), array([ 1, 22, 39, 18, 30, 25, 12, 34, 31]))\n",
            "(array([40, 12, 19, 39, 11, 17,  4, 13, 33, 22, 26, 18, 25, 14, 37, 10,  7,\n",
            "       32,  6, 21, 38, 31,  8,  3, 29, 15, 34, 30, 36,  0, 27, 28]), array([ 9, 16,  1,  2, 24, 35, 23, 20,  5]))\n",
            "(array([15,  0, 20, 34, 24,  8,  7, 26, 29, 18, 21, 28,  9, 25, 14, 36,  6,\n",
            "       12, 35, 19,  3, 17, 16, 13, 37, 32, 30, 22, 23, 27,  1, 10]), array([38, 31, 39, 33,  2, 40, 11,  4,  5]))\n",
            "(array([16, 34,  5,  6,  1,  7, 25, 20, 21, 40, 37, 17, 12, 18, 15, 28,  9,\n",
            "       29, 11,  2,  4, 14, 30,  0,  8, 33, 36, 19,  3, 38, 10, 31]), array([27, 23, 13, 22, 24, 35, 39, 26, 32]))\n",
            "(array([12, 38,  9, 28, 16,  3,  4, 40,  0, 35, 22, 39, 26, 37, 34,  2, 11,\n",
            "       36, 10, 18, 29, 21, 14, 25, 19, 31, 17,  7,  8, 15, 20, 24]), array([30, 27, 32, 33, 23, 13,  1,  5,  6]))\n",
            "(array([30,  7, 40, 32, 27, 13, 24, 16,  1,  5, 38, 25, 20, 15,  9, 28, 36,\n",
            "        0, 34, 21, 18, 14, 11, 29,  2, 22, 10, 23,  3, 35, 37, 39]), array([26, 17, 19,  4, 12,  6,  8, 33, 31]))\n",
            "(array([ 8, 20,  2,  4,  5, 12, 39, 32, 35, 29, 22, 14, 31, 26, 21, 30,  9,\n",
            "       13, 11,  3, 16, 25, 24,  6, 34, 15, 17, 38, 37,  0, 18, 28]), array([ 7, 10, 19, 23, 36, 33,  1, 27, 40]))\n",
            "(array([20,  1, 38, 18, 34,  5, 17, 30,  8, 11, 26, 32, 22,  7, 39, 31, 35,\n",
            "       23, 29,  4, 24,  0, 27, 12,  2, 15,  3, 14, 33, 36, 25, 37]), array([10, 16, 19, 40, 21,  9,  6, 13, 28]))\n",
            "(array([29, 11, 21, 24,  5,  7, 20, 32, 15, 40, 25, 30, 37, 27,  0,  2, 16,\n",
            "       34, 19,  4, 17,  1,  9, 23, 22, 35,  3, 18, 36, 31, 13, 14]), array([33, 38,  8, 39, 12,  6, 26, 10, 28]))\n",
            "(array([23,  8, 18,  4, 30, 24, 20, 29,  9, 28, 21, 33, 37, 31,  6, 40, 22,\n",
            "       17,  0, 12, 35, 32, 11, 26,  7, 39, 10,  1, 13, 14, 16, 34]), array([36, 25, 15,  5,  3,  2, 38, 27, 19]))\n",
            "(array([ 3, 39, 35, 22, 38, 32, 25, 37, 16,  2,  4, 31, 29,  8, 34,  0,  1,\n",
            "       24, 13, 15, 26, 19, 33,  9,  6, 27, 40,  7, 36, 21, 20, 30]), array([ 5, 10, 28, 17, 18, 12, 11, 23, 14]))\n",
            "(array([34,  5,  8, 23, 33, 10, 20, 15,  6, 11, 17, 36,  0, 14,  4, 27, 13,\n",
            "       22, 16, 18, 35,  9, 24, 29, 19, 28,  1, 37, 21, 40, 12, 38]), array([ 2, 32, 26, 30, 31,  3, 25, 39,  7]))\n",
            "(array([11, 21, 19,  1,  6, 38, 16,  3, 32, 20, 13, 15, 24, 12, 18,  4, 22,\n",
            "       31, 10, 17, 34,  0, 27,  7, 14, 33, 29, 26, 35, 25,  9,  2]), array([40, 37, 23,  5, 39, 30, 36,  8, 28]))\n",
            "(array([25, 24, 33,  8, 36,  5, 16, 37, 21, 14, 30, 35,  4, 29, 31,  0, 10,\n",
            "        6, 18, 32, 11,  1,  7, 28, 19, 27, 39, 34, 38, 22, 40, 17]), array([26, 13,  9, 23,  2, 12, 20,  3, 15]))\n",
            "(array([34, 18, 39, 16,  9,  6,  7,  2, 38, 37, 12, 31, 10,  8, 19, 32, 17,\n",
            "       36, 11,  1, 24, 27, 29, 15, 23, 33, 13, 35,  5, 21, 14, 30]), array([22, 25, 26, 40, 28,  4,  3,  0, 20]))\n",
            "(array([30, 33, 32, 31,  9, 23, 40, 34, 10, 25,  2,  0, 29,  8, 18, 21,  7,\n",
            "       36, 11, 22, 24, 19, 14, 16,  3, 12, 20, 27,  6,  1, 15, 38]), array([13, 17, 37, 39, 26,  4,  5, 28, 35]))\n",
            "(array([17, 19, 34, 27,  5, 39,  9,  3, 22, 21, 14, 32,  0, 36, 20, 11, 38,\n",
            "       23, 12, 28, 10, 31,  1, 30, 37,  2, 18, 40, 25,  4, 35, 26]), array([13, 24,  7, 15, 33,  6, 29,  8, 16]))\n",
            "(array([23, 36, 21,  0, 31,  8, 33, 22, 29,  1, 32, 11,  4, 26,  9, 38, 16,\n",
            "       19, 27,  7, 25, 28, 39,  6,  2, 12, 34, 40, 18,  5, 14,  3]), array([24, 15, 13, 20, 37, 10, 30, 17, 35]))\n",
            "(array([26, 27,  2, 18, 19,  0, 24, 28, 11, 20, 22, 34, 23, 40,  9,  8, 15,\n",
            "       10, 21,  6,  4, 12, 39, 36, 32, 25, 37, 33,  1, 29, 38,  7]), array([16,  5,  3, 31, 14, 13, 35, 17, 30]))\n",
            "(array([16, 36, 40, 22, 32,  9, 14,  2, 17,  6, 31,  1,  3, 26,  0, 11, 23,\n",
            "       35,  5, 10, 25, 39, 28, 21, 38,  7, 29,  8, 20, 12, 30, 19]), array([37, 13, 18,  4, 33, 34, 15, 24, 27]))\n",
            "(array([31, 32, 25, 33, 40, 27, 22,  0, 23, 24, 20, 29, 16,  6, 11, 17,  1,\n",
            "       39, 28, 19, 30,  4, 36, 10,  9, 37,  2, 35, 38,  7, 14, 13]), array([34,  8,  3,  5, 12, 21, 15, 18, 26]))\n",
            "(array([ 1, 15,  6, 16, 26, 23, 30, 32, 24, 25,  8, 21, 14,  9, 38,  2, 18,\n",
            "       17, 34, 11, 36, 40,  5,  3, 28, 13,  4, 39, 29, 33, 12, 10]), array([35, 31, 37, 19, 22, 27,  0,  7, 20]))\n",
            "(array([10, 34, 11, 32, 24,  7, 26,  9,  2, 21, 30, 29,  3, 35,  0, 31, 14,\n",
            "        6, 38, 28, 13, 39,  4, 18,  5,  1, 19, 15,  8, 16, 17, 36]), array([20, 23, 40, 25, 33, 37, 27, 12, 22]))\n",
            "(array([26, 35,  6, 21, 33,  0, 19,  4, 37, 15, 20, 18, 40,  9, 29, 28, 23,\n",
            "        2,  3,  7, 12, 13, 14, 11, 17, 32, 31, 39, 30, 22,  1, 36]), array([ 5, 10, 38, 27, 24, 34, 25, 16,  8]))\n",
            "(array([26,  6, 35, 34, 40, 18, 25,  2,  9,  7, 11,  3,  8, 39, 20, 37,  1,\n",
            "       30, 22, 38, 12, 33, 36, 28, 21, 13,  0, 10, 23,  4, 17, 15]), array([ 5, 31, 24, 29, 19, 14, 32, 16, 27]))\n",
            "(array([14,  4, 33,  6, 37, 18, 30, 27, 36, 21, 12, 38,  9, 19, 17,  8, 10,\n",
            "        7, 28, 24, 40, 16,  2, 25, 23, 15, 29, 11, 35, 39, 22, 26]), array([ 1, 32, 34,  3,  0, 13, 31,  5, 20]))\n",
            "(array([30, 38, 26,  9,  7, 36, 10, 20, 19,  8, 31, 22, 25, 28, 18, 17, 24,\n",
            "       14,  5, 40, 37, 16,  2, 34, 13,  4, 27,  0,  3, 32, 35, 23]), array([21,  1,  6, 11, 39, 29, 33, 15, 12]))\n",
            "(array([ 2,  8, 18,  9,  1, 39, 29, 31,  0, 27, 11, 16, 32, 26,  7, 14, 23,\n",
            "       15, 36,  3, 33, 21, 35, 28, 30,  6, 34, 17,  5, 20, 10, 24]), array([25, 40, 12, 13, 22, 38,  4, 37, 19]))\n",
            "(array([19, 31, 27,  4,  5, 10, 16, 25, 20, 22,  8, 18,  0,  6, 15, 24,  1,\n",
            "       36, 23,  9, 32, 40, 12, 34, 26,  3, 35,  7, 13, 30,  2, 11]), array([38, 21, 28, 14, 33, 29, 17, 37, 39]))\n",
            "(array([37, 25,  7, 17, 31, 35, 30,  5, 26, 10, 39, 40, 14, 23,  9, 29, 11,\n",
            "       34, 27, 19, 21,  4, 13, 15, 33, 36, 16, 38, 18,  1, 24, 20]), array([ 2, 22,  6,  3, 32, 12,  0,  8, 28]))\n",
            "(array([20,  9,  3, 15, 10, 19, 28,  5, 29, 11, 35, 30,  8, 22,  7, 27, 18,\n",
            "       25,  0,  6, 26, 17, 14, 24, 12, 13, 31, 32, 40, 36,  4, 16]), array([38, 39,  1, 34, 37, 23,  2, 21, 33]))\n",
            "(array([10, 35, 34,  6, 33,  8, 30, 23,  3, 15, 21, 28, 19, 20, 39, 40, 25,\n",
            "       11,  7, 17, 26,  4, 18, 22,  1, 12,  9, 32, 29,  5, 31, 24]), array([16, 27,  0,  2, 38, 13, 36, 37, 14]))\n",
            "(array([10, 36,  6, 23, 40,  1, 26,  4, 25, 18, 21, 16, 20, 19,  7, 12, 29,\n",
            "        3,  2, 31, 24, 15, 28, 14, 13, 17,  8, 34, 33, 35, 11,  9]), array([ 5, 32,  0, 37, 39, 30, 27, 38, 22]))\n",
            "(array([26, 17, 15, 33, 28, 22, 13, 23,  9,  4, 16, 10, 21, 18, 19, 25, 39,\n",
            "        2,  6, 31, 38, 24, 32,  7, 30,  5,  3, 14, 29, 37,  1,  8]), array([40, 36, 12, 34,  0, 11, 35, 20, 27]))\n",
            "(array([35, 30, 13, 31, 18, 10,  2, 39, 15, 11, 14, 22,  4, 27, 40, 36, 17,\n",
            "       38,  3, 21, 34, 29,  0, 37, 24, 26, 32, 16, 23, 12,  9,  7]), array([ 1, 33, 28,  8, 19,  5, 25,  6, 20]))\n",
            "(array([38, 39, 29,  7, 13, 15,  0,  5, 16, 37, 32, 21, 18, 19, 40,  4, 25,\n",
            "        3,  6, 11, 20, 22,  2, 14,  1, 27, 24, 23, 17,  8, 28, 12]), array([ 9, 30, 10, 36, 34, 31, 26, 35, 33]))\n",
            "(array([22, 36, 35, 40, 25, 13,  6, 21, 31, 24,  3, 28, 23, 17, 27, 38,  0,\n",
            "       30, 16,  2, 18, 39, 14, 29,  7,  1, 26, 33, 12, 19,  5, 11]), array([ 4, 34, 32,  8,  9, 20, 37, 10, 15]))\n",
            "(array([31, 15, 30,  5, 32, 23,  3, 39, 29,  8, 24, 21,  0, 11,  6, 18,  2,\n",
            "       26, 25, 35, 28,  9, 22, 40, 13, 16,  4,  7, 19,  1, 20, 14]), array([38, 37, 27, 17, 12, 10, 34, 36, 33]))\n",
            "(array([40, 34, 22, 18, 39, 28,  4, 10, 37, 23, 14, 35, 36, 33, 16, 11, 13,\n",
            "        2, 30,  7,  8, 26, 21, 20, 29, 25, 31,  9, 27,  6, 17, 38]), array([15, 12, 19,  0,  1,  3,  5, 32, 24]))\n",
            "(array([19, 28, 33, 26, 27, 30, 13, 39, 29,  8, 40, 37,  5, 17, 34, 38, 11,\n",
            "        9, 25, 14,  0, 20,  2,  7, 18,  4,  1, 21, 32, 23, 10, 31]), array([12, 24, 22, 36, 16,  3,  6, 35, 15]))\n",
            "(array([21, 40,  6, 19, 37, 33, 31, 15, 27, 10, 11, 22, 17, 12,  0, 36,  7,\n",
            "       14, 34, 13, 26,  3,  5,  4, 29, 35, 16,  8, 28, 24, 20,  1]), array([38, 39, 18, 30,  2, 23, 32,  9, 25]))\n",
            "(array([11,  6, 23,  7, 24, 40,  1, 36, 19, 15, 37, 14,  3, 28, 17, 16, 21,\n",
            "       27,  9,  4, 35,  0, 10, 33, 38, 20, 29, 12,  2, 31, 39, 32]), array([30, 22, 25, 18, 34, 13, 26,  5,  8]))\n",
            "(array([ 7, 25, 10, 38, 14,  3,  0, 12, 24, 22, 36, 26,  8, 27, 16, 40, 29,\n",
            "       32, 18,  2, 20, 19, 13, 33, 31,  6, 23,  4, 34, 17,  9, 35]), array([39, 15, 21,  5,  1, 37, 28, 11, 30]))\n",
            "(array([ 8,  4,  1, 16, 19, 39, 37, 15,  5,  7, 11, 32, 34, 23, 31, 22, 27,\n",
            "       36, 28, 30, 14, 24, 26, 35,  9,  2, 12, 33, 18,  0, 17, 20]), array([ 3, 21, 13, 40, 38, 29, 10, 25,  6]))\n",
            "(array([32,  3, 33, 16, 25,  0, 23, 35, 39, 14, 24, 10, 28, 11, 15, 20, 12,\n",
            "        5, 38,  6, 27, 17, 34, 29, 26,  9, 30,  4, 22,  7, 19, 21]), array([36, 40,  2,  8,  1, 37, 18, 31, 13]))\n",
            "(array([ 5,  8, 19,  3, 35,  7, 26, 37, 30, 29, 15, 28,  9, 25, 21, 27, 32,\n",
            "       12, 23,  0,  4, 24, 13, 20, 39, 17, 18, 10, 38,  2, 11, 14]), array([ 1, 31, 34,  6, 22, 16, 40, 33, 36]))\n",
            "(array([ 5, 27,  9,  6, 21, 31, 34, 29, 26,  3, 10, 36, 23, 25, 22, 39, 24,\n",
            "       19, 18, 20, 30, 13, 12,  0, 35, 32,  8, 14, 15, 38,  1, 16]), array([28, 40, 11,  7, 17,  4,  2, 37, 33]))\n",
            "(array([13, 38, 21, 16, 40, 32, 11, 39,  4, 17, 22, 31, 19, 18, 14, 10, 29,\n",
            "       28,  7,  2, 25, 37, 15, 33,  9, 36, 24, 27, 26,  3,  1, 23]), array([ 5,  6,  8,  0, 20, 34, 12, 35, 30]))\n",
            "(array([35, 11, 34, 21,  9, 22, 28, 14, 31, 37,  6, 16, 26, 38,  8, 32, 39,\n",
            "       25, 20, 30,  5, 13, 15,  0, 12,  1,  3, 36, 18, 23, 24,  7]), array([27, 40,  4, 19, 29, 33,  2, 17, 10]))\n",
            "(array([25, 27,  6, 17, 29, 24, 40,  7, 22, 32, 35, 37, 34,  2,  1, 39,  0,\n",
            "        8, 11, 14, 36, 31,  5, 23, 28, 19, 21, 26, 10, 38,  3, 16]), array([15, 20, 18, 33, 12,  4, 13, 30,  9]))\n",
            "(array([ 2, 39, 33, 36,  4, 15,  6, 10,  1, 30, 26, 20, 34,  7, 32, 40, 13,\n",
            "       23, 21, 24, 25,  5,  8,  3, 16, 22, 29, 19, 27, 18, 11, 14]), array([12, 35,  9, 38, 37,  0, 28, 31, 17]))\n",
            "(array([24,  1, 28, 11, 32, 40,  4, 33, 39, 20, 10, 31, 16, 26, 18, 22, 15,\n",
            "       25, 34, 19,  2,  9, 35, 23, 38,  5,  6, 17, 21, 29,  8, 37]), array([12,  0, 30,  7, 14,  3, 36, 27, 13]))\n",
            "(array([34, 40, 26,  3, 30, 15, 20,  7,  9, 10, 21,  2, 13, 28, 27, 23,  4,\n",
            "       35, 19, 33,  1,  6, 24, 36, 16, 17, 32, 11, 22,  5, 39, 12]), array([18, 31, 25, 29,  8, 38,  0, 14, 37]))\n",
            "(array([27,  8, 11, 20, 33, 32, 24, 21, 18, 34, 19, 23, 10,  2, 16,  7, 22,\n",
            "        5,  1, 29, 26,  9, 30, 17, 31, 40, 37,  0, 15,  3, 14, 25]), array([28,  6, 12,  4, 13, 38, 35, 36, 39]))\n",
            "(array([20, 25, 17, 39,  1, 36, 38,  4, 32, 27, 31, 37,  2,  5, 19, 22, 33,\n",
            "       35, 10, 26,  6, 21, 12, 24, 18, 15, 14,  9, 28, 29, 16, 30]), array([ 3, 40,  8,  7, 34, 13, 23,  0, 11]))\n",
            "(array([25, 18, 15,  7, 23, 24,  6, 13, 20, 22, 39, 33, 19, 21, 40, 29, 16,\n",
            "       36, 10, 12, 30,  8,  4,  0, 14, 35, 17, 37, 34,  1, 27, 32]), array([26,  9,  2, 28, 31, 11, 38,  5,  3]))\n",
            "(array([ 2, 26,  9,  4, 20, 30, 13, 15, 23, 17,  1,  3, 31, 36, 14, 29, 32,\n",
            "        0, 27, 40, 12,  7, 18,  8, 33, 38, 34,  5, 11, 10, 28, 19]), array([21, 25, 22, 16, 24,  6, 37, 35, 39]))\n",
            "(array([37, 32, 18,  0, 20, 40, 23, 11,  4, 33,  6, 25,  8, 14, 39, 28,  5,\n",
            "       27, 29, 31, 38, 16, 22, 10, 34,  9,  7, 17,  2, 21, 19,  1]), array([15, 26, 30, 13, 35, 24, 12, 36,  3]))\n",
            "(array([35, 12, 27, 22,  9, 36, 33, 28, 26, 38, 17,  5, 40,  3, 20, 16, 37,\n",
            "       18, 14,  1, 32,  7, 25, 19, 15,  8, 23, 30, 24, 29, 10,  0]), array([21, 34, 31,  6,  4, 39,  2, 13, 11]))\n",
            "(array([38, 13,  8, 10, 11, 32, 29, 17, 35, 24,  4, 26, 31,  1, 28, 12,  0,\n",
            "       18, 30, 19,  5, 20, 39,  9, 22,  7,  3, 37, 33, 40, 15,  6]), array([16, 34,  2, 21, 23, 25, 27, 14, 36]))\n",
            "(array([37, 40, 24, 35, 11,  0, 28, 18, 32, 16, 12, 30, 13, 31,  4, 26, 19,\n",
            "        1, 21, 33,  6, 17, 25, 15,  9,  7,  8, 27, 39, 10, 36, 38]), array([20,  5,  2, 23, 14, 29, 22, 34,  3]))\n",
            "(array([15,  8,  3, 31, 20,  4, 17,  0, 24, 30, 16, 35, 39, 21, 22, 25, 38,\n",
            "       19, 37,  5, 12, 11, 40, 32, 36, 18, 27,  2, 34, 29, 14,  7]), array([ 9,  1, 28, 10, 33, 26, 13,  6, 23]))\n",
            "(array([34,  9,  0, 39,  3, 16, 36, 23, 32,  5, 33, 20, 18, 14, 28,  2, 10,\n",
            "       31, 26, 15, 22,  6,  8, 12, 29,  4, 19, 30, 25, 13, 38, 17]), array([37, 27,  1, 11, 24, 21,  7, 35, 40]))\n",
            "(array([ 0, 37,  2,  5,  4,  8,  7, 17, 18, 32, 21, 27, 12, 35, 20, 34, 30,\n",
            "       33, 14, 40, 11, 28, 29, 24, 36, 25,  3,  9, 10, 13, 38, 23]), array([ 1, 22, 31, 19,  6, 16, 15, 26, 39]))\n",
            "(array([34, 30, 25, 10, 23, 17, 28, 16, 38,  8,  1, 18,  2, 15, 11, 19, 20,\n",
            "       22, 33, 29, 21, 37,  4, 40, 36,  5, 12, 32,  7,  6, 26, 13]), array([27, 14,  9, 35, 39,  3, 31,  0, 24]))\n"
          ]
        }
      ],
      "source": [
        "num_folds = 6\n",
        "\n",
        "from sklearn.model_selection import ShuffleSplit\n",
        "\n",
        "# K-Fold cross validation\n",
        "kf = KFold(n_splits=num_folds, shuffle=True, random_state=6)\n",
        "\n",
        "# Monte Carlo cross validation\n",
        "random_splits = ShuffleSplit(n_splits=100, test_size=0.2)\n",
        "\n",
        "for c in random_splits.split(data):\n",
        "    print(c)\n"
      ]
    },
    {
      "cell_type": "markdown",
      "metadata": {},
      "source": [
        "# Metrics"
      ]
    },
    {
      "cell_type": "code",
      "execution_count": 7,
      "metadata": {
        "id": "WQiYUB9J-vwm"
      },
      "outputs": [],
      "source": [
        "# Metrics:\n",
        "#   RMSE -> Root Mean Squared Error\n",
        "#   R2 -> Coefficient of Determination\n",
        "#   MAE -> Mean Absolute Error\n",
        "#   APE -> Absolute Error"
      ]
    },
    {
      "cell_type": "code",
      "execution_count": 8,
      "metadata": {},
      "outputs": [],
      "source": [
        "from sklearn import metrics\n",
        "\n",
        "def RMSE(model, X, y):\n",
        "    return metrics.root_mean_squared_error(y,model.predict(X))\n",
        "\n",
        "def R2(model, X, y):\n",
        "    return metrics.r2_score(y,model.predict(X))\n",
        "\n",
        "def MAE(model, X, y):\n",
        "    return metrics.mean_absolute_error(y,model.predict(X))\n",
        "\n",
        "def APE(model, X, y):\n",
        "    return metrics.mean_absolute_percentage_error(y,model.predict(X))\n",
        "\n",
        "\n",
        "def all_scores(model, X, y):\n",
        "    return {\n",
        "        \"RMSE\": RMSE(model, X, y),\n",
        "        \"R2\": R2(model, X, y),\n",
        "        \"MAE\": MAE(model, X, y),\n",
        "        \"APE\": APE(model, X, y)\n",
        "    }\n",
        "\n"
      ]
    },
    {
      "cell_type": "markdown",
      "metadata": {
        "id": "H2KhoJGF7kw9"
      },
      "source": [
        "# Models"
      ]
    },
    {
      "cell_type": "code",
      "execution_count": 9,
      "metadata": {
        "id": "aMFKZ9oMre-Z"
      },
      "outputs": [],
      "source": [
        "from sklearn.ensemble import RandomForestRegressor\n",
        "from sklearn.neural_network import MLPRegressor\n",
        "from sklearn.svm import SVR\n",
        "from sklearn.tree import DecisionTreeRegressor\n",
        "from pyswarms.single.global_best import GlobalBestPSO"
      ]
    },
    {
      "cell_type": "code",
      "execution_count": 10,
      "metadata": {},
      "outputs": [],
      "source": [
        "# average the scores for each model\n",
        "# then use scores for the optimisation algorithms"
      ]
    },
    {
      "cell_type": "code",
      "execution_count": 11,
      "metadata": {
        "id": "4ZqlpUeb_nxq"
      },
      "outputs": [
        {
          "name": "stdout",
          "output_type": "stream",
          "text": [
            "Training Set\n",
            "RMSE 919.7697105293172\n",
            "R2 0.6545852492099224\n",
            "MAE 654.1766823396114\n",
            "APE 0.37924304271351206\n",
            "Validation Set\n",
            "RMSE 878.2003256651225\n",
            "R2 0.22373541823229356\n",
            "MAE 690.6393555505183\n",
            "APE 0.3953575960967172\n",
            "\n",
            "Training Set\n",
            "RMSE 930.2105852191446\n",
            "R2 0.6490401688949283\n",
            "MAE 661.1314386551699\n",
            "APE 0.3806507293222564\n",
            "Validation Set\n",
            "RMSE 902.3888277449996\n",
            "R2 0.359912696357055\n",
            "MAE 695.6608898847296\n",
            "APE 0.42712387295881554\n"
          ]
        }
      ],
      "source": [
        "from warnings import simplefilter\n",
        "from sklearn.exceptions import ConvergenceWarning\n",
        "simplefilter(\"ignore\", category=ConvergenceWarning)\n",
        "\n",
        "# ANN\n",
        "mlp = MLPRegressor(max_iter=1000, hidden_layer_sizes=(100), random_state=1, early_stopping=False)\n",
        "scores = cross_validate(mlp, X, y, cv=kf, scoring=all_scores, return_train_score=True)\n",
        "print(\"Training Set\")\n",
        "print(\"RMSE\",np.mean(scores[\"train_RMSE\"]))\n",
        "print(\"R2\",np.mean(scores[\"train_R2\"]))\n",
        "print(\"MAE\",np.mean(scores[\"train_MAE\"]))\n",
        "print(\"APE\",np.mean(scores[\"train_APE\"]))\n",
        "print(\"Validation Set\")\n",
        "print(\"RMSE\",np.mean(scores[\"test_RMSE\"]))\n",
        "print(\"R2\",np.mean(scores[\"test_R2\"]))\n",
        "print(\"MAE\",np.mean(scores[\"test_MAE\"]))\n",
        "print(\"APE\",np.mean(scores[\"test_APE\"]))\n",
        "\n",
        "print()\n",
        "mlp = MLPRegressor(max_iter=1000, hidden_layer_sizes=(100), random_state=1, early_stopping=False)\n",
        "scores = cross_validate(mlp, X, y, cv=random_splits, scoring=all_scores, return_train_score=True)\n",
        "print(\"Training Set\")\n",
        "print(\"RMSE\",np.mean(scores[\"train_RMSE\"]))\n",
        "print(\"R2\",np.mean(scores[\"train_R2\"]))\n",
        "print(\"MAE\",np.mean(scores[\"train_MAE\"]))\n",
        "print(\"APE\",np.mean(scores[\"train_APE\"]))\n",
        "print(\"Validation Set\")\n",
        "print(\"RMSE\",np.mean(scores[\"test_RMSE\"]))\n",
        "print(\"R2\",np.mean(scores[\"test_R2\"]))\n",
        "print(\"MAE\",np.mean(scores[\"test_MAE\"]))\n",
        "print(\"APE\",np.mean(scores[\"test_APE\"]))\n",
        "\n",
        "\n",
        "# Hyperparameters to optimise:\n",
        "#   -max iterations\n",
        "#   -number of hidden layers\n",
        "#   -size of layers\n",
        "#   -learning rate\n",
        "\n"
      ]
    },
    {
      "cell_type": "code",
      "execution_count": 36,
      "metadata": {
        "colab": {
          "base_uri": "https://localhost:8080/"
        },
        "id": "5ve5p-W97kw-",
        "outputId": "8fcde7d6-81c4-42ce-9d28-9f68f3730f2d"
      },
      "outputs": [
        {
          "name": "stdout",
          "output_type": "stream",
          "text": [
            "dict_keys(['fit_time', 'score_time', 'test_RMSE', 'train_RMSE', 'test_R2', 'train_R2', 'test_MAE', 'train_MAE', 'test_APE', 'train_APE'])\n",
            "Training Set\n",
            "RMSE 409.9903870924528\n",
            "R2 0.929113594051547\n",
            "MAE 294.942178125\n",
            "APE 0.16682991887835055\n",
            "Validation Set\n",
            "RMSE 1157.8105025961754\n",
            "R2 0.22127966585691283\n",
            "MAE 861.8720555555556\n",
            "APE 0.5059031118275349\n"
          ]
        }
      ],
      "source": [
        "# RF\n",
        "rf = RandomForestRegressor()\n",
        "scores = cross_validate(rf, X, y, cv=random_splits, scoring=all_scores, return_train_score=True)\n",
        "print(scores.keys())\n",
        "print(\"Training Set\")\n",
        "print(\"RMSE\",np.mean(scores[\"train_RMSE\"]))\n",
        "print(\"R2\",np.mean(scores[\"train_R2\"]))\n",
        "print(\"MAE\",np.mean(scores[\"train_MAE\"]))\n",
        "print(\"APE\",np.mean(scores[\"train_APE\"]))\n",
        "print(\"Validation Set\")\n",
        "print(\"RMSE\",np.mean(scores[\"test_RMSE\"]))\n",
        "print(\"R2\",np.mean(scores[\"test_R2\"]))\n",
        "print(\"MAE\",np.mean(scores[\"test_MAE\"]))\n",
        "print(\"APE\",np.mean(scores[\"test_APE\"]))\n",
        "\n",
        "# Hyperparameters to optimise:\n",
        "#   -number of estimators\n",
        "#   -max depth\n",
        "#   -minimum samples per leaf"
      ]
    },
    {
      "cell_type": "code",
      "execution_count": 13,
      "metadata": {
        "id": "R63mjR1D_k27"
      },
      "outputs": [
        {
          "name": "stdout",
          "output_type": "stream",
          "text": [
            "Training Set\n",
            "RMSE 1680.9288783135519\n",
            "R2 -0.1287830651351382\n",
            "MAE 1083.4010553961516\n",
            "APE 0.5465734183581592\n",
            "Validation Set\n",
            "RMSE 1464.7301208912936\n",
            "R2 -0.1736565505317999\n",
            "MAE 1001.5715218493958\n",
            "APE 0.625793844102015\n"
          ]
        }
      ],
      "source": [
        "# SVM\n",
        "svr = SVR()\n",
        "\n",
        "scores = cross_validate(svr, X, y, cv=random_splits, scoring=all_scores, return_train_score=True)\n",
        "print(\"Training Set\")\n",
        "print(\"RMSE\",np.mean(scores[\"train_RMSE\"]))\n",
        "print(\"R2\",np.mean(scores[\"train_R2\"]))\n",
        "print(\"MAE\",np.mean(scores[\"train_MAE\"]))\n",
        "print(\"APE\",np.mean(scores[\"train_APE\"]))\n",
        "print(\"Validation Set\")\n",
        "print(\"RMSE\",np.mean(scores[\"test_RMSE\"]))\n",
        "print(\"R2\",np.mean(scores[\"test_R2\"]))\n",
        "print(\"MAE\",np.mean(scores[\"test_MAE\"]))\n",
        "print(\"APE\",np.mean(scores[\"test_APE\"]))\n"
      ]
    },
    {
      "cell_type": "code",
      "execution_count": 14,
      "metadata": {
        "id": "6DfRHOEc_iBO"
      },
      "outputs": [
        {
          "name": "stdout",
          "output_type": "stream",
          "text": [
            "Training Set\n",
            "RMSE 0.0\n",
            "R2 1.0\n",
            "MAE 0.0\n",
            "APE 0.0\n",
            "Validation Set\n",
            "RMSE 1235.5948308094598\n",
            "R2 -0.90469499480123\n",
            "MAE 890.5833333333334\n",
            "APE 0.47150777764072604\n",
            "Hyperparameters: {'ccp_alpha': 0.0, 'criterion': 'squared_error', 'max_depth': None, 'max_features': None, 'max_leaf_nodes': None, 'min_impurity_decrease': 0.0, 'min_samples_leaf': 1, 'min_samples_split': 2, 'min_weight_fraction_leaf': 0.0, 'monotonic_cst': None, 'random_state': None, 'splitter': 'best'}\n"
          ]
        }
      ],
      "source": [
        "# CART Tree (decision tree)\n",
        "cart = DecisionTreeRegressor()\n",
        "\n",
        "scores = cross_validate(cart, X, y, cv=random_splits, scoring=all_scores, return_train_score=True)\n",
        "print(\"Training Set\")\n",
        "print(\"RMSE\",np.mean(scores[\"train_RMSE\"]))\n",
        "print(\"R2\",np.mean(scores[\"train_R2\"]))\n",
        "print(\"MAE\",np.mean(scores[\"train_MAE\"]))\n",
        "print(\"APE\",np.mean(scores[\"train_APE\"]))\n",
        "print(\"Validation Set\")\n",
        "print(\"RMSE\",np.mean(scores[\"test_RMSE\"]))\n",
        "print(\"R2\",np.mean(scores[\"test_R2\"]))\n",
        "print(\"MAE\",np.mean(scores[\"test_MAE\"]))\n",
        "print(\"APE\",np.mean(scores[\"test_APE\"]))\n",
        "\n",
        "print(\"Hyperparameters:\", cart.get_params())"
      ]
    },
    {
      "cell_type": "markdown",
      "metadata": {},
      "source": [
        "# Hyperparameter Optimisation"
      ]
    },
    {
      "cell_type": "code",
      "execution_count": 21,
      "metadata": {},
      "outputs": [],
      "source": [
        "def testANN(param):\n",
        "    # max iterations\n",
        "    # size of layers\n",
        "    # number of hidden layers\n",
        "    # learning rate (Scale??)\n",
        "    mlp = MLPRegressor(max_iter=round(param[0]), hidden_layer_sizes=[round(param[1]) for _ in range(round(param[2]))], learning_rate_init=param[3],random_state=1, early_stopping=False)\n",
        "    scores = cross_validate(mlp, X, y, cv=random_splits, scoring=all_scores, return_train_score=True)\n",
        "    return np.mean(scores[\"test_APE\"])-np.mean(scores[\"test_R2\"])\n",
        "\n",
        "def testRF(param):\n",
        "    # number of estimators\n",
        "    # max depth\n",
        "    # minimum samples per leaf\n",
        "    rf = RandomForestRegressor(n_estimators=round(param[0]), max_depth=round(param[1]), min_samples_leaf=round(param[2]))\n",
        "    scores = cross_validate(rf, X, y, cv=random_splits, scoring=all_scores, return_train_score=True)\n",
        "    return np.mean(scores[\"test_APE\"])-np.mean(scores[\"test_R2\"])\n",
        "\n",
        "def testSVR(param):\n",
        "    # C\n",
        "    # epsilon?\n",
        "    svr = SVR(C=param[0], epsilon=param[1])\n",
        "    scores = cross_validate(svr, X, y, cv=random_splits, scoring=all_scores, return_train_score=True)\n",
        "    return np.mean(scores[\"test_APE\"])-np.mean(scores[\"test_R2\"])\n",
        "\n",
        "def testDT(param):#CART Tree\n",
        "    # max depth\n",
        "    # minimum samples per leaf\n",
        "    dt = DecisionTreeRegressor(max_depth=round(param[0]), min_samples_leaf=round(param[1]))\n",
        "    scores = cross_validate(dt, X, y, cv=random_splits, scoring=all_scores, return_train_score=True)\n",
        "    return np.mean(scores[\"test_APE\"])-np.mean(scores[\"test_R2\"])\n",
        "\n",
        "\n",
        "def optimiseModel(params, modelfunc=testRF):\n",
        "    out = np.array([modelfunc(param) for param in params])\n",
        "    return out"
      ]
    },
    {
      "cell_type": "code",
      "execution_count": 24,
      "metadata": {},
      "outputs": [
        {
          "name": "stderr",
          "output_type": "stream",
          "text": [
            "2024-04-30 23:44:45,430 - pyswarms.single.global_best - INFO - Optimize for 100 iters with {'c1': 0.5, 'c2': 0.3, 'w': 0.9}\n",
            "pyswarms.single.global_best: 100%|██████████|100/100, best_cost=-0.15\n",
            "2024-05-01 00:17:19,300 - pyswarms.single.global_best - INFO - Optimization finished | best cost: -0.15037073823592967, best pos: [59.98480861 12.29954544  1.81777187]\n"
          ]
        },
        {
          "name": "stdout",
          "output_type": "stream",
          "text": [
            "-0.15037073823592967\n",
            "[59.98480861 12.29954544  1.81777187]\n"
          ]
        }
      ],
      "source": [
        "\n",
        "bounds = (np.array([10,  2,  1]),\n",
        "          np.array([100, 15, 10]))\n",
        "# bounds:\n",
        "#   upper + lower bounds of parameter values to test\n",
        "#   format -> (np array of upper bounds,\n",
        "#              np array of lower bounds)\n",
        "\n",
        "options = {'c1': 0.5, 'c2': 0.3, 'w': 0.9}# i think just keep these the same\n",
        "optimizer = GlobalBestPSO(n_particles=10, dimensions=3, options=options, bounds=bounds)# dimensions = number of parameters to optimise\n",
        "\n",
        "cost, pos = optimizer.optimize(optimiseModel, 100, verbose=True, modelfunc=testRF) #change this to optimise different models (e.g. testRF, testSVR, testDT)\n",
        "\n",
        "print(cost)\n",
        "print(\"optimal parameters: \",pos)\n",
        "\n",
        "\n",
        "\n",
        "\n",
        "# --------------------- RF experimentation results ----------------------\n",
        "\n",
        "# R2 (10 particles, 100 iter)\n",
        "# 59   6   3\n",
        "# 57  11   3\n",
        "\n",
        "# R2 (10 particles, 1000 iter)\n",
        "# 42  11   3\n",
        "\n",
        "# R2+APE (10 particles, 500 iter)\n",
        "# 49  11   2\n",
        "# 45   9   4\n",
        "\n",
        "# R2+APE (20 particles, 500 iter)\n",
        "# 84   9   3\n",
        "# 61  10   3\n",
        "\n",
        "# R2+APE (20 particles, 100 iter)\n",
        "# 84   9   3\n",
        "# 60  12   2\n",
        "\n",
        "# -> increased MC crossvalidation n_splits to increase consistency\n",
        "\n",
        "# -----------------------------------------------------------------------\n",
        "\n",
        "\n",
        "\n",
        "\n",
        "# could use multiprocessing to speed it up, but then can't use ipynb"
      ]
    },
    {
      "cell_type": "code",
      "execution_count": 38,
      "metadata": {},
      "outputs": [
        {
          "name": "stdout",
          "output_type": "stream",
          "text": [
            "100\n",
            "(20, 3)\n",
            "[[67.51098057 11.64340192  3.58862353]\n",
            " [78.16407114  9.79862685  9.30253853]\n",
            " [51.16971792  6.16177102  3.44817495]\n",
            " [95.24126042  7.79798048  6.16330602]\n",
            " [21.6481137   2.4758367   4.85837461]]\n",
            "100\n",
            "(20, 2)\n",
            "[[67.51098057  3.58862353]\n",
            " [78.16407114  9.30253853]\n",
            " [51.16971792  3.44817495]\n",
            " [95.24126042  6.16330602]\n",
            " [21.6481137   4.85837461]]\n"
          ]
        },
        {
          "data": {
            "application/javascript": "/* Put everything inside the global mpl namespace */\n/* global mpl */\nwindow.mpl = {};\n\nmpl.get_websocket_type = function () {\n    if (typeof WebSocket !== 'undefined') {\n        return WebSocket;\n    } else if (typeof MozWebSocket !== 'undefined') {\n        return MozWebSocket;\n    } else {\n        alert(\n            'Your browser does not have WebSocket support. ' +\n                'Please try Chrome, Safari or Firefox ≥ 6. ' +\n                'Firefox 4 and 5 are also supported but you ' +\n                'have to enable WebSockets in about:config.'\n        );\n    }\n};\n\nmpl.figure = function (figure_id, websocket, ondownload, parent_element) {\n    this.id = figure_id;\n\n    this.ws = websocket;\n\n    this.supports_binary = this.ws.binaryType !== undefined;\n\n    if (!this.supports_binary) {\n        var warnings = document.getElementById('mpl-warnings');\n        if (warnings) {\n            warnings.style.display = 'block';\n            warnings.textContent =\n                'This browser does not support binary websocket messages. ' +\n                'Performance may be slow.';\n        }\n    }\n\n    this.imageObj = new Image();\n\n    this.context = undefined;\n    this.message = undefined;\n    this.canvas = undefined;\n    this.rubberband_canvas = undefined;\n    this.rubberband_context = undefined;\n    this.format_dropdown = undefined;\n\n    this.image_mode = 'full';\n\n    this.root = document.createElement('div');\n    this.root.setAttribute('style', 'display: inline-block');\n    this._root_extra_style(this.root);\n\n    parent_element.appendChild(this.root);\n\n    this._init_header(this);\n    this._init_canvas(this);\n    this._init_toolbar(this);\n\n    var fig = this;\n\n    this.waiting = false;\n\n    this.ws.onopen = function () {\n        fig.send_message('supports_binary', { value: fig.supports_binary });\n        fig.send_message('send_image_mode', {});\n        if (fig.ratio !== 1) {\n            fig.send_message('set_device_pixel_ratio', {\n                device_pixel_ratio: fig.ratio,\n            });\n        }\n        fig.send_message('refresh', {});\n    };\n\n    this.imageObj.onload = function () {\n        if (fig.image_mode === 'full') {\n            // Full images could contain transparency (where diff images\n            // almost always do), so we need to clear the canvas so that\n            // there is no ghosting.\n            fig.context.clearRect(0, 0, fig.canvas.width, fig.canvas.height);\n        }\n        fig.context.drawImage(fig.imageObj, 0, 0);\n    };\n\n    this.imageObj.onunload = function () {\n        fig.ws.close();\n    };\n\n    this.ws.onmessage = this._make_on_message_function(this);\n\n    this.ondownload = ondownload;\n};\n\nmpl.figure.prototype._init_header = function () {\n    var titlebar = document.createElement('div');\n    titlebar.classList =\n        'ui-dialog-titlebar ui-widget-header ui-corner-all ui-helper-clearfix';\n    var titletext = document.createElement('div');\n    titletext.classList = 'ui-dialog-title';\n    titletext.setAttribute(\n        'style',\n        'width: 100%; text-align: center; padding: 3px;'\n    );\n    titlebar.appendChild(titletext);\n    this.root.appendChild(titlebar);\n    this.header = titletext;\n};\n\nmpl.figure.prototype._canvas_extra_style = function (_canvas_div) {};\n\nmpl.figure.prototype._root_extra_style = function (_canvas_div) {};\n\nmpl.figure.prototype._init_canvas = function () {\n    var fig = this;\n\n    var canvas_div = (this.canvas_div = document.createElement('div'));\n    canvas_div.setAttribute('tabindex', '0');\n    canvas_div.setAttribute(\n        'style',\n        'border: 1px solid #ddd;' +\n            'box-sizing: content-box;' +\n            'clear: both;' +\n            'min-height: 1px;' +\n            'min-width: 1px;' +\n            'outline: 0;' +\n            'overflow: hidden;' +\n            'position: relative;' +\n            'resize: both;' +\n            'z-index: 2;'\n    );\n\n    function on_keyboard_event_closure(name) {\n        return function (event) {\n            return fig.key_event(event, name);\n        };\n    }\n\n    canvas_div.addEventListener(\n        'keydown',\n        on_keyboard_event_closure('key_press')\n    );\n    canvas_div.addEventListener(\n        'keyup',\n        on_keyboard_event_closure('key_release')\n    );\n\n    this._canvas_extra_style(canvas_div);\n    this.root.appendChild(canvas_div);\n\n    var canvas = (this.canvas = document.createElement('canvas'));\n    canvas.classList.add('mpl-canvas');\n    canvas.setAttribute(\n        'style',\n        'box-sizing: content-box;' +\n            'pointer-events: none;' +\n            'position: relative;' +\n            'z-index: 0;'\n    );\n\n    this.context = canvas.getContext('2d');\n\n    var backingStore =\n        this.context.backingStorePixelRatio ||\n        this.context.webkitBackingStorePixelRatio ||\n        this.context.mozBackingStorePixelRatio ||\n        this.context.msBackingStorePixelRatio ||\n        this.context.oBackingStorePixelRatio ||\n        this.context.backingStorePixelRatio ||\n        1;\n\n    this.ratio = (window.devicePixelRatio || 1) / backingStore;\n\n    var rubberband_canvas = (this.rubberband_canvas = document.createElement(\n        'canvas'\n    ));\n    rubberband_canvas.setAttribute(\n        'style',\n        'box-sizing: content-box;' +\n            'left: 0;' +\n            'pointer-events: none;' +\n            'position: absolute;' +\n            'top: 0;' +\n            'z-index: 1;'\n    );\n\n    // Apply a ponyfill if ResizeObserver is not implemented by browser.\n    if (this.ResizeObserver === undefined) {\n        if (window.ResizeObserver !== undefined) {\n            this.ResizeObserver = window.ResizeObserver;\n        } else {\n            var obs = _JSXTOOLS_RESIZE_OBSERVER({});\n            this.ResizeObserver = obs.ResizeObserver;\n        }\n    }\n\n    this.resizeObserverInstance = new this.ResizeObserver(function (entries) {\n        var nentries = entries.length;\n        for (var i = 0; i < nentries; i++) {\n            var entry = entries[i];\n            var width, height;\n            if (entry.contentBoxSize) {\n                if (entry.contentBoxSize instanceof Array) {\n                    // Chrome 84 implements new version of spec.\n                    width = entry.contentBoxSize[0].inlineSize;\n                    height = entry.contentBoxSize[0].blockSize;\n                } else {\n                    // Firefox implements old version of spec.\n                    width = entry.contentBoxSize.inlineSize;\n                    height = entry.contentBoxSize.blockSize;\n                }\n            } else {\n                // Chrome <84 implements even older version of spec.\n                width = entry.contentRect.width;\n                height = entry.contentRect.height;\n            }\n\n            // Keep the size of the canvas and rubber band canvas in sync with\n            // the canvas container.\n            if (entry.devicePixelContentBoxSize) {\n                // Chrome 84 implements new version of spec.\n                canvas.setAttribute(\n                    'width',\n                    entry.devicePixelContentBoxSize[0].inlineSize\n                );\n                canvas.setAttribute(\n                    'height',\n                    entry.devicePixelContentBoxSize[0].blockSize\n                );\n            } else {\n                canvas.setAttribute('width', width * fig.ratio);\n                canvas.setAttribute('height', height * fig.ratio);\n            }\n            /* This rescales the canvas back to display pixels, so that it\n             * appears correct on HiDPI screens. */\n            canvas.style.width = width + 'px';\n            canvas.style.height = height + 'px';\n\n            rubberband_canvas.setAttribute('width', width);\n            rubberband_canvas.setAttribute('height', height);\n\n            // And update the size in Python. We ignore the initial 0/0 size\n            // that occurs as the element is placed into the DOM, which should\n            // otherwise not happen due to the minimum size styling.\n            if (fig.ws.readyState == 1 && width != 0 && height != 0) {\n                fig.request_resize(width, height);\n            }\n        }\n    });\n    this.resizeObserverInstance.observe(canvas_div);\n\n    function on_mouse_event_closure(name) {\n        /* User Agent sniffing is bad, but WebKit is busted:\n         * https://bugs.webkit.org/show_bug.cgi?id=144526\n         * https://bugs.webkit.org/show_bug.cgi?id=181818\n         * The worst that happens here is that they get an extra browser\n         * selection when dragging, if this check fails to catch them.\n         */\n        var UA = navigator.userAgent;\n        var isWebKit = /AppleWebKit/.test(UA) && !/Chrome/.test(UA);\n        if(isWebKit) {\n            return function (event) {\n                /* This prevents the web browser from automatically changing to\n                 * the text insertion cursor when the button is pressed. We\n                 * want to control all of the cursor setting manually through\n                 * the 'cursor' event from matplotlib */\n                event.preventDefault()\n                return fig.mouse_event(event, name);\n            };\n        } else {\n            return function (event) {\n                return fig.mouse_event(event, name);\n            };\n        }\n    }\n\n    canvas_div.addEventListener(\n        'mousedown',\n        on_mouse_event_closure('button_press')\n    );\n    canvas_div.addEventListener(\n        'mouseup',\n        on_mouse_event_closure('button_release')\n    );\n    canvas_div.addEventListener(\n        'dblclick',\n        on_mouse_event_closure('dblclick')\n    );\n    // Throttle sequential mouse events to 1 every 20ms.\n    canvas_div.addEventListener(\n        'mousemove',\n        on_mouse_event_closure('motion_notify')\n    );\n\n    canvas_div.addEventListener(\n        'mouseenter',\n        on_mouse_event_closure('figure_enter')\n    );\n    canvas_div.addEventListener(\n        'mouseleave',\n        on_mouse_event_closure('figure_leave')\n    );\n\n    canvas_div.addEventListener('wheel', function (event) {\n        if (event.deltaY < 0) {\n            event.step = 1;\n        } else {\n            event.step = -1;\n        }\n        on_mouse_event_closure('scroll')(event);\n    });\n\n    canvas_div.appendChild(canvas);\n    canvas_div.appendChild(rubberband_canvas);\n\n    this.rubberband_context = rubberband_canvas.getContext('2d');\n    this.rubberband_context.strokeStyle = '#000000';\n\n    this._resize_canvas = function (width, height, forward) {\n        if (forward) {\n            canvas_div.style.width = width + 'px';\n            canvas_div.style.height = height + 'px';\n        }\n    };\n\n    // Disable right mouse context menu.\n    canvas_div.addEventListener('contextmenu', function (_e) {\n        event.preventDefault();\n        return false;\n    });\n\n    function set_focus() {\n        canvas.focus();\n        canvas_div.focus();\n    }\n\n    window.setTimeout(set_focus, 100);\n};\n\nmpl.figure.prototype._init_toolbar = function () {\n    var fig = this;\n\n    var toolbar = document.createElement('div');\n    toolbar.classList = 'mpl-toolbar';\n    this.root.appendChild(toolbar);\n\n    function on_click_closure(name) {\n        return function (_event) {\n            return fig.toolbar_button_onclick(name);\n        };\n    }\n\n    function on_mouseover_closure(tooltip) {\n        return function (event) {\n            if (!event.currentTarget.disabled) {\n                return fig.toolbar_button_onmouseover(tooltip);\n            }\n        };\n    }\n\n    fig.buttons = {};\n    var buttonGroup = document.createElement('div');\n    buttonGroup.classList = 'mpl-button-group';\n    for (var toolbar_ind in mpl.toolbar_items) {\n        var name = mpl.toolbar_items[toolbar_ind][0];\n        var tooltip = mpl.toolbar_items[toolbar_ind][1];\n        var image = mpl.toolbar_items[toolbar_ind][2];\n        var method_name = mpl.toolbar_items[toolbar_ind][3];\n\n        if (!name) {\n            /* Instead of a spacer, we start a new button group. */\n            if (buttonGroup.hasChildNodes()) {\n                toolbar.appendChild(buttonGroup);\n            }\n            buttonGroup = document.createElement('div');\n            buttonGroup.classList = 'mpl-button-group';\n            continue;\n        }\n\n        var button = (fig.buttons[name] = document.createElement('button'));\n        button.classList = 'mpl-widget';\n        button.setAttribute('role', 'button');\n        button.setAttribute('aria-disabled', 'false');\n        button.addEventListener('click', on_click_closure(method_name));\n        button.addEventListener('mouseover', on_mouseover_closure(tooltip));\n\n        var icon_img = document.createElement('img');\n        icon_img.src = '_images/' + image + '.png';\n        icon_img.srcset = '_images/' + image + '_large.png 2x';\n        icon_img.alt = tooltip;\n        button.appendChild(icon_img);\n\n        buttonGroup.appendChild(button);\n    }\n\n    if (buttonGroup.hasChildNodes()) {\n        toolbar.appendChild(buttonGroup);\n    }\n\n    var fmt_picker = document.createElement('select');\n    fmt_picker.classList = 'mpl-widget';\n    toolbar.appendChild(fmt_picker);\n    this.format_dropdown = fmt_picker;\n\n    for (var ind in mpl.extensions) {\n        var fmt = mpl.extensions[ind];\n        var option = document.createElement('option');\n        option.selected = fmt === mpl.default_extension;\n        option.innerHTML = fmt;\n        fmt_picker.appendChild(option);\n    }\n\n    var status_bar = document.createElement('span');\n    status_bar.classList = 'mpl-message';\n    toolbar.appendChild(status_bar);\n    this.message = status_bar;\n};\n\nmpl.figure.prototype.request_resize = function (x_pixels, y_pixels) {\n    // Request matplotlib to resize the figure. Matplotlib will then trigger a resize in the client,\n    // which will in turn request a refresh of the image.\n    this.send_message('resize', { width: x_pixels, height: y_pixels });\n};\n\nmpl.figure.prototype.send_message = function (type, properties) {\n    properties['type'] = type;\n    properties['figure_id'] = this.id;\n    this.ws.send(JSON.stringify(properties));\n};\n\nmpl.figure.prototype.send_draw_message = function () {\n    if (!this.waiting) {\n        this.waiting = true;\n        this.ws.send(JSON.stringify({ type: 'draw', figure_id: this.id }));\n    }\n};\n\nmpl.figure.prototype.handle_save = function (fig, _msg) {\n    var format_dropdown = fig.format_dropdown;\n    var format = format_dropdown.options[format_dropdown.selectedIndex].value;\n    fig.ondownload(fig, format);\n};\n\nmpl.figure.prototype.handle_resize = function (fig, msg) {\n    var size = msg['size'];\n    if (size[0] !== fig.canvas.width || size[1] !== fig.canvas.height) {\n        fig._resize_canvas(size[0], size[1], msg['forward']);\n        fig.send_message('refresh', {});\n    }\n};\n\nmpl.figure.prototype.handle_rubberband = function (fig, msg) {\n    var x0 = msg['x0'] / fig.ratio;\n    var y0 = (fig.canvas.height - msg['y0']) / fig.ratio;\n    var x1 = msg['x1'] / fig.ratio;\n    var y1 = (fig.canvas.height - msg['y1']) / fig.ratio;\n    x0 = Math.floor(x0) + 0.5;\n    y0 = Math.floor(y0) + 0.5;\n    x1 = Math.floor(x1) + 0.5;\n    y1 = Math.floor(y1) + 0.5;\n    var min_x = Math.min(x0, x1);\n    var min_y = Math.min(y0, y1);\n    var width = Math.abs(x1 - x0);\n    var height = Math.abs(y1 - y0);\n\n    fig.rubberband_context.clearRect(\n        0,\n        0,\n        fig.canvas.width / fig.ratio,\n        fig.canvas.height / fig.ratio\n    );\n\n    fig.rubberband_context.strokeRect(min_x, min_y, width, height);\n};\n\nmpl.figure.prototype.handle_figure_label = function (fig, msg) {\n    // Updates the figure title.\n    fig.header.textContent = msg['label'];\n};\n\nmpl.figure.prototype.handle_cursor = function (fig, msg) {\n    fig.canvas_div.style.cursor = msg['cursor'];\n};\n\nmpl.figure.prototype.handle_message = function (fig, msg) {\n    fig.message.textContent = msg['message'];\n};\n\nmpl.figure.prototype.handle_draw = function (fig, _msg) {\n    // Request the server to send over a new figure.\n    fig.send_draw_message();\n};\n\nmpl.figure.prototype.handle_image_mode = function (fig, msg) {\n    fig.image_mode = msg['mode'];\n};\n\nmpl.figure.prototype.handle_history_buttons = function (fig, msg) {\n    for (var key in msg) {\n        if (!(key in fig.buttons)) {\n            continue;\n        }\n        fig.buttons[key].disabled = !msg[key];\n        fig.buttons[key].setAttribute('aria-disabled', !msg[key]);\n    }\n};\n\nmpl.figure.prototype.handle_navigate_mode = function (fig, msg) {\n    if (msg['mode'] === 'PAN') {\n        fig.buttons['Pan'].classList.add('active');\n        fig.buttons['Zoom'].classList.remove('active');\n    } else if (msg['mode'] === 'ZOOM') {\n        fig.buttons['Pan'].classList.remove('active');\n        fig.buttons['Zoom'].classList.add('active');\n    } else {\n        fig.buttons['Pan'].classList.remove('active');\n        fig.buttons['Zoom'].classList.remove('active');\n    }\n};\n\nmpl.figure.prototype.updated_canvas_event = function () {\n    // Called whenever the canvas gets updated.\n    this.send_message('ack', {});\n};\n\n// A function to construct a web socket function for onmessage handling.\n// Called in the figure constructor.\nmpl.figure.prototype._make_on_message_function = function (fig) {\n    return function socket_on_message(evt) {\n        if (evt.data instanceof Blob) {\n            var img = evt.data;\n            if (img.type !== 'image/png') {\n                /* FIXME: We get \"Resource interpreted as Image but\n                 * transferred with MIME type text/plain:\" errors on\n                 * Chrome.  But how to set the MIME type?  It doesn't seem\n                 * to be part of the websocket stream */\n                img.type = 'image/png';\n            }\n\n            /* Free the memory for the previous frames */\n            if (fig.imageObj.src) {\n                (window.URL || window.webkitURL).revokeObjectURL(\n                    fig.imageObj.src\n                );\n            }\n\n            fig.imageObj.src = (window.URL || window.webkitURL).createObjectURL(\n                img\n            );\n            fig.updated_canvas_event();\n            fig.waiting = false;\n            return;\n        } else if (\n            typeof evt.data === 'string' &&\n            evt.data.slice(0, 21) === 'data:image/png;base64'\n        ) {\n            fig.imageObj.src = evt.data;\n            fig.updated_canvas_event();\n            fig.waiting = false;\n            return;\n        }\n\n        var msg = JSON.parse(evt.data);\n        var msg_type = msg['type'];\n\n        // Call the  \"handle_{type}\" callback, which takes\n        // the figure and JSON message as its only arguments.\n        try {\n            var callback = fig['handle_' + msg_type];\n        } catch (e) {\n            console.log(\n                \"No handler for the '\" + msg_type + \"' message type: \",\n                msg\n            );\n            return;\n        }\n\n        if (callback) {\n            try {\n                // console.log(\"Handling '\" + msg_type + \"' message: \", msg);\n                callback(fig, msg);\n            } catch (e) {\n                console.log(\n                    \"Exception inside the 'handler_\" + msg_type + \"' callback:\",\n                    e,\n                    e.stack,\n                    msg\n                );\n            }\n        }\n    };\n};\n\nfunction getModifiers(event) {\n    var mods = [];\n    if (event.ctrlKey) {\n        mods.push('ctrl');\n    }\n    if (event.altKey) {\n        mods.push('alt');\n    }\n    if (event.shiftKey) {\n        mods.push('shift');\n    }\n    if (event.metaKey) {\n        mods.push('meta');\n    }\n    return mods;\n}\n\n/*\n * return a copy of an object with only non-object keys\n * we need this to avoid circular references\n * https://stackoverflow.com/a/24161582/3208463\n */\nfunction simpleKeys(original) {\n    return Object.keys(original).reduce(function (obj, key) {\n        if (typeof original[key] !== 'object') {\n            obj[key] = original[key];\n        }\n        return obj;\n    }, {});\n}\n\nmpl.figure.prototype.mouse_event = function (event, name) {\n    if (name === 'button_press') {\n        this.canvas.focus();\n        this.canvas_div.focus();\n    }\n\n    // from https://stackoverflow.com/q/1114465\n    var boundingRect = this.canvas.getBoundingClientRect();\n    var x = (event.clientX - boundingRect.left) * this.ratio;\n    var y = (event.clientY - boundingRect.top) * this.ratio;\n\n    this.send_message(name, {\n        x: x,\n        y: y,\n        button: event.button,\n        step: event.step,\n        modifiers: getModifiers(event),\n        guiEvent: simpleKeys(event),\n    });\n\n    return false;\n};\n\nmpl.figure.prototype._key_event_extra = function (_event, _name) {\n    // Handle any extra behaviour associated with a key event\n};\n\nmpl.figure.prototype.key_event = function (event, name) {\n    // Prevent repeat events\n    if (name === 'key_press') {\n        if (event.key === this._key) {\n            return;\n        } else {\n            this._key = event.key;\n        }\n    }\n    if (name === 'key_release') {\n        this._key = null;\n    }\n\n    var value = '';\n    if (event.ctrlKey && event.key !== 'Control') {\n        value += 'ctrl+';\n    }\n    else if (event.altKey && event.key !== 'Alt') {\n        value += 'alt+';\n    }\n    else if (event.shiftKey && event.key !== 'Shift') {\n        value += 'shift+';\n    }\n\n    value += 'k' + event.key;\n\n    this._key_event_extra(event, name);\n\n    this.send_message(name, { key: value, guiEvent: simpleKeys(event) });\n    return false;\n};\n\nmpl.figure.prototype.toolbar_button_onclick = function (name) {\n    if (name === 'download') {\n        this.handle_save(this, null);\n    } else {\n        this.send_message('toolbar_button', { name: name });\n    }\n};\n\nmpl.figure.prototype.toolbar_button_onmouseover = function (tooltip) {\n    this.message.textContent = tooltip;\n};\n\n///////////////// REMAINING CONTENT GENERATED BY embed_js.py /////////////////\n// prettier-ignore\nvar _JSXTOOLS_RESIZE_OBSERVER=function(A){var t,i=new WeakMap,n=new WeakMap,a=new WeakMap,r=new WeakMap,o=new Set;function s(e){if(!(this instanceof s))throw new TypeError(\"Constructor requires 'new' operator\");i.set(this,e)}function h(){throw new TypeError(\"Function is not a constructor\")}function c(e,t,i,n){e=0 in arguments?Number(arguments[0]):0,t=1 in arguments?Number(arguments[1]):0,i=2 in arguments?Number(arguments[2]):0,n=3 in arguments?Number(arguments[3]):0,this.right=(this.x=this.left=e)+(this.width=i),this.bottom=(this.y=this.top=t)+(this.height=n),Object.freeze(this)}function d(){t=requestAnimationFrame(d);var s=new WeakMap,p=new Set;o.forEach((function(t){r.get(t).forEach((function(i){var r=t instanceof window.SVGElement,o=a.get(t),d=r?0:parseFloat(o.paddingTop),f=r?0:parseFloat(o.paddingRight),l=r?0:parseFloat(o.paddingBottom),u=r?0:parseFloat(o.paddingLeft),g=r?0:parseFloat(o.borderTopWidth),m=r?0:parseFloat(o.borderRightWidth),w=r?0:parseFloat(o.borderBottomWidth),b=u+f,F=d+l,v=(r?0:parseFloat(o.borderLeftWidth))+m,W=g+w,y=r?0:t.offsetHeight-W-t.clientHeight,E=r?0:t.offsetWidth-v-t.clientWidth,R=b+v,z=F+W,M=r?t.width:parseFloat(o.width)-R-E,O=r?t.height:parseFloat(o.height)-z-y;if(n.has(t)){var k=n.get(t);if(k[0]===M&&k[1]===O)return}n.set(t,[M,O]);var S=Object.create(h.prototype);S.target=t,S.contentRect=new c(u,d,M,O),s.has(i)||(s.set(i,[]),p.add(i)),s.get(i).push(S)}))})),p.forEach((function(e){i.get(e).call(e,s.get(e),e)}))}return s.prototype.observe=function(i){if(i instanceof window.Element){r.has(i)||(r.set(i,new Set),o.add(i),a.set(i,window.getComputedStyle(i)));var n=r.get(i);n.has(this)||n.add(this),cancelAnimationFrame(t),t=requestAnimationFrame(d)}},s.prototype.unobserve=function(i){if(i instanceof window.Element&&r.has(i)){var n=r.get(i);n.has(this)&&(n.delete(this),n.size||(r.delete(i),o.delete(i))),n.size||r.delete(i),o.size||cancelAnimationFrame(t)}},A.DOMRectReadOnly=c,A.ResizeObserver=s,A.ResizeObserverEntry=h,A}; // eslint-disable-line\nmpl.toolbar_items = [[\"Home\", \"Reset original view\", \"fa fa-home\", \"home\"], [\"Back\", \"Back to previous view\", \"fa fa-arrow-left\", \"back\"], [\"Forward\", \"Forward to next view\", \"fa fa-arrow-right\", \"forward\"], [\"\", \"\", \"\", \"\"], [\"Pan\", \"Left button pans, Right button zooms\\nx/y fixes axis, CTRL fixes aspect\", \"fa fa-arrows\", \"pan\"], [\"Zoom\", \"Zoom to rectangle\\nx/y fixes axis\", \"fa fa-square-o\", \"zoom\"], [\"\", \"\", \"\", \"\"], [\"Download\", \"Download plot\", \"fa fa-floppy-o\", \"download\"]];\n\nmpl.extensions = [\"eps\", \"jpeg\", \"pgf\", \"pdf\", \"png\", \"ps\", \"raw\", \"svg\", \"tif\", \"webp\"];\n\nmpl.default_extension = \"png\";/* global mpl */\n\nvar comm_websocket_adapter = function (comm) {\n    // Create a \"websocket\"-like object which calls the given IPython comm\n    // object with the appropriate methods. Currently this is a non binary\n    // socket, so there is still some room for performance tuning.\n    var ws = {};\n\n    ws.binaryType = comm.kernel.ws.binaryType;\n    ws.readyState = comm.kernel.ws.readyState;\n    function updateReadyState(_event) {\n        if (comm.kernel.ws) {\n            ws.readyState = comm.kernel.ws.readyState;\n        } else {\n            ws.readyState = 3; // Closed state.\n        }\n    }\n    comm.kernel.ws.addEventListener('open', updateReadyState);\n    comm.kernel.ws.addEventListener('close', updateReadyState);\n    comm.kernel.ws.addEventListener('error', updateReadyState);\n\n    ws.close = function () {\n        comm.close();\n    };\n    ws.send = function (m) {\n        //console.log('sending', m);\n        comm.send(m);\n    };\n    // Register the callback with on_msg.\n    comm.on_msg(function (msg) {\n        //console.log('receiving', msg['content']['data'], msg);\n        var data = msg['content']['data'];\n        if (data['blob'] !== undefined) {\n            data = {\n                data: new Blob(msg['buffers'], { type: data['blob'] }),\n            };\n        }\n        // Pass the mpl event to the overridden (by mpl) onmessage function.\n        ws.onmessage(data);\n    });\n    return ws;\n};\n\nmpl.mpl_figure_comm = function (comm, msg) {\n    // This is the function which gets called when the mpl process\n    // starts-up an IPython Comm through the \"matplotlib\" channel.\n\n    var id = msg.content.data.id;\n    // Get hold of the div created by the display call when the Comm\n    // socket was opened in Python.\n    var element = document.getElementById(id);\n    var ws_proxy = comm_websocket_adapter(comm);\n\n    function ondownload(figure, _format) {\n        window.open(figure.canvas.toDataURL());\n    }\n\n    var fig = new mpl.figure(id, ws_proxy, ondownload, element);\n\n    // Call onopen now - mpl needs it, as it is assuming we've passed it a real\n    // web socket which is closed, not our websocket->open comm proxy.\n    ws_proxy.onopen();\n\n    fig.parent_element = element;\n    fig.cell_info = mpl.find_output_cell(\"<div id='\" + id + \"'></div>\");\n    if (!fig.cell_info) {\n        console.error('Failed to find cell for figure', id, fig);\n        return;\n    }\n    fig.cell_info[0].output_area.element.on(\n        'cleared',\n        { fig: fig },\n        fig._remove_fig_handler\n    );\n};\n\nmpl.figure.prototype.handle_close = function (fig, msg) {\n    var width = fig.canvas.width / fig.ratio;\n    fig.cell_info[0].output_area.element.off(\n        'cleared',\n        fig._remove_fig_handler\n    );\n    fig.resizeObserverInstance.unobserve(fig.canvas_div);\n\n    // Update the output cell to use the data from the current canvas.\n    fig.push_to_output();\n    var dataURL = fig.canvas.toDataURL();\n    // Re-enable the keyboard manager in IPython - without this line, in FF,\n    // the notebook keyboard shortcuts fail.\n    IPython.keyboard_manager.enable();\n    fig.parent_element.innerHTML =\n        '<img src=\"' + dataURL + '\" width=\"' + width + '\">';\n    fig.close_ws(fig, msg);\n};\n\nmpl.figure.prototype.close_ws = function (fig, msg) {\n    fig.send_message('closing', msg);\n    // fig.ws.close()\n};\n\nmpl.figure.prototype.push_to_output = function (_remove_interactive) {\n    // Turn the data on the canvas into data in the output cell.\n    var width = this.canvas.width / this.ratio;\n    var dataURL = this.canvas.toDataURL();\n    this.cell_info[1]['text/html'] =\n        '<img src=\"' + dataURL + '\" width=\"' + width + '\">';\n};\n\nmpl.figure.prototype.updated_canvas_event = function () {\n    // Tell IPython that the notebook contents must change.\n    IPython.notebook.set_dirty(true);\n    this.send_message('ack', {});\n    var fig = this;\n    // Wait a second, then push the new image to the DOM so\n    // that it is saved nicely (might be nice to debounce this).\n    setTimeout(function () {\n        fig.push_to_output();\n    }, 1000);\n};\n\nmpl.figure.prototype._init_toolbar = function () {\n    var fig = this;\n\n    var toolbar = document.createElement('div');\n    toolbar.classList = 'btn-toolbar';\n    this.root.appendChild(toolbar);\n\n    function on_click_closure(name) {\n        return function (_event) {\n            return fig.toolbar_button_onclick(name);\n        };\n    }\n\n    function on_mouseover_closure(tooltip) {\n        return function (event) {\n            if (!event.currentTarget.disabled) {\n                return fig.toolbar_button_onmouseover(tooltip);\n            }\n        };\n    }\n\n    fig.buttons = {};\n    var buttonGroup = document.createElement('div');\n    buttonGroup.classList = 'btn-group';\n    var button;\n    for (var toolbar_ind in mpl.toolbar_items) {\n        var name = mpl.toolbar_items[toolbar_ind][0];\n        var tooltip = mpl.toolbar_items[toolbar_ind][1];\n        var image = mpl.toolbar_items[toolbar_ind][2];\n        var method_name = mpl.toolbar_items[toolbar_ind][3];\n\n        if (!name) {\n            /* Instead of a spacer, we start a new button group. */\n            if (buttonGroup.hasChildNodes()) {\n                toolbar.appendChild(buttonGroup);\n            }\n            buttonGroup = document.createElement('div');\n            buttonGroup.classList = 'btn-group';\n            continue;\n        }\n\n        button = fig.buttons[name] = document.createElement('button');\n        button.classList = 'btn btn-default';\n        button.href = '#';\n        button.title = name;\n        button.innerHTML = '<i class=\"fa ' + image + ' fa-lg\"></i>';\n        button.addEventListener('click', on_click_closure(method_name));\n        button.addEventListener('mouseover', on_mouseover_closure(tooltip));\n        buttonGroup.appendChild(button);\n    }\n\n    if (buttonGroup.hasChildNodes()) {\n        toolbar.appendChild(buttonGroup);\n    }\n\n    // Add the status bar.\n    var status_bar = document.createElement('span');\n    status_bar.classList = 'mpl-message pull-right';\n    toolbar.appendChild(status_bar);\n    this.message = status_bar;\n\n    // Add the close button to the window.\n    var buttongrp = document.createElement('div');\n    buttongrp.classList = 'btn-group inline pull-right';\n    button = document.createElement('button');\n    button.classList = 'btn btn-mini btn-primary';\n    button.href = '#';\n    button.title = 'Stop Interaction';\n    button.innerHTML = '<i class=\"fa fa-power-off icon-remove icon-large\"></i>';\n    button.addEventListener('click', function (_evt) {\n        fig.handle_close(fig, {});\n    });\n    button.addEventListener(\n        'mouseover',\n        on_mouseover_closure('Stop Interaction')\n    );\n    buttongrp.appendChild(button);\n    var titlebar = this.root.querySelector('.ui-dialog-titlebar');\n    titlebar.insertBefore(buttongrp, titlebar.firstChild);\n};\n\nmpl.figure.prototype._remove_fig_handler = function (event) {\n    var fig = event.data.fig;\n    if (event.target !== this) {\n        // Ignore bubbled events from children.\n        return;\n    }\n    fig.close_ws(fig, {});\n};\n\nmpl.figure.prototype._root_extra_style = function (el) {\n    el.style.boxSizing = 'content-box'; // override notebook setting of border-box.\n};\n\nmpl.figure.prototype._canvas_extra_style = function (el) {\n    // this is important to make the div 'focusable\n    el.setAttribute('tabindex', 0);\n    // reach out to IPython and tell the keyboard manager to turn it's self\n    // off when our div gets focus\n\n    // location in version 3\n    if (IPython.notebook.keyboard_manager) {\n        IPython.notebook.keyboard_manager.register_events(el);\n    } else {\n        // location in version 2\n        IPython.keyboard_manager.register_events(el);\n    }\n};\n\nmpl.figure.prototype._key_event_extra = function (event, _name) {\n    // Check for shift+enter\n    if (event.shiftKey && event.which === 13) {\n        this.canvas_div.blur();\n        // select the cell after this one\n        var index = IPython.notebook.find_cell_index(this.cell_info[0]);\n        IPython.notebook.select(index + 1);\n    }\n};\n\nmpl.figure.prototype.handle_save = function (fig, _msg) {\n    fig.ondownload(fig, null);\n};\n\nmpl.find_output_cell = function (html_output) {\n    // Return the cell and output element which can be found *uniquely* in the notebook.\n    // Note - this is a bit hacky, but it is done because the \"notebook_saving.Notebook\"\n    // IPython event is triggered only after the cells have been serialised, which for\n    // our purposes (turning an active figure into a static one), is too late.\n    var cells = IPython.notebook.get_cells();\n    var ncells = cells.length;\n    for (var i = 0; i < ncells; i++) {\n        var cell = cells[i];\n        if (cell.cell_type === 'code') {\n            for (var j = 0; j < cell.output_area.outputs.length; j++) {\n                var data = cell.output_area.outputs[j];\n                if (data.data) {\n                    // IPython >= 3 moved mimebundle to data attribute of output\n                    data = data.data;\n                }\n                if (data['text/html'] === html_output) {\n                    return [cell, data, j];\n                }\n            }\n        }\n    }\n};\n\n// Register the function which deals with the matplotlib target/channel.\n// The kernel may be null if the page has been refreshed.\nif (IPython.notebook.kernel !== null) {\n    IPython.notebook.kernel.comm_manager.register_target(\n        'matplotlib',\n        mpl.mpl_figure_comm\n    );\n}\n",
            "text/plain": [
              "<IPython.core.display.Javascript object>"
            ]
          },
          "metadata": {},
          "output_type": "display_data"
        },
        {
          "data": {
            "text/html": [
              "<div id='20ec4a1a-9a92-4d2c-96e6-dc169ab8c11c'></div>"
            ],
            "text/plain": [
              "<IPython.core.display.HTML object>"
            ]
          },
          "metadata": {},
          "output_type": "display_data"
        },
        {
          "name": "stderr",
          "output_type": "stream",
          "text": [
            "2024-05-01 00:40:39,612 - matplotlib.animation - INFO - Animation.save using <class 'matplotlib.animation.ImageMagickWriter'>\n",
            "2024-05-01 00:40:39,613 - matplotlib.animation - INFO - MovieWriter._run: running command: 'C:\\Program Files\\ImageMagick-7.1.1-Q16-HDRI\\magick.exe' -size 1000x800 -depth 8 -delay 10.0 -loop 0 rgba:- -layers OptimizePlus plot2.gif\n"
          ]
        }
      ],
      "source": [
        "# NEXT: try plotting optimisation\n",
        "from pyswarms.utils.plotters.plotters import plot_contour\n",
        "from pyswarms.utils.plotters.formatters import Designer\n",
        "import matplotlib.animation as animation\n",
        "from matplotlib import pyplot as plt\n",
        "from IPython.display import Image\n",
        "\n",
        "print(len(optimizer.pos_history))\n",
        "print(optimizer.pos_history[0].shape)\n",
        "\n",
        "print(optimizer.pos_history[0][:5])\n",
        "\n",
        "pos_history = []\n",
        "for pos_list in optimizer.pos_history:\n",
        "    pos_history.append(np.delete(pos_list,1,1))\n",
        "\n",
        "\n",
        "print(len(pos_history))\n",
        "print(pos_history[0].shape)\n",
        "print(pos_history[0][:5])\n",
        "\n",
        "#needs to be 2d array\n",
        "anim = plot_contour(pos_history, designer=Designer(limits=[(10,100),(1,10)]))\n",
        "\n",
        "anim.save('plot2.gif', writer='imagemagick', fps=10)\n"
      ]
    },
    {
      "cell_type": "markdown",
      "metadata": {
        "id": "RKiiNJ4o7kw-"
      },
      "source": [
        "# Testing"
      ]
    },
    {
      "cell_type": "code",
      "execution_count": 18,
      "metadata": {
        "id": "ltyXN1AK7kw_"
      },
      "outputs": [],
      "source": [
        "#use optimal hyperparameters to train model, then test"
      ]
    },
    {
      "cell_type": "markdown",
      "metadata": {
        "id": "p6Qp6DrX7kw_"
      },
      "source": [
        "To add later on if time:  \n",
        "-preprocessing (outliers, etc.)  \n",
        "-ensemble methods (ANN + SVM)"
      ]
    }
  ],
  "metadata": {
    "colab": {
      "provenance": []
    },
    "kernelspec": {
      "display_name": "Python 3",
      "language": "python",
      "name": "python3"
    },
    "language_info": {
      "codemirror_mode": {
        "name": "ipython",
        "version": 3
      },
      "file_extension": ".py",
      "mimetype": "text/x-python",
      "name": "python",
      "nbconvert_exporter": "python",
      "pygments_lexer": "ipython3",
      "version": "3.9.2"
    }
  },
  "nbformat": 4,
  "nbformat_minor": 0
}
