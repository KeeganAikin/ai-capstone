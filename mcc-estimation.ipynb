{
  "cells": [
    {
      "cell_type": "code",
      "source": [
        "from google.colab import drive\n",
        "drive.mount('/content/gdrive')"
      ],
      "metadata": {
        "colab": {
          "base_uri": "https://localhost:8080/"
        },
        "id": "Aqyv_trd7nno",
        "outputId": "cd9266e5-7baa-41f4-ee33-535c1888a6b8"
      },
      "execution_count": null,
      "outputs": [
        {
          "output_type": "stream",
          "name": "stdout",
          "text": [
            "Drive already mounted at /content/gdrive; to attempt to forcibly remount, call drive.mount(\"/content/gdrive\", force_remount=True).\n"
          ]
        }
      ]
    },
    {
      "cell_type": "code",
      "source": [
        "cd /content/gdrive/MyDrive/Capstone"
      ],
      "metadata": {
        "colab": {
          "base_uri": "https://localhost:8080/"
        },
        "id": "You3t3bD8aRH",
        "outputId": "8a859c36-5ddb-4cb0-aed1-9ca72acfd8cd"
      },
      "execution_count": null,
      "outputs": [
        {
          "output_type": "stream",
          "name": "stdout",
          "text": [
            "/content/gdrive/MyDrive/Capstone\n"
          ]
        }
      ]
    },
    {
      "cell_type": "markdown",
      "metadata": {
        "id": "4LqAn9E07kw2"
      },
      "source": [
        "# Loading the dataset"
      ]
    },
    {
      "cell_type": "code",
      "execution_count": null,
      "metadata": {
        "id": "09hP7l0I7kw6"
      },
      "outputs": [],
      "source": [
        "import pandas\n",
        "import numpy as np\n",
        "\n",
        "df = pandas.read_csv('data.csv', index_col='NUM')"
      ]
    },
    {
      "cell_type": "code",
      "source": [
        "del df[\"NAME\"]\n",
        "del df[\"COUNTRY\"]"
      ],
      "metadata": {
        "id": "_0ays1xR-Ui6"
      },
      "execution_count": null,
      "outputs": []
    },
    {
      "cell_type": "code",
      "source": [
        "from sklearn.model_selection import train_test_split, KFold, cross_val_score\n",
        "\n",
        "data, test = train_test_split(\n",
        "    df,\n",
        "    test_size = 0.2,\n",
        "    random_state = 5)\n",
        "\n",
        "print(data.shape)\n",
        "print(test.shape)"
      ],
      "metadata": {
        "colab": {
          "base_uri": "https://localhost:8080/"
        },
        "id": "WCjmO3Za9nGC",
        "outputId": "451ab256-f2d9-4515-cac8-0ddf2e47a373"
      },
      "execution_count": null,
      "outputs": [
        {
          "output_type": "stream",
          "name": "stdout",
          "text": [
            "(41, 6)\n",
            "(11, 6)\n"
          ]
        }
      ]
    },
    {
      "cell_type": "code",
      "source": [
        "X = data.loc[:,['Mine Annual Production (Million Tonne)',\n",
        "       'Stripping Ratio', 'Mill Annual Production (Thousand Tonne)',\n",
        "       'Reserve Mean Grade % Cu EQU.', 'LOM']]\n",
        "y = data[\"CAPEX US$ millions\"]"
      ],
      "metadata": {
        "id": "qnIP9-iZqueH"
      },
      "execution_count": null,
      "outputs": []
    },
    {
      "cell_type": "code",
      "source": [
        "num_folds = 6\n",
        "\n",
        "kf = KFold(n_splits=num_folds, shuffle=True, random_state=5)\n",
        "\n",
        "for c in kf.split(data):\n",
        "    print(c)"
      ],
      "metadata": {
        "colab": {
          "base_uri": "https://localhost:8080/"
        },
        "id": "rb2VwBPvobBX",
        "outputId": "4dbdd61e-d939-4850-f2b3-32c4e2886861"
      },
      "execution_count": null,
      "outputs": [
        {
          "output_type": "stream",
          "name": "stdout",
          "text": [
            "(array([ 0,  1,  2,  5,  7,  8,  9, 10, 11, 12, 13, 14, 15, 16, 17, 18, 19,\n",
            "       21, 25, 26, 27, 28, 29, 30, 31, 32, 33, 34, 35, 36, 37, 38, 39, 40]), array([ 3,  4,  6, 20, 22, 23, 24]))\n",
            "(array([ 1,  3,  4,  6,  7,  8,  9, 10, 11, 12, 13, 14, 15, 16, 17, 18, 19,\n",
            "       20, 21, 22, 23, 24, 25, 27, 29, 30, 31, 32, 33, 35, 36, 37, 38, 39]), array([ 0,  2,  5, 26, 28, 34, 40]))\n",
            "(array([ 0,  1,  2,  3,  4,  5,  6,  7,  8,  9, 11, 12, 13, 14, 15, 16, 17,\n",
            "       20, 21, 22, 23, 24, 26, 27, 28, 30, 31, 32, 33, 34, 35, 37, 38, 40]), array([10, 18, 19, 25, 29, 36, 39]))\n",
            "(array([ 0,  2,  3,  4,  5,  6,  7,  8,  9, 10, 12, 14, 15, 16, 17, 18, 19,\n",
            "       20, 22, 23, 24, 25, 26, 27, 28, 29, 30, 34, 35, 36, 37, 38, 39, 40]), array([ 1, 11, 13, 21, 31, 32, 33]))\n",
            "(array([ 0,  1,  2,  3,  4,  5,  6,  8,  9, 10, 11, 13, 14, 16, 18, 19, 20,\n",
            "       21, 22, 23, 24, 25, 26, 28, 29, 31, 32, 33, 34, 35, 36, 38, 39, 40]), array([ 7, 12, 15, 17, 27, 30, 37]))\n",
            "(array([ 0,  1,  2,  3,  4,  5,  6,  7, 10, 11, 12, 13, 15, 17, 18, 19, 20,\n",
            "       21, 22, 23, 24, 25, 26, 27, 28, 29, 30, 31, 32, 33, 34, 36, 37, 39,\n",
            "       40]), array([ 8,  9, 14, 16, 35, 38]))\n"
          ]
        }
      ]
    },
    {
      "cell_type": "markdown",
      "metadata": {
        "id": "H2KhoJGF7kw9"
      },
      "source": [
        "# K-fold Training, Validation, Optimisation"
      ]
    },
    {
      "cell_type": "code",
      "source": [
        "# Metrics:\n",
        "#   RMSE -> Root Mean Squared Error\n",
        "#   R2 -> Coefficient of Correlation\n",
        "#   MAE -> Mean Absolute Error\n",
        "#   APE -> Absolute Error"
      ],
      "metadata": {
        "id": "WQiYUB9J-vwm"
      },
      "execution_count": null,
      "outputs": []
    },
    {
      "cell_type": "code",
      "source": [
        "from sklearn.ensemble import RandomForestRegressor"
      ],
      "metadata": {
        "id": "aMFKZ9oMre-Z"
      },
      "execution_count": null,
      "outputs": []
    },
    {
      "cell_type": "code",
      "execution_count": null,
      "metadata": {
        "id": "5ve5p-W97kw-",
        "colab": {
          "base_uri": "https://localhost:8080/"
        },
        "outputId": "8fcde7d6-81c4-42ce-9d28-9f68f3730f2d"
      },
      "outputs": [
        {
          "output_type": "stream",
          "name": "stdout",
          "text": [
            "[ 0.60228018  0.38767531 -1.86661295  0.17676743  0.49824437  0.54742912]\n",
            "0.05763057812433733\n"
          ]
        }
      ],
      "source": [
        "rf = RandomForestRegressor()\n",
        "scores = cross_val_score(rf, X, y, cv=kf)\n",
        "print(scores)\n",
        "print(np.mean(scores))\n",
        "\n",
        "\n",
        "# average the scores for the model\n",
        "# then use scores for the optimisation algorithms"
      ]
    },
    {
      "cell_type": "code",
      "source": [
        "# ANN"
      ],
      "metadata": {
        "id": "4ZqlpUeb_nxq"
      },
      "execution_count": null,
      "outputs": []
    },
    {
      "cell_type": "code",
      "source": [
        "# SVM"
      ],
      "metadata": {
        "id": "R63mjR1D_k27"
      },
      "execution_count": null,
      "outputs": []
    },
    {
      "cell_type": "code",
      "source": [
        "# CART Tree (decision tree)"
      ],
      "metadata": {
        "id": "6DfRHOEc_iBO"
      },
      "execution_count": null,
      "outputs": []
    },
    {
      "cell_type": "code",
      "source": [
        "# Also look at what hyperparameters we can optimise for each."
      ],
      "metadata": {
        "id": "tARi1vMj_y7N"
      },
      "execution_count": null,
      "outputs": []
    },
    {
      "cell_type": "markdown",
      "metadata": {
        "id": "RKiiNJ4o7kw-"
      },
      "source": [
        "# Testing"
      ]
    },
    {
      "cell_type": "code",
      "execution_count": null,
      "metadata": {
        "id": "ltyXN1AK7kw_"
      },
      "outputs": [],
      "source": [
        "#use optimal hyperparameters to train model, then test"
      ]
    },
    {
      "cell_type": "markdown",
      "metadata": {
        "id": "p6Qp6DrX7kw_"
      },
      "source": [
        "To add later on if time:  \n",
        "-preprocessing (outliers, etc.)  \n",
        "-ensemble methods (ANN + SVM)"
      ]
    }
  ],
  "metadata": {
    "kernelspec": {
      "display_name": "Python 3",
      "language": "python",
      "name": "python3"
    },
    "language_info": {
      "codemirror_mode": {
        "name": "ipython",
        "version": 3
      },
      "file_extension": ".py",
      "mimetype": "text/x-python",
      "name": "python",
      "nbconvert_exporter": "python",
      "pygments_lexer": "ipython3",
      "version": "3.9.2"
    },
    "colab": {
      "provenance": []
    }
  },
  "nbformat": 4,
  "nbformat_minor": 0
}