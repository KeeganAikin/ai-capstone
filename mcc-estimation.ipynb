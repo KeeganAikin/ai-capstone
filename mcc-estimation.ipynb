{
  "cells": [
    {
      "cell_type": "markdown",
      "metadata": {
        "id": "4LqAn9E07kw2"
      },
      "source": [
        "# Loading the dataset"
      ]
    },
    {
      "cell_type": "code",
      "execution_count": 2,
      "metadata": {
        "id": "09hP7l0I7kw6"
      },
      "outputs": [],
      "source": [
        "import pandas\n",
        "import numpy as np\n",
        "\n",
        "df = pandas.read_csv('data.csv', index_col='NUM')"
      ]
    },
    {
      "cell_type": "code",
      "execution_count": 3,
      "metadata": {
        "id": "_0ays1xR-Ui6"
      },
      "outputs": [],
      "source": [
        "del df[\"NAME\"]\n",
        "del df[\"COUNTRY\"]"
      ]
    },
    {
      "cell_type": "code",
      "execution_count": 4,
      "metadata": {
        "colab": {
          "base_uri": "https://localhost:8080/"
        },
        "id": "WCjmO3Za9nGC",
        "outputId": "451ab256-f2d9-4515-cac8-0ddf2e47a373"
      },
      "outputs": [
        {
          "name": "stdout",
          "output_type": "stream",
          "text": [
            "(41, 6)\n",
            "(11, 6)\n"
          ]
        }
      ],
      "source": [
        "from sklearn.model_selection import train_test_split, KFold, ShuffleSplit, cross_val_score, cross_validate\n",
        "\n",
        "data, test = train_test_split(\n",
        "    df,\n",
        "    test_size = 0.2,\n",
        "    random_state = 5)\n",
        "\n",
        "print(data.shape)\n",
        "print(test.shape)"
      ]
    },
    {
      "cell_type": "code",
      "execution_count": 5,
      "metadata": {
        "id": "qnIP9-iZqueH"
      },
      "outputs": [],
      "source": [
        "X = data.loc[:,['Mine Annual Production (Million Tonne)',\n",
        "       'Stripping Ratio', 'Mill Annual Production (Thousand Tonne)',\n",
        "       'Reserve Mean Grade % Cu EQU.', 'LOM']]\n",
        "y = data[\"CAPEX US$ millions\"]\n",
        "\n",
        "test_X = data.loc[:,['Mine Annual Production (Million Tonne)',\n",
        "       'Stripping Ratio', 'Mill Annual Production (Thousand Tonne)',\n",
        "       'Reserve Mean Grade % Cu EQU.', 'LOM']]\n",
        "test_y = data[\"CAPEX US$ millions\"]"
      ]
    },
    {
      "cell_type": "code",
      "execution_count": 6,
      "metadata": {
        "colab": {
          "base_uri": "https://localhost:8080/"
        },
        "id": "rb2VwBPvobBX",
        "outputId": "4dbdd61e-d939-4850-f2b3-32c4e2886861"
      },
      "outputs": [
        {
          "name": "stdout",
          "output_type": "stream",
          "text": [
            "(array([22, 21, 32, 27, 33, 29, 31, 40,  4, 14, 10, 36, 24, 26, 35, 20, 18,\n",
            "       25,  6, 13,  7, 39,  1, 16,  0, 15,  5, 11,  9,  8, 12, 37]), array([ 3,  2, 23, 38, 17, 28, 19, 34, 30]))\n",
            "(array([28, 35, 39, 22, 10, 38, 37,  2, 27, 32,  0, 15, 18,  9, 19, 40, 16,\n",
            "       20, 26, 12, 11, 17, 24,  4, 36, 21,  6,  3,  7, 30,  8, 13]), array([23, 25,  1, 29, 34,  5, 31, 14, 33]))\n",
            "(array([30, 26, 11,  2, 16,  5,  4,  6, 20, 31,  3, 13, 17,  1, 37, 24,  0,\n",
            "       14, 35, 28, 40,  7, 25, 36, 15, 23, 10, 34, 32,  8, 38, 19]), array([27, 22, 18, 12, 21,  9, 33, 29, 39]))\n",
            "(array([15, 14, 16, 34, 26,  6, 29, 21, 37, 31,  2, 30, 19, 38,  9,  1, 12,\n",
            "        0, 20, 28, 35, 24, 25, 40, 17, 23, 10, 13, 32, 18,  4,  7]), array([39,  3, 22,  8, 27,  5, 36, 33, 11]))\n",
            "(array([34,  8, 28,  4, 27,  5, 31,  2,  9, 15, 24,  6, 11, 23, 36, 38, 14,\n",
            "       17, 29, 19, 39,  0,  7, 21, 25, 32, 10, 20, 33, 13, 37, 22]), array([16, 30, 12, 40, 18,  1,  3, 26, 35]))\n",
            "(array([39, 15,  9, 26,  4, 25, 37, 32, 13,  8, 10, 18, 33, 22, 38, 19, 20,\n",
            "       35,  1, 21, 36, 11, 31, 29,  0, 40,  2,  3, 28, 16, 23, 14]), array([24,  7,  6, 30,  5, 17, 12, 27, 34]))\n",
            "(array([40, 31, 25,  1, 16, 12, 21,  4, 18,  2, 20, 10,  0, 17, 38, 28, 36,\n",
            "       15,  6,  5, 33, 24,  3, 39, 32, 34, 35,  7, 22, 26, 19, 14]), array([13, 29, 23, 30, 11, 37,  9,  8, 27]))\n",
            "(array([ 8, 25, 11,  6,  5, 12, 18, 37, 30, 13, 32,  7, 15, 39, 29, 38, 26,\n",
            "       24,  3, 35, 31, 21, 14, 23,  4, 10, 28,  9, 19, 16, 22,  0]), array([40,  1, 34,  2, 33, 27, 17, 36, 20]))\n",
            "(array([23, 14, 31,  4, 17, 13, 39, 15, 24, 28, 12,  6,  3, 38,  2, 22, 29,\n",
            "        7, 20, 37,  0, 30, 18,  1, 27, 25,  9, 40, 26, 33, 34,  5]), array([19, 21, 35,  8, 16, 10, 11, 32, 36]))\n",
            "(array([ 5,  0,  7, 31, 39, 23, 15,  6,  1, 25, 34, 35,  9, 28,  3, 32,  8,\n",
            "       37, 14, 13,  4, 29, 21,  2, 17, 20, 30, 16, 36, 11, 18, 12]), array([33, 10, 40, 26, 38, 27, 19, 22, 24]))\n",
            "(array([35, 24,  7, 15,  9, 25,  2, 20,  5, 18, 31, 30,  1, 26, 34, 17, 33,\n",
            "        0, 27,  3, 36, 23,  4, 14, 32,  6, 22, 11, 37, 28, 16, 21]), array([40, 13, 19, 12, 39,  8, 38, 10, 29]))\n",
            "(array([19,  4, 34, 27, 33,  3, 37, 16, 39, 22, 24, 14, 20, 29, 25, 32,  5,\n",
            "       11,  9, 35, 10,  1, 26, 17, 12,  0, 28,  2, 23, 40,  8, 30]), array([38, 15, 31, 13,  7, 18, 36, 21,  6]))\n",
            "(array([ 6, 22, 35, 20,  2, 24, 23,  7,  4,  1, 13, 19, 21, 37, 26,  3, 31,\n",
            "       34, 11,  0, 16,  5, 27, 30, 18, 40, 10, 36, 15, 39, 32, 12]), array([14,  8, 17, 38, 33, 29, 28, 25,  9]))\n",
            "(array([ 2, 18, 10,  4, 12,  6, 35, 28, 31,  0, 36, 16, 24,  1, 22, 25, 26,\n",
            "        3,  9, 33, 11, 13, 19, 39, 34, 14,  7, 37,  5,  8, 27, 38]), array([23, 15, 20, 21, 32, 40, 29, 17, 30]))\n",
            "(array([10, 14,  0, 36, 21,  3, 11, 23,  2, 39, 24, 18,  6, 26, 13, 20, 33,\n",
            "       31,  9, 37,  5, 22, 30, 34, 40, 32, 19, 38, 27,  7, 17, 12]), array([29, 25,  8,  4,  1, 28, 35, 15, 16]))\n",
            "(array([28, 25, 13, 12, 29,  9, 32, 11, 35, 31,  3, 27,  2, 21, 37,  1, 34,\n",
            "       26,  4, 14, 20,  7, 23, 38, 33,  0, 24, 17, 16, 18, 39, 22]), array([ 5, 10, 15, 19, 40, 36,  6, 30,  8]))\n",
            "(array([10,  0, 27, 15, 14,  3,  2, 11, 30, 18, 17, 24, 33, 26, 37, 36,  6,\n",
            "       20, 13, 29,  1, 23,  9, 25, 35,  7, 28, 21, 32, 12, 39,  5]), array([ 8, 38,  4, 16, 19, 34, 31, 40, 22]))\n",
            "(array([14, 29, 26, 17, 40,  2, 18, 15,  3, 13,  7, 30, 33, 31, 22,  1,  8,\n",
            "        0, 28, 25, 10, 19,  6, 37, 38,  4, 27, 21, 24, 39, 32, 16]), array([12, 23, 34,  5, 11, 36, 20,  9, 35]))\n",
            "(array([13, 40,  2, 38, 12, 18,  8, 39, 32, 31, 33, 28, 27, 25, 37, 30,  7,\n",
            "       11,  5,  6, 23,  1, 22, 34, 10, 21, 26,  0,  9,  4, 20, 19]), array([17, 24, 14, 35, 29,  3, 16, 15, 36]))\n",
            "(array([39, 34, 15, 23, 31, 20, 17, 19,  9, 24,  3, 40, 18, 22, 26, 12, 35,\n",
            "       21, 11, 13, 14, 30,  1,  7, 37, 32,  4,  8, 33, 27, 10,  5]), array([16, 29, 28,  2,  6, 36, 25, 38,  0]))\n",
            "(array([ 3, 22,  4, 40, 24,  5, 29,  2,  7, 23, 38, 13, 18, 36, 12,  6, 35,\n",
            "       27, 37, 21, 15, 10, 31,  0, 30, 19, 25, 16,  1, 20, 26, 32]), array([ 8, 11,  9, 33, 17, 14, 34, 28, 39]))\n",
            "(array([ 8, 10, 11,  3, 16,  6, 24, 25, 27, 38, 28,  0, 39, 19, 13,  4,  9,\n",
            "       12, 14, 37, 21, 29,  7, 31, 35, 17, 18, 30, 33,  1,  5, 32]), array([ 2, 34, 20, 26, 22, 15, 36, 40, 23]))\n",
            "(array([31, 12, 27,  0,  7,  3, 19, 29,  2, 37, 33, 17,  8, 15, 14, 22,  1,\n",
            "       20, 30, 39, 35, 13, 40,  9, 21,  5, 36, 18, 25, 24, 23, 10]), array([32,  6,  4, 26, 34, 38, 16, 28, 11]))\n",
            "(array([18, 36, 14, 25,  0, 38, 32,  7, 15, 35,  9, 12, 23,  4,  6,  8, 17,\n",
            "       24, 13,  1, 22, 40, 39, 31,  3, 26,  5, 27, 10,  2, 11, 33]), array([19, 30, 37, 21, 20, 34, 28, 16, 29]))\n",
            "(array([12,  4,  6, 19, 25, 13, 24, 32, 30,  9, 31, 39,  8,  2, 11,  3, 20,\n",
            "       23, 33,  0, 36, 22, 18, 34,  7, 35, 40, 29, 10, 15,  5, 17]), array([26, 37,  1, 14, 27, 38, 21, 16, 28]))\n",
            "(array([17, 26, 15, 30,  2, 37,  5,  8,  4, 23, 27, 33,  1, 32, 29, 12, 18,\n",
            "        3,  6,  7,  9, 20, 11, 10, 35, 39, 22,  0, 28, 31, 24, 40]), array([14, 16, 36, 34, 25, 19, 13, 21, 38]))\n",
            "(array([ 7, 31, 14,  2, 22, 25, 15,  5,  3, 32, 29,  4, 12, 19, 26, 24, 38,\n",
            "       20,  6, 33, 40,  0, 30,  8, 18, 37, 34, 21, 28, 11, 35, 13]), array([ 9, 27, 10, 36, 23, 16,  1, 17, 39]))\n",
            "(array([ 1, 21, 17, 38, 23, 40,  2, 34,  0, 39, 22, 27, 10, 30, 32, 16, 19,\n",
            "        6, 26, 37, 12, 33, 11, 15,  4, 36, 28, 35, 20, 14,  3,  9]), array([ 8, 18,  5, 29,  7, 31, 24, 25, 13]))\n",
            "(array([30, 15,  6, 27, 14, 24, 16,  8, 40, 25, 37, 10, 35, 21, 17, 31, 28,\n",
            "       19,  2, 32, 29,  5,  4, 23, 34, 18, 13,  1, 39, 20, 26,  0]), array([33,  3, 22, 38, 11, 36, 12,  9,  7]))\n",
            "(array([11, 20, 30, 33,  0, 26, 19,  7, 36, 16, 38,  9, 22, 14, 35, 34, 18,\n",
            "        5, 32, 28, 37, 40, 29,  3,  2,  6, 13, 27,  4, 39, 24, 10]), array([ 8, 25, 31, 23, 15,  1, 21, 12, 17]))\n",
            "(array([33, 11, 17,  2, 12, 25, 16, 23, 37, 28,  3, 18, 15, 38, 10, 14,  8,\n",
            "        1, 32, 29, 19,  0, 22, 21, 24,  9, 30, 36, 39, 27,  7, 35]), array([26, 34, 40,  4,  5, 20, 13,  6, 31]))\n",
            "(array([21,  8, 10, 11, 13, 18,  1,  0, 12,  2, 29,  9,  3, 31, 20, 17, 28,\n",
            "       38, 25, 32, 14, 36, 39, 35, 16, 23, 34, 26, 30, 24, 15,  4]), array([37,  5, 19,  7, 33, 22, 40, 27,  6]))\n",
            "(array([18, 23, 39,  7, 11, 19, 27, 21, 37, 16,  4, 36, 34, 13, 22, 35,  5,\n",
            "       10,  6, 30, 32, 40, 17,  3,  9, 14, 20, 28, 33, 31, 25, 15]), array([29,  1,  0, 38,  8, 26,  2, 24, 12]))\n",
            "(array([36,  4, 38, 24,  8, 18, 22, 10, 35,  5,  6, 14, 12, 15,  3,  7, 39,\n",
            "       20, 30, 29, 31, 19, 26, 32,  2, 11, 33, 40, 21,  1, 23, 17]), array([ 0, 28,  9, 25, 13, 27, 37, 16, 34]))\n",
            "(array([11, 34, 19, 22, 28, 31, 26, 15, 21,  4, 29, 25, 17, 12,  5, 35, 32,\n",
            "        1,  3,  7, 38, 24, 13, 10, 18, 40, 39, 16, 33, 14,  0, 30]), array([ 6,  9, 23, 36, 20, 37, 27,  8,  2]))\n",
            "(array([18, 21, 30, 14, 27, 23, 13, 17, 10, 29,  8, 40, 38, 16,  7, 26, 12,\n",
            "       11,  6, 28, 24,  3,  9,  0,  5, 32, 35, 31, 39, 34, 36, 20]), array([ 4, 22, 33,  2, 15,  1, 19, 25, 37]))\n",
            "(array([26, 15,  9, 34, 33, 38, 18, 39, 17, 28,  7,  3, 13,  6, 16, 37,  8,\n",
            "       11, 32, 36, 24, 14, 22, 12, 35,  1, 20, 30,  0, 21, 23, 19]), array([29,  4, 40,  5, 25, 27, 31,  2, 10]))\n",
            "(array([37, 13, 34,  5,  4, 16,  9, 35, 38, 23, 22, 18, 19, 27, 10,  7, 15,\n",
            "       29, 33, 14,  8,  0, 26, 20, 28, 21, 25, 40, 31, 39,  3, 32]), array([ 2, 11,  1, 36, 30, 24, 17, 12,  6]))\n",
            "(array([37, 27, 21, 30, 23, 32, 40,  5, 10,  6, 18, 19, 22, 29, 24, 25, 31,\n",
            "        1,  3, 17,  2,  7, 15,  8, 16,  9, 20,  4,  0, 36, 14, 38]), array([13, 28, 39, 12, 26, 11, 34, 35, 33]))\n",
            "(array([38, 10,  5, 35, 29, 37,  2,  3, 14, 18, 31, 19, 17,  8, 25, 12, 33,\n",
            "       21,  9,  1, 22, 34, 28, 16, 39, 24,  6, 23, 20, 27,  0, 15]), array([32, 30, 36,  7, 40, 13, 11,  4, 26]))\n",
            "(array([ 8, 19, 27, 26,  6, 39,  1, 12, 37,  7,  4, 18, 13, 22, 17, 24, 14,\n",
            "       33,  9, 40, 25, 31, 34, 38, 30, 20, 28,  2,  3, 29, 21, 32]), array([23, 36, 35,  5, 15, 11,  0, 10, 16]))\n",
            "(array([26,  9, 13, 24,  5, 10, 33, 34, 20, 38, 28,  0, 23,  3, 19, 40, 29,\n",
            "       37, 36, 30, 11, 21, 17,  2, 39, 22, 18, 27, 35, 31,  1, 25]), array([ 4, 16, 15, 12,  8, 14,  7, 32,  6]))\n",
            "(array([12,  1,  5, 36, 29, 11, 23, 32,  3,  9,  2,  7, 35, 31, 37, 14, 19,\n",
            "       40, 30, 17, 33, 16, 21, 13, 22, 38,  4, 25, 10, 18, 15, 28]), array([ 6, 39, 34,  0,  8, 20, 27, 26, 24]))\n",
            "(array([31,  7, 26,  5, 24, 34, 12, 40, 16, 18,  2,  0, 30, 33, 19, 37, 23,\n",
            "       29, 32, 38, 39, 20, 28,  3, 14, 22, 25, 27, 17, 11,  8, 10]), array([15, 35,  1, 21, 13, 36,  6,  4,  9]))\n",
            "(array([ 6, 20, 27, 26,  0, 24, 12, 19, 31, 36, 10, 13, 15, 30, 29, 39, 33,\n",
            "       25, 35,  1,  2,  8, 21, 11,  3, 32, 14, 16, 40, 18, 28,  4]), array([38, 34, 37,  7, 23,  5,  9, 22, 17]))\n",
            "(array([39, 32, 18, 40, 17, 29, 34,  2, 19, 31, 21,  1, 23, 20, 28, 24, 37,\n",
            "       30,  7, 14, 27, 11, 25, 16, 13,  3, 10,  5,  0,  9, 36, 33]), array([ 8, 38,  4, 22, 26, 15, 12, 35,  6]))\n",
            "(array([40, 10, 33, 35, 23, 27, 24,  4, 13, 38, 25, 39,  1, 20, 22, 29,  9,\n",
            "       28,  7, 18, 30, 14, 12,  8, 36, 21,  5,  6, 34, 31, 15, 11]), array([19, 16, 32, 17,  0,  2, 26,  3, 37]))\n",
            "(array([13,  2,  9, 30, 24, 21, 14, 11, 16, 10,  3, 23, 18, 17, 27, 20, 40,\n",
            "       28,  6, 38, 25, 32, 26,  8,  1,  7,  4, 19, 15,  0, 29, 34]), array([36, 12, 37, 39,  5, 35, 31, 33, 22]))\n",
            "(array([18,  4,  7, 11, 40, 10, 29, 23,  9, 36, 19, 28, 35, 16, 12, 34, 26,\n",
            "       21, 33,  1, 31, 15, 37, 32, 38, 25, 27, 39,  5,  0, 22, 20]), array([14,  3, 13, 30, 17, 24,  8,  2,  6]))\n",
            "(array([23, 10, 31, 15, 27, 37,  2, 16, 13, 20, 19, 28, 12,  4, 32,  1, 18,\n",
            "        0,  9,  6, 21, 22,  7, 30,  3, 36, 33, 39, 14, 34, 24, 11]), array([ 5, 17, 35, 26,  8, 25, 40, 29, 38]))\n",
            "(array([14, 40, 19,  0, 20, 32,  4, 25, 37,  1, 17, 16, 31, 15, 36, 38, 18,\n",
            "       22,  2, 39, 29, 35, 23, 12, 27, 34, 11, 33, 30,  9,  8,  5]), array([10, 21, 28, 24,  3,  7,  6, 13, 26]))\n",
            "(array([10,  1, 32, 11, 23, 20, 19, 14, 21, 17,  5, 38,  6, 27,  0,  3, 30,\n",
            "       13, 25, 36, 29, 31,  2,  9,  7, 26, 28,  4, 39, 37, 16, 24]), array([ 8, 15, 34, 18, 35, 22, 12, 33, 40]))\n",
            "(array([35,  3, 21, 19, 28, 11, 24, 34, 32,  6, 10, 29, 17, 37, 26, 14,  9,\n",
            "       39, 20,  0, 38, 25, 36,  2,  7, 22, 23, 27, 13, 30, 31, 12]), array([ 1,  5, 18, 33, 40,  4, 15, 16,  8]))\n",
            "(array([23,  2, 20, 13, 39,  1,  7, 29, 31, 34, 38, 22, 11, 32, 10, 37, 24,\n",
            "       19, 33, 12, 16, 14, 18,  8,  5, 27, 21, 30, 28, 15,  4,  6]), array([35,  9, 17,  0,  3, 26, 36, 25, 40]))\n",
            "(array([ 0,  6, 18, 24, 31,  3, 39, 29, 16,  4, 23, 20, 11, 34,  2,  7,  9,\n",
            "       36, 38, 33, 35, 15, 25, 12,  5, 14, 26, 30, 37, 32, 40, 28]), array([ 8, 17, 19, 10, 27, 22,  1, 21, 13]))\n",
            "(array([38,  8, 31, 17,  6, 21, 28, 29, 24, 13, 22,  3, 40,  2, 27, 39, 34,\n",
            "       30, 37, 25, 18,  5, 11, 26, 12, 32,  0,  1, 23, 36, 14, 35]), array([15, 19, 10,  9,  7, 33,  4, 20, 16]))\n",
            "(array([19, 15, 12, 29, 35, 23, 17, 24, 27, 10,  3, 11, 36, 28,  4, 21,  7,\n",
            "        0, 25, 34, 33, 39, 13, 30, 38,  2,  5,  9, 32, 16, 18, 37]), array([40,  6, 20,  8,  1, 22, 31, 14, 26]))\n",
            "(array([27, 35,  1, 20,  9, 17, 16, 21, 32, 18,  4, 15, 33, 28, 13, 11,  6,\n",
            "       23, 36, 25, 22,  2, 40, 39, 24, 34, 12,  8, 10,  5, 19,  3]), array([30, 37, 14, 26,  0, 38, 31,  7, 29]))\n",
            "(array([23,  1, 21, 19, 39, 31, 24, 15, 28, 38, 16, 36, 37, 26,  3, 40, 13,\n",
            "        4,  9, 34,  0,  5,  8, 10, 33,  2, 20, 12, 11, 14,  7, 29]), array([17,  6, 35, 30, 27, 32, 22, 18, 25]))\n",
            "(array([34,  7, 17, 11, 26, 22, 36, 12, 30,  4, 31, 21, 40,  5, 19, 35,  2,\n",
            "        9, 27, 24, 13,  1, 38, 10, 28, 16, 18, 29,  8, 23,  6, 33]), array([15, 25, 20, 14, 32, 37, 39,  3,  0]))\n",
            "(array([25, 12,  2, 16,  3, 31,  4, 18, 34, 14,  0, 13,  9, 36, 33, 10, 39,\n",
            "       24,  7, 26,  5, 21,  8,  1, 23, 37, 11, 19, 20, 22, 28, 40]), array([ 6, 30, 17, 38, 15, 35, 32, 27, 29]))\n",
            "(array([16, 22,  5, 31, 29, 15, 35, 23, 20, 12, 26, 17,  6, 39, 36,  3,  7,\n",
            "       27, 28, 14, 40,  1, 25, 24, 37, 10,  9, 13,  4, 21,  8, 18]), array([32, 38,  0, 33, 34, 19, 11,  2, 30]))\n",
            "(array([16, 32,  8, 14, 28, 13, 33, 26, 38, 19, 17, 35, 34, 20, 30, 36,  2,\n",
            "       31,  1, 22, 12,  0,  7, 39,  9,  3, 21,  4,  6, 11, 24, 18]), array([29,  5, 37, 27, 23, 10, 25, 15, 40]))\n",
            "(array([36, 34,  7, 10,  6,  0,  9, 28,  3, 18, 33, 38, 12,  4, 37, 19, 15,\n",
            "       16, 35, 20, 39, 14,  8, 29, 32, 17, 25, 27, 22, 13, 21,  1]), array([40, 23, 26, 31,  2, 30,  5, 11, 24]))\n",
            "(array([25, 24, 36, 23,  5, 16, 32, 38, 20, 31,  9,  1, 34,  6,  0, 30, 10,\n",
            "        3,  2, 29, 12, 28, 11, 17, 22, 18, 33, 13, 14, 19, 21,  7]), array([27,  4, 15, 26, 37,  8, 39, 40, 35]))\n",
            "(array([35, 34, 19,  5, 33, 28,  4, 23, 12, 17, 13, 40, 38, 20,  7, 11,  6,\n",
            "       15,  2, 18, 10,  0,  1, 31, 39, 14, 24,  3,  8, 32, 36, 30]), array([16, 27, 21, 26, 29, 25,  9, 22, 37]))\n",
            "(array([34, 19, 11, 30, 20, 40, 10, 33, 37, 26, 24, 15, 14, 25,  5,  3, 18,\n",
            "        2, 39, 27, 32, 22,  9, 35,  0,  6, 23, 28, 17,  4,  8, 12]), array([ 7, 29, 13, 21, 16, 31,  1, 36, 38]))\n",
            "(array([ 8, 18, 37, 12, 10, 21, 40, 27,  3, 36,  2, 26, 24, 35, 17, 31, 19,\n",
            "       30,  6, 29,  1,  7, 15, 14,  9, 22, 28,  5, 11, 25, 13, 34]), array([ 4, 38, 33, 23, 20,  0, 32, 39, 16]))\n",
            "(array([31,  2,  5, 16, 15, 37, 22, 19,  6, 39, 25, 21, 24,  7,  0, 17, 23,\n",
            "       40, 12,  4,  9, 32, 26, 13,  3, 38, 33, 30, 29, 10, 14,  8]), array([28, 20, 35,  1, 36, 18, 11, 27, 34]))\n",
            "(array([10, 22,  6, 32, 27, 16, 26, 12, 36, 17, 14, 11, 23, 21, 33, 38,  9,\n",
            "       20,  7, 35, 19, 40, 15, 30, 29,  4, 31,  8, 28, 24, 37,  0]), array([34,  5, 39, 25, 18,  3,  1,  2, 13]))\n",
            "(array([ 0, 20, 14, 18, 15, 25,  3,  2, 11, 32, 22, 24, 40, 38, 39, 31, 29,\n",
            "       21, 12, 36, 33, 27, 16, 35, 37,  9, 30, 23, 26,  6, 17, 19]), array([ 8,  4, 28, 34,  1, 10, 13,  7,  5]))\n",
            "(array([15, 11, 35, 37, 10, 39, 13, 19, 17,  8, 14,  0, 32, 20, 12, 34, 29,\n",
            "       27,  5,  7,  6,  4, 31, 30, 33, 21, 22, 23, 16, 24,  3, 36]), array([18,  1,  9,  2, 26, 40, 28, 25, 38]))\n",
            "(array([33,  9, 17,  4,  5, 26, 37, 10, 14, 31, 11, 13,  6,  8,  2, 12, 40,\n",
            "       27, 32,  1,  0, 15, 23, 21, 19, 34, 18,  3, 35, 39,  7, 38]), array([24, 30, 22, 16, 36, 20, 28, 25, 29]))\n",
            "(array([23,  7, 39, 12, 25, 31,  8, 18, 15,  5, 27, 38, 32, 20, 19, 21, 10,\n",
            "       40, 17, 29,  6,  4, 26,  9, 36, 28, 16,  0,  3, 34, 30, 13]), array([37, 24, 11, 35, 33,  2, 14, 22,  1]))\n",
            "(array([29, 13, 27, 34,  2, 37, 35, 40, 10, 19, 18,  7, 14, 17,  0, 39, 30,\n",
            "       26, 21, 11,  9, 38,  1, 20, 36, 28,  3, 24, 22, 23,  8, 25]), array([31, 15, 16,  5, 32, 12,  6, 33,  4]))\n",
            "(array([ 0, 14, 28,  9,  4, 33,  3, 17, 40, 36, 30, 10, 32,  6, 20,  5, 18,\n",
            "       19, 24, 25, 22, 31, 35, 26, 21, 11, 15, 27, 23,  8, 12, 34]), array([ 7, 29, 38, 37, 16, 39,  2,  1, 13]))\n",
            "(array([19, 31,  7, 10, 34,  0, 37,  5, 32, 29, 17, 35, 26,  4, 12, 33, 27,\n",
            "       24,  9, 11,  1, 39,  8, 21, 30,  2, 36, 18, 16, 28, 15, 23]), array([ 3,  6, 25, 40, 13, 38, 20, 14, 22]))\n",
            "(array([ 8,  4, 20, 15, 28, 36, 25, 23, 35,  0, 13,  9, 30,  6, 22, 26,  5,\n",
            "       11, 19, 29, 33, 16, 21, 40, 34, 32,  2, 14, 38, 39, 31, 37]), array([ 3, 27, 18, 17, 24,  7,  1, 10, 12]))\n",
            "(array([31,  0, 21, 20, 12, 40, 34, 28, 22, 37, 19, 10,  1, 32, 17,  7, 25,\n",
            "       36,  5, 33, 15, 35, 14, 27,  8, 39, 23,  9, 13, 29, 26, 18]), array([16,  4,  6,  3,  2, 24, 38, 30, 11]))\n",
            "(array([ 8, 25, 29, 38, 19, 13, 33, 20, 22, 15,  9, 26, 28,  0, 23,  7, 30,\n",
            "       21, 36,  6, 14, 24, 18, 39, 17,  1,  5, 10,  2,  3,  4, 37]), array([31, 34, 40, 16, 32, 11, 12, 27, 35]))\n",
            "(array([37, 11, 27, 21, 29, 25, 15, 39,  6,  1, 35,  3, 30,  7,  9, 24, 20,\n",
            "       32, 10, 38,  0,  5,  8,  2, 14, 28, 23, 31, 13, 22, 12, 34]), array([16, 17, 26, 19, 18,  4, 33, 36, 40]))\n",
            "(array([ 7,  5,  4, 27, 36, 34, 29, 32, 10, 13, 15,  2, 21,  6, 25,  8, 40,\n",
            "        3, 19, 28, 33, 24, 12, 26, 38, 23,  0, 11, 14, 17, 37, 16]), array([30,  9, 39, 35,  1, 22, 18, 31, 20]))\n",
            "(array([19, 33, 24, 40, 37, 23, 20, 10,  4, 30, 13,  7, 14, 29, 16, 35, 26,\n",
            "        2, 22,  6, 25, 21, 39, 12, 17,  9, 36, 27, 18, 32, 34,  5]), array([ 8, 15,  0, 31, 28, 11,  1, 38,  3]))\n",
            "(array([10, 33, 25, 16, 26,  1, 36, 38,  7, 22,  0, 32, 28, 30, 15, 31,  8,\n",
            "       12, 20,  9, 23, 18, 29, 37,  6,  3,  4, 19, 24, 40, 21, 39]), array([35, 13, 27, 34, 11,  5, 14, 17,  2]))\n",
            "(array([19, 33, 27, 29, 30,  8, 16,  1, 10, 32, 37, 38, 21,  5, 13, 20,  2,\n",
            "       25, 11, 39, 24, 34, 36, 28, 12, 17, 15, 26, 22, 14,  0,  9]), array([23, 35,  3,  7,  4, 31, 18, 40,  6]))\n",
            "(array([ 4, 35, 16,  2, 23, 15, 21,  8, 10, 34, 25, 37, 33, 26,  6, 27, 32,\n",
            "       39, 40, 17, 36,  5, 28, 12, 11, 18,  7, 13, 19, 30, 22, 24]), array([ 9, 20,  0,  1, 29,  3, 38, 31, 14]))\n",
            "(array([17,  9, 32, 14, 20, 23, 35,  4, 30, 22, 16,  8,  0,  2, 37, 38,  5,\n",
            "        1, 31, 26, 25, 11, 24, 39, 10, 33, 15,  7, 40,  6,  3, 18]), array([36, 34, 12, 29, 13, 21, 28, 27, 19]))\n",
            "(array([21,  5, 37, 34, 11,  0, 24, 15, 26, 17, 35, 16, 20,  4,  8, 27, 28,\n",
            "       40,  3,  6,  1, 32, 18,  7, 19, 13, 10, 22,  9, 33, 31, 14]), array([38, 36, 12, 25, 29, 39, 30, 23,  2]))\n",
            "(array([33, 22, 28, 10, 15, 35,  3, 39, 13, 34,  0, 30, 21, 23, 40, 12,  6,\n",
            "       25,  8, 24,  5, 14,  4, 26, 11, 36, 38, 20, 19, 32, 27,  1]), array([ 9, 17,  2, 16,  7, 29, 18, 31, 37]))\n",
            "(array([37, 26, 29, 20,  4, 15,  2, 32,  8, 23, 19, 40, 18, 34,  6, 28, 30,\n",
            "       39, 12, 38,  3, 31, 35,  7, 14, 16, 21, 10, 33, 13, 22, 24]), array([17, 36,  1, 25,  5,  9, 27,  0, 11]))\n",
            "(array([38, 40, 16,  2,  0, 18,  3, 25, 17,  6, 37, 30, 20, 32, 31, 21,  1,\n",
            "       27, 10, 33, 13, 39, 28, 34, 24,  5, 14, 12, 11, 35, 29, 22]), array([ 8, 15, 23, 19, 36,  7, 26,  9,  4]))\n",
            "(array([31, 23, 14, 26, 15, 22,  2, 17,  3, 33, 39, 13,  9, 21, 34, 16, 30,\n",
            "       18,  1, 19,  4,  7, 29, 20,  5, 28, 32,  8, 38, 25, 11, 40]), array([ 0, 24, 35, 27,  6, 10, 12, 37, 36]))\n",
            "(array([17, 32, 20, 40,  4, 34,  1, 28, 18, 13, 37,  5,  9,  6,  0, 26, 30,\n",
            "       10, 16, 25, 39, 21, 35, 33,  8, 31,  3,  2, 36, 27, 22, 15]), array([29, 38, 14, 24, 19,  7, 11, 23, 12]))\n",
            "(array([ 0,  2,  8, 18,  9,  6, 37, 38, 16, 27,  4, 36, 21, 20, 10, 12, 11,\n",
            "       15, 35,  7, 26, 14, 19, 17, 22, 39, 31, 40, 23, 25,  5, 29]), array([13, 32,  3,  1, 34, 33, 24, 30, 28]))\n",
            "(array([ 8, 19, 27, 10, 26, 36, 12, 24, 39,  3, 37,  6, 13, 21, 30, 11, 18,\n",
            "       32, 29, 14, 25, 33,  4, 20, 23, 17, 35, 15, 38,  5,  7, 16]), array([ 2,  1, 34,  9, 22, 31, 40, 28,  0]))\n",
            "(array([ 6,  9, 19, 30,  3, 40,  4, 11, 34, 25, 33,  1, 21,  5, 13, 15, 14,\n",
            "       27, 26,  2, 32, 29, 37,  0, 28, 23, 31, 36,  7, 10, 12, 22]), array([20,  8, 16, 17, 18, 39, 24, 38, 35]))\n",
            "(array([20, 25, 15,  4, 21, 22,  1, 12, 27,  0, 33, 38, 40, 24,  9, 16, 26,\n",
            "       32,  7, 39, 17, 35, 28, 23, 34, 19, 30, 36,  2,  5, 37, 29]), array([18,  6, 11, 31,  3,  8, 13, 14, 10]))\n",
            "(array([ 0, 30, 29,  3,  6, 21,  8, 37, 32, 34, 13, 19, 20,  9, 15, 31, 24,\n",
            "       27, 25, 33,  5, 36, 16,  1, 26, 23,  4, 11, 17, 35, 12, 10]), array([ 7, 40,  2, 28, 38, 18, 22, 14, 39]))\n",
            "(array([ 6,  8, 10, 40, 25, 37, 16, 14,  5, 35, 31, 22, 24,  2, 38, 21, 18,\n",
            "       30, 19,  7, 12, 23,  1, 15, 27, 32, 29, 20,  9, 33, 28, 17]), array([26, 39, 11, 13,  3, 34,  0,  4, 36]))\n",
            "(array([11, 24,  5, 21, 40, 36, 31,  4,  2,  9, 35,  8, 10, 19,  7, 13,  1,\n",
            "       34, 12, 26, 18, 37,  6, 25, 33, 15, 38, 20, 14, 28, 27, 17]), array([32,  0, 30, 39, 29,  3, 16, 22, 23]))\n"
          ]
        }
      ],
      "source": [
        "num_folds = 6\n",
        "\n",
        "from sklearn.model_selection import ShuffleSplit\n",
        "\n",
        "# K-Fold cross validation\n",
        "kf = KFold(n_splits=num_folds, shuffle=True, random_state=6)\n",
        "\n",
        "# Monte Carlo cross validation\n",
        "random_splits = ShuffleSplit(n_splits=100, test_size=0.2, random_state=1)\n",
        "\n",
        "for c in random_splits.split(data):\n",
        "    print(c)\n"
      ]
    },
    {
      "cell_type": "markdown",
      "metadata": {},
      "source": [
        "# Metrics"
      ]
    },
    {
      "cell_type": "code",
      "execution_count": 7,
      "metadata": {
        "id": "WQiYUB9J-vwm"
      },
      "outputs": [],
      "source": [
        "# Metrics:\n",
        "#   RMSE -> Root Mean Squared Error\n",
        "#   R2 -> Coefficient of Determination\n",
        "#   MAE -> Mean Absolute Error\n",
        "#   APE -> Absolute Error"
      ]
    },
    {
      "cell_type": "code",
      "execution_count": 8,
      "metadata": {},
      "outputs": [],
      "source": [
        "from sklearn import metrics\n",
        "\n",
        "def RMSE(model, X, y):\n",
        "    return metrics.root_mean_squared_error(y,model.predict(X))\n",
        "\n",
        "def R2(model, X, y):\n",
        "    return metrics.r2_score(y,model.predict(X))\n",
        "\n",
        "def MAE(model, X, y):\n",
        "    return metrics.mean_absolute_error(y,model.predict(X))\n",
        "\n",
        "def APE(model, X, y):\n",
        "    return metrics.mean_absolute_percentage_error(y,model.predict(X))\n",
        "\n",
        "\n",
        "def all_scores(model, X, y):\n",
        "    return {\n",
        "        \"RMSE\": RMSE(model, X, y),\n",
        "        \"R2\": R2(model, X, y),\n",
        "        \"MAE\": MAE(model, X, y),\n",
        "        \"APE\": APE(model, X, y)\n",
        "    }\n",
        "\n"
      ]
    },
    {
      "cell_type": "markdown",
      "metadata": {
        "id": "H2KhoJGF7kw9"
      },
      "source": [
        "# Models"
      ]
    },
    {
      "cell_type": "code",
      "execution_count": 9,
      "metadata": {
        "id": "aMFKZ9oMre-Z"
      },
      "outputs": [],
      "source": [
        "from sklearn.ensemble import RandomForestRegressor\n",
        "from sklearn.neural_network import MLPRegressor\n",
        "from sklearn.svm import SVR\n",
        "from sklearn.tree import DecisionTreeRegressor\n",
        "from pyswarms.single.global_best import GlobalBestPSO"
      ]
    },
    {
      "cell_type": "code",
      "execution_count": 10,
      "metadata": {},
      "outputs": [],
      "source": [
        "# average the scores for each model\n",
        "# then use scores for the optimisation algorithms"
      ]
    },
    {
      "cell_type": "code",
      "execution_count": 25,
      "metadata": {
        "id": "4ZqlpUeb_nxq"
      },
      "outputs": [
        {
          "name": "stdout",
          "output_type": "stream",
          "text": [
            "Training Set\n",
            "RMSE 1093.3271240283605\n",
            "R2 0.5087378732687482\n",
            "MAE 723.1863246891122\n",
            "APE 0.34199746452292373\n",
            "Validation Set\n",
            "RMSE 1056.9221753630932\n",
            "R2 0.34536057281741317\n",
            "MAE 748.3002189152903\n",
            "APE 0.3506857983061111\n"
          ]
        }
      ],
      "source": [
        "from warnings import simplefilter\n",
        "from sklearn.exceptions import ConvergenceWarning\n",
        "simplefilter(\"ignore\", category=ConvergenceWarning)\n",
        "\n",
        "# ANN\n",
        "mlp = MLPRegressor(random_state=1, early_stopping=False)\n",
        "scores = cross_validate(mlp, X, y, cv=random_splits, scoring=all_scores, return_train_score=True)\n",
        "print(\"Training Set\")\n",
        "print(\"RMSE\",np.mean(scores[\"train_RMSE\"]))\n",
        "print(\"R2\",np.mean(scores[\"train_R2\"]))\n",
        "print(\"MAE\",np.mean(scores[\"train_MAE\"]))\n",
        "print(\"APE\",np.mean(scores[\"train_APE\"]))\n",
        "print(\"Validation Set\")\n",
        "print(\"RMSE\",np.mean(scores[\"test_RMSE\"]))\n",
        "print(\"R2\",np.mean(scores[\"test_R2\"]))\n",
        "print(\"MAE\",np.mean(scores[\"test_MAE\"]))\n",
        "print(\"APE\",np.mean(scores[\"test_APE\"]))\n",
        "\n",
        "\n",
        "# Hyperparameters to optimise:\n",
        "#   -max iterations\n",
        "#   -number of hidden layers\n",
        "#   -size of layers\n",
        "#   -learning rate\n",
        "\n",
        "\n",
        "# Training Set\n",
        "# RMSE 1031.1609641480381\n",
        "# R2 0.5629989516061379\n",
        "# MAE 710.2267960221794\n",
        "# APE 0.3683279698501283\n",
        "# Validation Set\n",
        "# RMSE 1037.0554540185617\n",
        "# R2 0.3592855271192601\n",
        "# MAE 746.6611937168674\n",
        "# APE 0.37957170166287324\n"
      ]
    },
    {
      "cell_type": "code",
      "execution_count": 19,
      "metadata": {
        "colab": {
          "base_uri": "https://localhost:8080/"
        },
        "id": "5ve5p-W97kw-",
        "outputId": "8fcde7d6-81c4-42ce-9d28-9f68f3730f2d"
      },
      "outputs": [
        {
          "name": "stdout",
          "output_type": "stream",
          "text": [
            "dict_keys(['fit_time', 'score_time', 'test_RMSE', 'train_RMSE', 'test_R2', 'train_R2', 'test_MAE', 'train_MAE', 'test_APE', 'train_APE'])\n",
            "Training Set\n",
            "RMSE 713.5366013491529\n",
            "R2 0.7874600030144197\n",
            "MAE 524.3354338093777\n",
            "APE 0.281212716336767\n",
            "Validation Set\n",
            "RMSE 1118.537150434796\n",
            "R2 0.22283175224100898\n",
            "MAE 856.8777603844175\n",
            "APE 0.4558431592958737\n"
          ]
        }
      ],
      "source": [
        "# RF\n",
        "rf = RandomForestRegressor(n_estimators=100, max_depth=10, min_samples_leaf=3)\n",
        "scores = cross_validate(rf, X, y, cv=random_splits, scoring=all_scores, return_train_score=True)\n",
        "print(scores.keys())\n",
        "print(\"Training Set\")\n",
        "print(\"RMSE\",np.mean(scores[\"train_RMSE\"]))\n",
        "print(\"R2\",np.mean(scores[\"train_R2\"]))\n",
        "print(\"MAE\",np.mean(scores[\"train_MAE\"]))\n",
        "print(\"APE\",np.mean(scores[\"train_APE\"]))\n",
        "print(\"Validation Set\")\n",
        "print(\"RMSE\",np.mean(scores[\"test_RMSE\"]))\n",
        "print(\"R2\",np.mean(scores[\"test_R2\"]))\n",
        "print(\"MAE\",np.mean(scores[\"test_MAE\"]))\n",
        "print(\"APE\",np.mean(scores[\"test_APE\"]))\n",
        "\n",
        "# Hyperparameters to optimise:\n",
        "#   -number of estimators\n",
        "#   -max depth\n",
        "#   -minimum samples per leaf"
      ]
    },
    {
      "cell_type": "code",
      "execution_count": 12,
      "metadata": {
        "id": "R63mjR1D_k27"
      },
      "outputs": [
        {
          "name": "stdout",
          "output_type": "stream",
          "text": [
            "Training Set\n",
            "RMSE 1659.0602490830192\n",
            "R2 -0.11466168128064899\n",
            "MAE 1071.456955759421\n",
            "APE 0.5711130233914902\n",
            "Validation Set\n",
            "RMSE 1565.6723646278892\n",
            "R2 -0.2145234309650804\n",
            "MAE 1051.0410725264094\n",
            "APE 0.5490241707548784\n"
          ]
        }
      ],
      "source": [
        "# SVM\n",
        "svr = SVR()\n",
        "\n",
        "scores = cross_validate(svr, X, y, cv=random_splits, scoring=all_scores, return_train_score=True)\n",
        "print(\"Training Set\")\n",
        "print(\"RMSE\",np.mean(scores[\"train_RMSE\"]))\n",
        "print(\"R2\",np.mean(scores[\"train_R2\"]))\n",
        "print(\"MAE\",np.mean(scores[\"train_MAE\"]))\n",
        "print(\"APE\",np.mean(scores[\"train_APE\"]))\n",
        "print(\"Validation Set\")\n",
        "print(\"RMSE\",np.mean(scores[\"test_RMSE\"]))\n",
        "print(\"R2\",np.mean(scores[\"test_R2\"]))\n",
        "print(\"MAE\",np.mean(scores[\"test_MAE\"]))\n",
        "print(\"APE\",np.mean(scores[\"test_APE\"]))\n"
      ]
    },
    {
      "cell_type": "code",
      "execution_count": 13,
      "metadata": {
        "id": "6DfRHOEc_iBO"
      },
      "outputs": [
        {
          "name": "stdout",
          "output_type": "stream",
          "text": [
            "Training Set\n",
            "RMSE 0.0\n",
            "R2 1.0\n",
            "MAE 0.0\n",
            "APE 0.0\n",
            "Validation Set\n",
            "RMSE 1357.8027204072475\n",
            "R2 -0.0702878173163862\n",
            "MAE 1000.7377777777779\n",
            "APE 0.5457732737140774\n",
            "Hyperparameters: {'ccp_alpha': 0.0, 'criterion': 'squared_error', 'max_depth': None, 'max_features': None, 'max_leaf_nodes': None, 'min_impurity_decrease': 0.0, 'min_samples_leaf': 1, 'min_samples_split': 2, 'min_weight_fraction_leaf': 0.0, 'monotonic_cst': None, 'random_state': None, 'splitter': 'best'}\n"
          ]
        }
      ],
      "source": [
        "# CART Tree (decision tree)\n",
        "cart = DecisionTreeRegressor()\n",
        "\n",
        "scores = cross_validate(cart, X, y, cv=random_splits, scoring=all_scores, return_train_score=True)\n",
        "print(\"Training Set\")\n",
        "print(\"RMSE\",np.mean(scores[\"train_RMSE\"]))\n",
        "print(\"R2\",np.mean(scores[\"train_R2\"]))\n",
        "print(\"MAE\",np.mean(scores[\"train_MAE\"]))\n",
        "print(\"APE\",np.mean(scores[\"train_APE\"]))\n",
        "print(\"Validation Set\")\n",
        "print(\"RMSE\",np.mean(scores[\"test_RMSE\"]))\n",
        "print(\"R2\",np.mean(scores[\"test_R2\"]))\n",
        "print(\"MAE\",np.mean(scores[\"test_MAE\"]))\n",
        "print(\"APE\",np.mean(scores[\"test_APE\"]))\n",
        "\n",
        "print(\"Hyperparameters:\", cart.get_params())"
      ]
    },
    {
      "cell_type": "markdown",
      "metadata": {},
      "source": [
        "# Hyperparameter Optimisation"
      ]
    },
    {
      "cell_type": "code",
      "execution_count": 14,
      "metadata": {},
      "outputs": [],
      "source": [
        "def testANN(param):\n",
        "    # max iterations\n",
        "    # size of layers\n",
        "    # number of hidden layers\n",
        "    # learning rate (Scale??)\n",
        "    mlp = MLPRegressor(max_iter=round(param[0]), hidden_layer_sizes=[round(param[1]) for _ in range(round(param[2]))], learning_rate_init=param[3],random_state=1, early_stopping=False)\n",
        "    scores = cross_validate(mlp, X, y, cv=random_splits, scoring=all_scores, return_train_score=True)\n",
        "    return np.mean(scores[\"test_APE\"])-np.mean(scores[\"test_R2\"])\n",
        "\n",
        "def testRF(param):\n",
        "    # number of estimators\n",
        "    # max depth\n",
        "    # minimum samples per leaf\n",
        "    rf = RandomForestRegressor(n_estimators=round(param[0]), max_depth=round(param[1]), min_samples_leaf=round(param[2]))\n",
        "    scores = cross_validate(rf, X, y, cv=random_splits, scoring=all_scores, return_train_score=True)\n",
        "    return np.mean(scores[\"test_APE\"])-np.mean(scores[\"test_R2\"])\n",
        "\n",
        "def testSVR(param):\n",
        "    # C\n",
        "    # epsilon?\n",
        "    svr = SVR(C=param[0], epsilon=param[1])\n",
        "    scores = cross_validate(svr, X, y, cv=random_splits, scoring=all_scores, return_train_score=True)\n",
        "    return np.mean(scores[\"test_APE\"])-np.mean(scores[\"test_R2\"])\n",
        "\n",
        "def testDT(param):#CART Tree\n",
        "    # max depth\n",
        "    # minimum samples per leaf\n",
        "    dt = DecisionTreeRegressor(max_depth=round(param[0]), min_samples_leaf=round(param[1]))\n",
        "    scores = cross_validate(dt, X, y, cv=random_splits, scoring=all_scores, return_train_score=True)\n",
        "    return np.mean(scores[\"test_APE\"])-np.mean(scores[\"test_R2\"])\n",
        "\n",
        "\n",
        "def optimiseModel(params, modelfunc=testRF):\n",
        "    out = np.array([modelfunc(param) for param in params])\n",
        "    return out"
      ]
    },
    {
      "cell_type": "code",
      "execution_count": 15,
      "metadata": {},
      "outputs": [
        {
          "name": "stderr",
          "output_type": "stream",
          "text": [
            "2024-05-01 19:57:23,084 - pyswarms.single.global_best - INFO - Optimize for 10 iters with {'c1': 0.5, 'c2': 0.3, 'w': 0.9}\n",
            "pyswarms.single.global_best: 100%|██████████|10/10, best_cost=0.096\n",
            "2024-05-01 20:00:43,077 - pyswarms.single.global_best - INFO - Optimization finished | best cost: 0.09596891661081008, best pos: [90.63889129 13.83597348  3.98377291]\n"
          ]
        },
        {
          "name": "stdout",
          "output_type": "stream",
          "text": [
            "0.09596891661081008\n",
            "optimal parameters:  [90.63889129 13.83597348  3.98377291]\n"
          ]
        }
      ],
      "source": [
        "\n",
        "bounds = (np.array([10,  2,  1]),\n",
        "          np.array([100, 15, 10]))\n",
        "# bounds:\n",
        "#   upper + lower bounds of parameter values to test\n",
        "#   format -> (np array of upper bounds,\n",
        "#              np array of lower bounds)\n",
        "\n",
        "options = {'c1': 0.5, 'c2': 0.3, 'w': 0.9}# i think just keep these the same\n",
        "optimizer = GlobalBestPSO(n_particles=5, dimensions=3, options=options, bounds=bounds)# dimensions = number of parameters to optimise\n",
        "\n",
        "cost, pos = optimizer.optimize(optimiseModel, 10, verbose=True, modelfunc=testRF) #change this to optimise different models (e.g. testRF, testSVR, testDT)\n",
        "\n",
        "print(cost)\n",
        "print(\"optimal parameters: \",pos)\n",
        "\n",
        "\n",
        "\n",
        "\n",
        "# --------------------- RF experimentation results ----------------------\n",
        "\n",
        "# R2 (10 particles, 100 iter)\n",
        "# 59   6   3\n",
        "# 57  11   3\n",
        "\n",
        "# R2 (10 particles, 1000 iter)\n",
        "# 42  11   3\n",
        "\n",
        "# R2+APE (10 particles, 500 iter)\n",
        "# 49  11   2\n",
        "# 45   9   4\n",
        "\n",
        "# R2+APE (20 particles, 500 iter)\n",
        "# 84   9   3\n",
        "# 61  10   3\n",
        "\n",
        "# R2+APE (20 particles, 100 iter)\n",
        "# 84   9   3\n",
        "# 60  12   2\n",
        "\n",
        "# -> increased MC crossvalidation n_splits to increase consistency\n",
        "\n",
        "# -----------------------------------------------------------------------\n",
        "\n",
        "\n",
        "\n",
        "\n",
        "# could use multiprocessing to speed it up, but then can't use ipynb"
      ]
    },
    {
      "cell_type": "code",
      "execution_count": 16,
      "metadata": {},
      "outputs": [],
      "source": [
        "np.save(\"pos_history\",np.array(optimizer.pos_history))"
      ]
    },
    {
      "cell_type": "code",
      "execution_count": 38,
      "metadata": {},
      "outputs": [
        {
          "name": "stdout",
          "output_type": "stream",
          "text": [
            "100\n",
            "(20, 3)\n",
            "[[67.51098057 11.64340192  3.58862353]\n",
            " [78.16407114  9.79862685  9.30253853]\n",
            " [51.16971792  6.16177102  3.44817495]\n",
            " [95.24126042  7.79798048  6.16330602]\n",
            " [21.6481137   2.4758367   4.85837461]]\n",
            "100\n",
            "(20, 2)\n",
            "[[67.51098057  3.58862353]\n",
            " [78.16407114  9.30253853]\n",
            " [51.16971792  3.44817495]\n",
            " [95.24126042  6.16330602]\n",
            " [21.6481137   4.85837461]]\n"
          ]
        },
        {
          "data": {
            "application/javascript": "/* Put everything inside the global mpl namespace */\n/* global mpl */\nwindow.mpl = {};\n\nmpl.get_websocket_type = function () {\n    if (typeof WebSocket !== 'undefined') {\n        return WebSocket;\n    } else if (typeof MozWebSocket !== 'undefined') {\n        return MozWebSocket;\n    } else {\n        alert(\n            'Your browser does not have WebSocket support. ' +\n                'Please try Chrome, Safari or Firefox ≥ 6. ' +\n                'Firefox 4 and 5 are also supported but you ' +\n                'have to enable WebSockets in about:config.'\n        );\n    }\n};\n\nmpl.figure = function (figure_id, websocket, ondownload, parent_element) {\n    this.id = figure_id;\n\n    this.ws = websocket;\n\n    this.supports_binary = this.ws.binaryType !== undefined;\n\n    if (!this.supports_binary) {\n        var warnings = document.getElementById('mpl-warnings');\n        if (warnings) {\n            warnings.style.display = 'block';\n            warnings.textContent =\n                'This browser does not support binary websocket messages. ' +\n                'Performance may be slow.';\n        }\n    }\n\n    this.imageObj = new Image();\n\n    this.context = undefined;\n    this.message = undefined;\n    this.canvas = undefined;\n    this.rubberband_canvas = undefined;\n    this.rubberband_context = undefined;\n    this.format_dropdown = undefined;\n\n    this.image_mode = 'full';\n\n    this.root = document.createElement('div');\n    this.root.setAttribute('style', 'display: inline-block');\n    this._root_extra_style(this.root);\n\n    parent_element.appendChild(this.root);\n\n    this._init_header(this);\n    this._init_canvas(this);\n    this._init_toolbar(this);\n\n    var fig = this;\n\n    this.waiting = false;\n\n    this.ws.onopen = function () {\n        fig.send_message('supports_binary', { value: fig.supports_binary });\n        fig.send_message('send_image_mode', {});\n        if (fig.ratio !== 1) {\n            fig.send_message('set_device_pixel_ratio', {\n                device_pixel_ratio: fig.ratio,\n            });\n        }\n        fig.send_message('refresh', {});\n    };\n\n    this.imageObj.onload = function () {\n        if (fig.image_mode === 'full') {\n            // Full images could contain transparency (where diff images\n            // almost always do), so we need to clear the canvas so that\n            // there is no ghosting.\n            fig.context.clearRect(0, 0, fig.canvas.width, fig.canvas.height);\n        }\n        fig.context.drawImage(fig.imageObj, 0, 0);\n    };\n\n    this.imageObj.onunload = function () {\n        fig.ws.close();\n    };\n\n    this.ws.onmessage = this._make_on_message_function(this);\n\n    this.ondownload = ondownload;\n};\n\nmpl.figure.prototype._init_header = function () {\n    var titlebar = document.createElement('div');\n    titlebar.classList =\n        'ui-dialog-titlebar ui-widget-header ui-corner-all ui-helper-clearfix';\n    var titletext = document.createElement('div');\n    titletext.classList = 'ui-dialog-title';\n    titletext.setAttribute(\n        'style',\n        'width: 100%; text-align: center; padding: 3px;'\n    );\n    titlebar.appendChild(titletext);\n    this.root.appendChild(titlebar);\n    this.header = titletext;\n};\n\nmpl.figure.prototype._canvas_extra_style = function (_canvas_div) {};\n\nmpl.figure.prototype._root_extra_style = function (_canvas_div) {};\n\nmpl.figure.prototype._init_canvas = function () {\n    var fig = this;\n\n    var canvas_div = (this.canvas_div = document.createElement('div'));\n    canvas_div.setAttribute('tabindex', '0');\n    canvas_div.setAttribute(\n        'style',\n        'border: 1px solid #ddd;' +\n            'box-sizing: content-box;' +\n            'clear: both;' +\n            'min-height: 1px;' +\n            'min-width: 1px;' +\n            'outline: 0;' +\n            'overflow: hidden;' +\n            'position: relative;' +\n            'resize: both;' +\n            'z-index: 2;'\n    );\n\n    function on_keyboard_event_closure(name) {\n        return function (event) {\n            return fig.key_event(event, name);\n        };\n    }\n\n    canvas_div.addEventListener(\n        'keydown',\n        on_keyboard_event_closure('key_press')\n    );\n    canvas_div.addEventListener(\n        'keyup',\n        on_keyboard_event_closure('key_release')\n    );\n\n    this._canvas_extra_style(canvas_div);\n    this.root.appendChild(canvas_div);\n\n    var canvas = (this.canvas = document.createElement('canvas'));\n    canvas.classList.add('mpl-canvas');\n    canvas.setAttribute(\n        'style',\n        'box-sizing: content-box;' +\n            'pointer-events: none;' +\n            'position: relative;' +\n            'z-index: 0;'\n    );\n\n    this.context = canvas.getContext('2d');\n\n    var backingStore =\n        this.context.backingStorePixelRatio ||\n        this.context.webkitBackingStorePixelRatio ||\n        this.context.mozBackingStorePixelRatio ||\n        this.context.msBackingStorePixelRatio ||\n        this.context.oBackingStorePixelRatio ||\n        this.context.backingStorePixelRatio ||\n        1;\n\n    this.ratio = (window.devicePixelRatio || 1) / backingStore;\n\n    var rubberband_canvas = (this.rubberband_canvas = document.createElement(\n        'canvas'\n    ));\n    rubberband_canvas.setAttribute(\n        'style',\n        'box-sizing: content-box;' +\n            'left: 0;' +\n            'pointer-events: none;' +\n            'position: absolute;' +\n            'top: 0;' +\n            'z-index: 1;'\n    );\n\n    // Apply a ponyfill if ResizeObserver is not implemented by browser.\n    if (this.ResizeObserver === undefined) {\n        if (window.ResizeObserver !== undefined) {\n            this.ResizeObserver = window.ResizeObserver;\n        } else {\n            var obs = _JSXTOOLS_RESIZE_OBSERVER({});\n            this.ResizeObserver = obs.ResizeObserver;\n        }\n    }\n\n    this.resizeObserverInstance = new this.ResizeObserver(function (entries) {\n        var nentries = entries.length;\n        for (var i = 0; i < nentries; i++) {\n            var entry = entries[i];\n            var width, height;\n            if (entry.contentBoxSize) {\n                if (entry.contentBoxSize instanceof Array) {\n                    // Chrome 84 implements new version of spec.\n                    width = entry.contentBoxSize[0].inlineSize;\n                    height = entry.contentBoxSize[0].blockSize;\n                } else {\n                    // Firefox implements old version of spec.\n                    width = entry.contentBoxSize.inlineSize;\n                    height = entry.contentBoxSize.blockSize;\n                }\n            } else {\n                // Chrome <84 implements even older version of spec.\n                width = entry.contentRect.width;\n                height = entry.contentRect.height;\n            }\n\n            // Keep the size of the canvas and rubber band canvas in sync with\n            // the canvas container.\n            if (entry.devicePixelContentBoxSize) {\n                // Chrome 84 implements new version of spec.\n                canvas.setAttribute(\n                    'width',\n                    entry.devicePixelContentBoxSize[0].inlineSize\n                );\n                canvas.setAttribute(\n                    'height',\n                    entry.devicePixelContentBoxSize[0].blockSize\n                );\n            } else {\n                canvas.setAttribute('width', width * fig.ratio);\n                canvas.setAttribute('height', height * fig.ratio);\n            }\n            /* This rescales the canvas back to display pixels, so that it\n             * appears correct on HiDPI screens. */\n            canvas.style.width = width + 'px';\n            canvas.style.height = height + 'px';\n\n            rubberband_canvas.setAttribute('width', width);\n            rubberband_canvas.setAttribute('height', height);\n\n            // And update the size in Python. We ignore the initial 0/0 size\n            // that occurs as the element is placed into the DOM, which should\n            // otherwise not happen due to the minimum size styling.\n            if (fig.ws.readyState == 1 && width != 0 && height != 0) {\n                fig.request_resize(width, height);\n            }\n        }\n    });\n    this.resizeObserverInstance.observe(canvas_div);\n\n    function on_mouse_event_closure(name) {\n        /* User Agent sniffing is bad, but WebKit is busted:\n         * https://bugs.webkit.org/show_bug.cgi?id=144526\n         * https://bugs.webkit.org/show_bug.cgi?id=181818\n         * The worst that happens here is that they get an extra browser\n         * selection when dragging, if this check fails to catch them.\n         */\n        var UA = navigator.userAgent;\n        var isWebKit = /AppleWebKit/.test(UA) && !/Chrome/.test(UA);\n        if(isWebKit) {\n            return function (event) {\n                /* This prevents the web browser from automatically changing to\n                 * the text insertion cursor when the button is pressed. We\n                 * want to control all of the cursor setting manually through\n                 * the 'cursor' event from matplotlib */\n                event.preventDefault()\n                return fig.mouse_event(event, name);\n            };\n        } else {\n            return function (event) {\n                return fig.mouse_event(event, name);\n            };\n        }\n    }\n\n    canvas_div.addEventListener(\n        'mousedown',\n        on_mouse_event_closure('button_press')\n    );\n    canvas_div.addEventListener(\n        'mouseup',\n        on_mouse_event_closure('button_release')\n    );\n    canvas_div.addEventListener(\n        'dblclick',\n        on_mouse_event_closure('dblclick')\n    );\n    // Throttle sequential mouse events to 1 every 20ms.\n    canvas_div.addEventListener(\n        'mousemove',\n        on_mouse_event_closure('motion_notify')\n    );\n\n    canvas_div.addEventListener(\n        'mouseenter',\n        on_mouse_event_closure('figure_enter')\n    );\n    canvas_div.addEventListener(\n        'mouseleave',\n        on_mouse_event_closure('figure_leave')\n    );\n\n    canvas_div.addEventListener('wheel', function (event) {\n        if (event.deltaY < 0) {\n            event.step = 1;\n        } else {\n            event.step = -1;\n        }\n        on_mouse_event_closure('scroll')(event);\n    });\n\n    canvas_div.appendChild(canvas);\n    canvas_div.appendChild(rubberband_canvas);\n\n    this.rubberband_context = rubberband_canvas.getContext('2d');\n    this.rubberband_context.strokeStyle = '#000000';\n\n    this._resize_canvas = function (width, height, forward) {\n        if (forward) {\n            canvas_div.style.width = width + 'px';\n            canvas_div.style.height = height + 'px';\n        }\n    };\n\n    // Disable right mouse context menu.\n    canvas_div.addEventListener('contextmenu', function (_e) {\n        event.preventDefault();\n        return false;\n    });\n\n    function set_focus() {\n        canvas.focus();\n        canvas_div.focus();\n    }\n\n    window.setTimeout(set_focus, 100);\n};\n\nmpl.figure.prototype._init_toolbar = function () {\n    var fig = this;\n\n    var toolbar = document.createElement('div');\n    toolbar.classList = 'mpl-toolbar';\n    this.root.appendChild(toolbar);\n\n    function on_click_closure(name) {\n        return function (_event) {\n            return fig.toolbar_button_onclick(name);\n        };\n    }\n\n    function on_mouseover_closure(tooltip) {\n        return function (event) {\n            if (!event.currentTarget.disabled) {\n                return fig.toolbar_button_onmouseover(tooltip);\n            }\n        };\n    }\n\n    fig.buttons = {};\n    var buttonGroup = document.createElement('div');\n    buttonGroup.classList = 'mpl-button-group';\n    for (var toolbar_ind in mpl.toolbar_items) {\n        var name = mpl.toolbar_items[toolbar_ind][0];\n        var tooltip = mpl.toolbar_items[toolbar_ind][1];\n        var image = mpl.toolbar_items[toolbar_ind][2];\n        var method_name = mpl.toolbar_items[toolbar_ind][3];\n\n        if (!name) {\n            /* Instead of a spacer, we start a new button group. */\n            if (buttonGroup.hasChildNodes()) {\n                toolbar.appendChild(buttonGroup);\n            }\n            buttonGroup = document.createElement('div');\n            buttonGroup.classList = 'mpl-button-group';\n            continue;\n        }\n\n        var button = (fig.buttons[name] = document.createElement('button'));\n        button.classList = 'mpl-widget';\n        button.setAttribute('role', 'button');\n        button.setAttribute('aria-disabled', 'false');\n        button.addEventListener('click', on_click_closure(method_name));\n        button.addEventListener('mouseover', on_mouseover_closure(tooltip));\n\n        var icon_img = document.createElement('img');\n        icon_img.src = '_images/' + image + '.png';\n        icon_img.srcset = '_images/' + image + '_large.png 2x';\n        icon_img.alt = tooltip;\n        button.appendChild(icon_img);\n\n        buttonGroup.appendChild(button);\n    }\n\n    if (buttonGroup.hasChildNodes()) {\n        toolbar.appendChild(buttonGroup);\n    }\n\n    var fmt_picker = document.createElement('select');\n    fmt_picker.classList = 'mpl-widget';\n    toolbar.appendChild(fmt_picker);\n    this.format_dropdown = fmt_picker;\n\n    for (var ind in mpl.extensions) {\n        var fmt = mpl.extensions[ind];\n        var option = document.createElement('option');\n        option.selected = fmt === mpl.default_extension;\n        option.innerHTML = fmt;\n        fmt_picker.appendChild(option);\n    }\n\n    var status_bar = document.createElement('span');\n    status_bar.classList = 'mpl-message';\n    toolbar.appendChild(status_bar);\n    this.message = status_bar;\n};\n\nmpl.figure.prototype.request_resize = function (x_pixels, y_pixels) {\n    // Request matplotlib to resize the figure. Matplotlib will then trigger a resize in the client,\n    // which will in turn request a refresh of the image.\n    this.send_message('resize', { width: x_pixels, height: y_pixels });\n};\n\nmpl.figure.prototype.send_message = function (type, properties) {\n    properties['type'] = type;\n    properties['figure_id'] = this.id;\n    this.ws.send(JSON.stringify(properties));\n};\n\nmpl.figure.prototype.send_draw_message = function () {\n    if (!this.waiting) {\n        this.waiting = true;\n        this.ws.send(JSON.stringify({ type: 'draw', figure_id: this.id }));\n    }\n};\n\nmpl.figure.prototype.handle_save = function (fig, _msg) {\n    var format_dropdown = fig.format_dropdown;\n    var format = format_dropdown.options[format_dropdown.selectedIndex].value;\n    fig.ondownload(fig, format);\n};\n\nmpl.figure.prototype.handle_resize = function (fig, msg) {\n    var size = msg['size'];\n    if (size[0] !== fig.canvas.width || size[1] !== fig.canvas.height) {\n        fig._resize_canvas(size[0], size[1], msg['forward']);\n        fig.send_message('refresh', {});\n    }\n};\n\nmpl.figure.prototype.handle_rubberband = function (fig, msg) {\n    var x0 = msg['x0'] / fig.ratio;\n    var y0 = (fig.canvas.height - msg['y0']) / fig.ratio;\n    var x1 = msg['x1'] / fig.ratio;\n    var y1 = (fig.canvas.height - msg['y1']) / fig.ratio;\n    x0 = Math.floor(x0) + 0.5;\n    y0 = Math.floor(y0) + 0.5;\n    x1 = Math.floor(x1) + 0.5;\n    y1 = Math.floor(y1) + 0.5;\n    var min_x = Math.min(x0, x1);\n    var min_y = Math.min(y0, y1);\n    var width = Math.abs(x1 - x0);\n    var height = Math.abs(y1 - y0);\n\n    fig.rubberband_context.clearRect(\n        0,\n        0,\n        fig.canvas.width / fig.ratio,\n        fig.canvas.height / fig.ratio\n    );\n\n    fig.rubberband_context.strokeRect(min_x, min_y, width, height);\n};\n\nmpl.figure.prototype.handle_figure_label = function (fig, msg) {\n    // Updates the figure title.\n    fig.header.textContent = msg['label'];\n};\n\nmpl.figure.prototype.handle_cursor = function (fig, msg) {\n    fig.canvas_div.style.cursor = msg['cursor'];\n};\n\nmpl.figure.prototype.handle_message = function (fig, msg) {\n    fig.message.textContent = msg['message'];\n};\n\nmpl.figure.prototype.handle_draw = function (fig, _msg) {\n    // Request the server to send over a new figure.\n    fig.send_draw_message();\n};\n\nmpl.figure.prototype.handle_image_mode = function (fig, msg) {\n    fig.image_mode = msg['mode'];\n};\n\nmpl.figure.prototype.handle_history_buttons = function (fig, msg) {\n    for (var key in msg) {\n        if (!(key in fig.buttons)) {\n            continue;\n        }\n        fig.buttons[key].disabled = !msg[key];\n        fig.buttons[key].setAttribute('aria-disabled', !msg[key]);\n    }\n};\n\nmpl.figure.prototype.handle_navigate_mode = function (fig, msg) {\n    if (msg['mode'] === 'PAN') {\n        fig.buttons['Pan'].classList.add('active');\n        fig.buttons['Zoom'].classList.remove('active');\n    } else if (msg['mode'] === 'ZOOM') {\n        fig.buttons['Pan'].classList.remove('active');\n        fig.buttons['Zoom'].classList.add('active');\n    } else {\n        fig.buttons['Pan'].classList.remove('active');\n        fig.buttons['Zoom'].classList.remove('active');\n    }\n};\n\nmpl.figure.prototype.updated_canvas_event = function () {\n    // Called whenever the canvas gets updated.\n    this.send_message('ack', {});\n};\n\n// A function to construct a web socket function for onmessage handling.\n// Called in the figure constructor.\nmpl.figure.prototype._make_on_message_function = function (fig) {\n    return function socket_on_message(evt) {\n        if (evt.data instanceof Blob) {\n            var img = evt.data;\n            if (img.type !== 'image/png') {\n                /* FIXME: We get \"Resource interpreted as Image but\n                 * transferred with MIME type text/plain:\" errors on\n                 * Chrome.  But how to set the MIME type?  It doesn't seem\n                 * to be part of the websocket stream */\n                img.type = 'image/png';\n            }\n\n            /* Free the memory for the previous frames */\n            if (fig.imageObj.src) {\n                (window.URL || window.webkitURL).revokeObjectURL(\n                    fig.imageObj.src\n                );\n            }\n\n            fig.imageObj.src = (window.URL || window.webkitURL).createObjectURL(\n                img\n            );\n            fig.updated_canvas_event();\n            fig.waiting = false;\n            return;\n        } else if (\n            typeof evt.data === 'string' &&\n            evt.data.slice(0, 21) === 'data:image/png;base64'\n        ) {\n            fig.imageObj.src = evt.data;\n            fig.updated_canvas_event();\n            fig.waiting = false;\n            return;\n        }\n\n        var msg = JSON.parse(evt.data);\n        var msg_type = msg['type'];\n\n        // Call the  \"handle_{type}\" callback, which takes\n        // the figure and JSON message as its only arguments.\n        try {\n            var callback = fig['handle_' + msg_type];\n        } catch (e) {\n            console.log(\n                \"No handler for the '\" + msg_type + \"' message type: \",\n                msg\n            );\n            return;\n        }\n\n        if (callback) {\n            try {\n                // console.log(\"Handling '\" + msg_type + \"' message: \", msg);\n                callback(fig, msg);\n            } catch (e) {\n                console.log(\n                    \"Exception inside the 'handler_\" + msg_type + \"' callback:\",\n                    e,\n                    e.stack,\n                    msg\n                );\n            }\n        }\n    };\n};\n\nfunction getModifiers(event) {\n    var mods = [];\n    if (event.ctrlKey) {\n        mods.push('ctrl');\n    }\n    if (event.altKey) {\n        mods.push('alt');\n    }\n    if (event.shiftKey) {\n        mods.push('shift');\n    }\n    if (event.metaKey) {\n        mods.push('meta');\n    }\n    return mods;\n}\n\n/*\n * return a copy of an object with only non-object keys\n * we need this to avoid circular references\n * https://stackoverflow.com/a/24161582/3208463\n */\nfunction simpleKeys(original) {\n    return Object.keys(original).reduce(function (obj, key) {\n        if (typeof original[key] !== 'object') {\n            obj[key] = original[key];\n        }\n        return obj;\n    }, {});\n}\n\nmpl.figure.prototype.mouse_event = function (event, name) {\n    if (name === 'button_press') {\n        this.canvas.focus();\n        this.canvas_div.focus();\n    }\n\n    // from https://stackoverflow.com/q/1114465\n    var boundingRect = this.canvas.getBoundingClientRect();\n    var x = (event.clientX - boundingRect.left) * this.ratio;\n    var y = (event.clientY - boundingRect.top) * this.ratio;\n\n    this.send_message(name, {\n        x: x,\n        y: y,\n        button: event.button,\n        step: event.step,\n        modifiers: getModifiers(event),\n        guiEvent: simpleKeys(event),\n    });\n\n    return false;\n};\n\nmpl.figure.prototype._key_event_extra = function (_event, _name) {\n    // Handle any extra behaviour associated with a key event\n};\n\nmpl.figure.prototype.key_event = function (event, name) {\n    // Prevent repeat events\n    if (name === 'key_press') {\n        if (event.key === this._key) {\n            return;\n        } else {\n            this._key = event.key;\n        }\n    }\n    if (name === 'key_release') {\n        this._key = null;\n    }\n\n    var value = '';\n    if (event.ctrlKey && event.key !== 'Control') {\n        value += 'ctrl+';\n    }\n    else if (event.altKey && event.key !== 'Alt') {\n        value += 'alt+';\n    }\n    else if (event.shiftKey && event.key !== 'Shift') {\n        value += 'shift+';\n    }\n\n    value += 'k' + event.key;\n\n    this._key_event_extra(event, name);\n\n    this.send_message(name, { key: value, guiEvent: simpleKeys(event) });\n    return false;\n};\n\nmpl.figure.prototype.toolbar_button_onclick = function (name) {\n    if (name === 'download') {\n        this.handle_save(this, null);\n    } else {\n        this.send_message('toolbar_button', { name: name });\n    }\n};\n\nmpl.figure.prototype.toolbar_button_onmouseover = function (tooltip) {\n    this.message.textContent = tooltip;\n};\n\n///////////////// REMAINING CONTENT GENERATED BY embed_js.py /////////////////\n// prettier-ignore\nvar _JSXTOOLS_RESIZE_OBSERVER=function(A){var t,i=new WeakMap,n=new WeakMap,a=new WeakMap,r=new WeakMap,o=new Set;function s(e){if(!(this instanceof s))throw new TypeError(\"Constructor requires 'new' operator\");i.set(this,e)}function h(){throw new TypeError(\"Function is not a constructor\")}function c(e,t,i,n){e=0 in arguments?Number(arguments[0]):0,t=1 in arguments?Number(arguments[1]):0,i=2 in arguments?Number(arguments[2]):0,n=3 in arguments?Number(arguments[3]):0,this.right=(this.x=this.left=e)+(this.width=i),this.bottom=(this.y=this.top=t)+(this.height=n),Object.freeze(this)}function d(){t=requestAnimationFrame(d);var s=new WeakMap,p=new Set;o.forEach((function(t){r.get(t).forEach((function(i){var r=t instanceof window.SVGElement,o=a.get(t),d=r?0:parseFloat(o.paddingTop),f=r?0:parseFloat(o.paddingRight),l=r?0:parseFloat(o.paddingBottom),u=r?0:parseFloat(o.paddingLeft),g=r?0:parseFloat(o.borderTopWidth),m=r?0:parseFloat(o.borderRightWidth),w=r?0:parseFloat(o.borderBottomWidth),b=u+f,F=d+l,v=(r?0:parseFloat(o.borderLeftWidth))+m,W=g+w,y=r?0:t.offsetHeight-W-t.clientHeight,E=r?0:t.offsetWidth-v-t.clientWidth,R=b+v,z=F+W,M=r?t.width:parseFloat(o.width)-R-E,O=r?t.height:parseFloat(o.height)-z-y;if(n.has(t)){var k=n.get(t);if(k[0]===M&&k[1]===O)return}n.set(t,[M,O]);var S=Object.create(h.prototype);S.target=t,S.contentRect=new c(u,d,M,O),s.has(i)||(s.set(i,[]),p.add(i)),s.get(i).push(S)}))})),p.forEach((function(e){i.get(e).call(e,s.get(e),e)}))}return s.prototype.observe=function(i){if(i instanceof window.Element){r.has(i)||(r.set(i,new Set),o.add(i),a.set(i,window.getComputedStyle(i)));var n=r.get(i);n.has(this)||n.add(this),cancelAnimationFrame(t),t=requestAnimationFrame(d)}},s.prototype.unobserve=function(i){if(i instanceof window.Element&&r.has(i)){var n=r.get(i);n.has(this)&&(n.delete(this),n.size||(r.delete(i),o.delete(i))),n.size||r.delete(i),o.size||cancelAnimationFrame(t)}},A.DOMRectReadOnly=c,A.ResizeObserver=s,A.ResizeObserverEntry=h,A}; // eslint-disable-line\nmpl.toolbar_items = [[\"Home\", \"Reset original view\", \"fa fa-home\", \"home\"], [\"Back\", \"Back to previous view\", \"fa fa-arrow-left\", \"back\"], [\"Forward\", \"Forward to next view\", \"fa fa-arrow-right\", \"forward\"], [\"\", \"\", \"\", \"\"], [\"Pan\", \"Left button pans, Right button zooms\\nx/y fixes axis, CTRL fixes aspect\", \"fa fa-arrows\", \"pan\"], [\"Zoom\", \"Zoom to rectangle\\nx/y fixes axis\", \"fa fa-square-o\", \"zoom\"], [\"\", \"\", \"\", \"\"], [\"Download\", \"Download plot\", \"fa fa-floppy-o\", \"download\"]];\n\nmpl.extensions = [\"eps\", \"jpeg\", \"pgf\", \"pdf\", \"png\", \"ps\", \"raw\", \"svg\", \"tif\", \"webp\"];\n\nmpl.default_extension = \"png\";/* global mpl */\n\nvar comm_websocket_adapter = function (comm) {\n    // Create a \"websocket\"-like object which calls the given IPython comm\n    // object with the appropriate methods. Currently this is a non binary\n    // socket, so there is still some room for performance tuning.\n    var ws = {};\n\n    ws.binaryType = comm.kernel.ws.binaryType;\n    ws.readyState = comm.kernel.ws.readyState;\n    function updateReadyState(_event) {\n        if (comm.kernel.ws) {\n            ws.readyState = comm.kernel.ws.readyState;\n        } else {\n            ws.readyState = 3; // Closed state.\n        }\n    }\n    comm.kernel.ws.addEventListener('open', updateReadyState);\n    comm.kernel.ws.addEventListener('close', updateReadyState);\n    comm.kernel.ws.addEventListener('error', updateReadyState);\n\n    ws.close = function () {\n        comm.close();\n    };\n    ws.send = function (m) {\n        //console.log('sending', m);\n        comm.send(m);\n    };\n    // Register the callback with on_msg.\n    comm.on_msg(function (msg) {\n        //console.log('receiving', msg['content']['data'], msg);\n        var data = msg['content']['data'];\n        if (data['blob'] !== undefined) {\n            data = {\n                data: new Blob(msg['buffers'], { type: data['blob'] }),\n            };\n        }\n        // Pass the mpl event to the overridden (by mpl) onmessage function.\n        ws.onmessage(data);\n    });\n    return ws;\n};\n\nmpl.mpl_figure_comm = function (comm, msg) {\n    // This is the function which gets called when the mpl process\n    // starts-up an IPython Comm through the \"matplotlib\" channel.\n\n    var id = msg.content.data.id;\n    // Get hold of the div created by the display call when the Comm\n    // socket was opened in Python.\n    var element = document.getElementById(id);\n    var ws_proxy = comm_websocket_adapter(comm);\n\n    function ondownload(figure, _format) {\n        window.open(figure.canvas.toDataURL());\n    }\n\n    var fig = new mpl.figure(id, ws_proxy, ondownload, element);\n\n    // Call onopen now - mpl needs it, as it is assuming we've passed it a real\n    // web socket which is closed, not our websocket->open comm proxy.\n    ws_proxy.onopen();\n\n    fig.parent_element = element;\n    fig.cell_info = mpl.find_output_cell(\"<div id='\" + id + \"'></div>\");\n    if (!fig.cell_info) {\n        console.error('Failed to find cell for figure', id, fig);\n        return;\n    }\n    fig.cell_info[0].output_area.element.on(\n        'cleared',\n        { fig: fig },\n        fig._remove_fig_handler\n    );\n};\n\nmpl.figure.prototype.handle_close = function (fig, msg) {\n    var width = fig.canvas.width / fig.ratio;\n    fig.cell_info[0].output_area.element.off(\n        'cleared',\n        fig._remove_fig_handler\n    );\n    fig.resizeObserverInstance.unobserve(fig.canvas_div);\n\n    // Update the output cell to use the data from the current canvas.\n    fig.push_to_output();\n    var dataURL = fig.canvas.toDataURL();\n    // Re-enable the keyboard manager in IPython - without this line, in FF,\n    // the notebook keyboard shortcuts fail.\n    IPython.keyboard_manager.enable();\n    fig.parent_element.innerHTML =\n        '<img src=\"' + dataURL + '\" width=\"' + width + '\">';\n    fig.close_ws(fig, msg);\n};\n\nmpl.figure.prototype.close_ws = function (fig, msg) {\n    fig.send_message('closing', msg);\n    // fig.ws.close()\n};\n\nmpl.figure.prototype.push_to_output = function (_remove_interactive) {\n    // Turn the data on the canvas into data in the output cell.\n    var width = this.canvas.width / this.ratio;\n    var dataURL = this.canvas.toDataURL();\n    this.cell_info[1]['text/html'] =\n        '<img src=\"' + dataURL + '\" width=\"' + width + '\">';\n};\n\nmpl.figure.prototype.updated_canvas_event = function () {\n    // Tell IPython that the notebook contents must change.\n    IPython.notebook.set_dirty(true);\n    this.send_message('ack', {});\n    var fig = this;\n    // Wait a second, then push the new image to the DOM so\n    // that it is saved nicely (might be nice to debounce this).\n    setTimeout(function () {\n        fig.push_to_output();\n    }, 1000);\n};\n\nmpl.figure.prototype._init_toolbar = function () {\n    var fig = this;\n\n    var toolbar = document.createElement('div');\n    toolbar.classList = 'btn-toolbar';\n    this.root.appendChild(toolbar);\n\n    function on_click_closure(name) {\n        return function (_event) {\n            return fig.toolbar_button_onclick(name);\n        };\n    }\n\n    function on_mouseover_closure(tooltip) {\n        return function (event) {\n            if (!event.currentTarget.disabled) {\n                return fig.toolbar_button_onmouseover(tooltip);\n            }\n        };\n    }\n\n    fig.buttons = {};\n    var buttonGroup = document.createElement('div');\n    buttonGroup.classList = 'btn-group';\n    var button;\n    for (var toolbar_ind in mpl.toolbar_items) {\n        var name = mpl.toolbar_items[toolbar_ind][0];\n        var tooltip = mpl.toolbar_items[toolbar_ind][1];\n        var image = mpl.toolbar_items[toolbar_ind][2];\n        var method_name = mpl.toolbar_items[toolbar_ind][3];\n\n        if (!name) {\n            /* Instead of a spacer, we start a new button group. */\n            if (buttonGroup.hasChildNodes()) {\n                toolbar.appendChild(buttonGroup);\n            }\n            buttonGroup = document.createElement('div');\n            buttonGroup.classList = 'btn-group';\n            continue;\n        }\n\n        button = fig.buttons[name] = document.createElement('button');\n        button.classList = 'btn btn-default';\n        button.href = '#';\n        button.title = name;\n        button.innerHTML = '<i class=\"fa ' + image + ' fa-lg\"></i>';\n        button.addEventListener('click', on_click_closure(method_name));\n        button.addEventListener('mouseover', on_mouseover_closure(tooltip));\n        buttonGroup.appendChild(button);\n    }\n\n    if (buttonGroup.hasChildNodes()) {\n        toolbar.appendChild(buttonGroup);\n    }\n\n    // Add the status bar.\n    var status_bar = document.createElement('span');\n    status_bar.classList = 'mpl-message pull-right';\n    toolbar.appendChild(status_bar);\n    this.message = status_bar;\n\n    // Add the close button to the window.\n    var buttongrp = document.createElement('div');\n    buttongrp.classList = 'btn-group inline pull-right';\n    button = document.createElement('button');\n    button.classList = 'btn btn-mini btn-primary';\n    button.href = '#';\n    button.title = 'Stop Interaction';\n    button.innerHTML = '<i class=\"fa fa-power-off icon-remove icon-large\"></i>';\n    button.addEventListener('click', function (_evt) {\n        fig.handle_close(fig, {});\n    });\n    button.addEventListener(\n        'mouseover',\n        on_mouseover_closure('Stop Interaction')\n    );\n    buttongrp.appendChild(button);\n    var titlebar = this.root.querySelector('.ui-dialog-titlebar');\n    titlebar.insertBefore(buttongrp, titlebar.firstChild);\n};\n\nmpl.figure.prototype._remove_fig_handler = function (event) {\n    var fig = event.data.fig;\n    if (event.target !== this) {\n        // Ignore bubbled events from children.\n        return;\n    }\n    fig.close_ws(fig, {});\n};\n\nmpl.figure.prototype._root_extra_style = function (el) {\n    el.style.boxSizing = 'content-box'; // override notebook setting of border-box.\n};\n\nmpl.figure.prototype._canvas_extra_style = function (el) {\n    // this is important to make the div 'focusable\n    el.setAttribute('tabindex', 0);\n    // reach out to IPython and tell the keyboard manager to turn it's self\n    // off when our div gets focus\n\n    // location in version 3\n    if (IPython.notebook.keyboard_manager) {\n        IPython.notebook.keyboard_manager.register_events(el);\n    } else {\n        // location in version 2\n        IPython.keyboard_manager.register_events(el);\n    }\n};\n\nmpl.figure.prototype._key_event_extra = function (event, _name) {\n    // Check for shift+enter\n    if (event.shiftKey && event.which === 13) {\n        this.canvas_div.blur();\n        // select the cell after this one\n        var index = IPython.notebook.find_cell_index(this.cell_info[0]);\n        IPython.notebook.select(index + 1);\n    }\n};\n\nmpl.figure.prototype.handle_save = function (fig, _msg) {\n    fig.ondownload(fig, null);\n};\n\nmpl.find_output_cell = function (html_output) {\n    // Return the cell and output element which can be found *uniquely* in the notebook.\n    // Note - this is a bit hacky, but it is done because the \"notebook_saving.Notebook\"\n    // IPython event is triggered only after the cells have been serialised, which for\n    // our purposes (turning an active figure into a static one), is too late.\n    var cells = IPython.notebook.get_cells();\n    var ncells = cells.length;\n    for (var i = 0; i < ncells; i++) {\n        var cell = cells[i];\n        if (cell.cell_type === 'code') {\n            for (var j = 0; j < cell.output_area.outputs.length; j++) {\n                var data = cell.output_area.outputs[j];\n                if (data.data) {\n                    // IPython >= 3 moved mimebundle to data attribute of output\n                    data = data.data;\n                }\n                if (data['text/html'] === html_output) {\n                    return [cell, data, j];\n                }\n            }\n        }\n    }\n};\n\n// Register the function which deals with the matplotlib target/channel.\n// The kernel may be null if the page has been refreshed.\nif (IPython.notebook.kernel !== null) {\n    IPython.notebook.kernel.comm_manager.register_target(\n        'matplotlib',\n        mpl.mpl_figure_comm\n    );\n}\n",
            "text/plain": [
              "<IPython.core.display.Javascript object>"
            ]
          },
          "metadata": {},
          "output_type": "display_data"
        },
        {
          "data": {
            "text/html": [
              "<div id='20ec4a1a-9a92-4d2c-96e6-dc169ab8c11c'></div>"
            ],
            "text/plain": [
              "<IPython.core.display.HTML object>"
            ]
          },
          "metadata": {},
          "output_type": "display_data"
        },
        {
          "name": "stderr",
          "output_type": "stream",
          "text": [
            "2024-05-01 00:40:39,612 - matplotlib.animation - INFO - Animation.save using <class 'matplotlib.animation.ImageMagickWriter'>\n",
            "2024-05-01 00:40:39,613 - matplotlib.animation - INFO - MovieWriter._run: running command: 'C:\\Program Files\\ImageMagick-7.1.1-Q16-HDRI\\magick.exe' -size 1000x800 -depth 8 -delay 10.0 -loop 0 rgba:- -layers OptimizePlus plot2.gif\n"
          ]
        }
      ],
      "source": [
        "# NEXT: try plotting optimisation\n",
        "from pyswarms.utils.plotters.plotters import plot_contour\n",
        "from pyswarms.utils.plotters.formatters import Designer\n",
        "import matplotlib.animation as animation\n",
        "from matplotlib import pyplot as plt\n",
        "from IPython.display import Image\n",
        "\n",
        "print(len(optimizer.pos_history))\n",
        "print(optimizer.pos_history[0].shape)\n",
        "\n",
        "print(optimizer.pos_history[0][:5])\n",
        "\n",
        "pos_history = []\n",
        "for pos_list in optimizer.pos_history:\n",
        "    pos_history.append(np.delete(pos_list,1,1))\n",
        "\n",
        "\n",
        "print(len(pos_history))\n",
        "print(pos_history[0].shape)\n",
        "print(pos_history[0][:5])\n",
        "\n",
        "#needs to be 2d array\n",
        "anim = plot_contour(pos_history, designer=Designer(limits=[(10,100),(1,10)]))\n",
        "\n",
        "anim.save('plot2.gif', writer='imagemagick', fps=10)\n"
      ]
    },
    {
      "cell_type": "markdown",
      "metadata": {
        "id": "RKiiNJ4o7kw-"
      },
      "source": [
        "# Testing"
      ]
    },
    {
      "cell_type": "code",
      "execution_count": 24,
      "metadata": {
        "id": "ltyXN1AK7kw_"
      },
      "outputs": [
        {
          "name": "stdout",
          "output_type": "stream",
          "text": [
            "1051.3603525614853\n",
            "0.5559267577322748\n",
            "712.8431726991315\n",
            "0.3642219775069245\n"
          ]
        }
      ],
      "source": [
        "#use optimal hyperparameters to train model, then test\n",
        "mlp = MLPRegressor(max_iter=400, hidden_layer_sizes=(20), learning_rate_init=0.060, random_state=1, early_stopping=False)\n",
        "mlp.fit(X,y)\n",
        "print(RMSE(mlp,test_X,test_y))\n",
        "print(R2(mlp,test_X,test_y))\n",
        "print(MAE(mlp,test_X,test_y))\n",
        "print(APE(mlp,test_X,test_y))\n",
        "\n",
        "#mlp.score(test_X,test_y)"
      ]
    },
    {
      "cell_type": "markdown",
      "metadata": {
        "id": "p6Qp6DrX7kw_"
      },
      "source": [
        "To add later on if time:  \n",
        "-preprocessing (outliers, etc.)  \n",
        "-ensemble methods (ANN + SVM)"
      ]
    }
  ],
  "metadata": {
    "colab": {
      "provenance": []
    },
    "kernelspec": {
      "display_name": "Python 3",
      "language": "python",
      "name": "python3"
    },
    "language_info": {
      "codemirror_mode": {
        "name": "ipython",
        "version": 3
      },
      "file_extension": ".py",
      "mimetype": "text/x-python",
      "name": "python",
      "nbconvert_exporter": "python",
      "pygments_lexer": "ipython3",
      "version": "3.9.2"
    }
  },
  "nbformat": 4,
  "nbformat_minor": 0
}
